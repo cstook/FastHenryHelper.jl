{
 "cells": [
  {
   "cell_type": "markdown",
   "metadata": {},
   "source": [
    "# Example 4: Use of rectengulararay"
   ]
  },
  {
   "cell_type": "markdown",
   "metadata": {},
   "source": [
    "A 2x3 array of via's is produced using `rectangulararray`. This example does not create a complete FastHenry file."
   ]
  },
  {
   "cell_type": "code",
   "execution_count": 2,
   "metadata": {
    "collapsed": false
   },
   "outputs": [
    {
     "data": {
      "text/plain": [
       "Plots.PlotlyJSBackend()"
      ]
     },
     "execution_count": 2,
     "metadata": {},
     "output_type": "execute_result"
    }
   ],
   "source": [
    "using FastHenryHelper\n",
    "using Plots;plotlyjs()"
   ]
  },
  {
   "cell_type": "markdown",
   "metadata": {},
   "source": [
    "Create a single via at the origin.\n",
    "\n",
    "Parameter `height` is the height of the via and `h` is the thickness of the copper plating (height of the vias segments).  Parameters `topequiv` and `botequiv` determine if the ring of nodes and the center node are connected with an equiv command.  The default setting `true` is used so the center node (`:top` or `:bot`) can connect to a segment.  To connect to a plane `topequiv` and / or  `botequiv` should be set to `false` so `:alltop` and / or `:allbot` can connect to the plane.  "
   ]
  },
  {
   "cell_type": "code",
   "execution_count": 3,
   "metadata": {
    "collapsed": false
   },
   "outputs": [],
   "source": [
    "via = viagroup(radius=5, height=7, h=3, n=8, topequiv = false, botequiv = false);"
   ]
  },
  {
   "cell_type": "markdown",
   "metadata": {},
   "source": [
    "Create a `Group` of six vias\n",
    "\n",
    "As its second parameter, `transform` can accept an iterable returning 4x4 matrices and returns a `Group` containing deepcopies of the `Element` modified by each 4x4 transformation matrix.  If the `Element` is a `Group`, the returned `Group`s terminal dictionary will have the same keys as `Group` passed as a parameter.  The values will be an array of all the `Node`s with corresponding keys.  In other words, the terminals of the returned `Group` will connect all the Groups in parallel.  This behavior is intended to make it easy to connect planes with arrays of vias."
   ]
  },
  {
   "cell_type": "code",
   "execution_count": 4,
   "metadata": {
    "collapsed": false
   },
   "outputs": [],
   "source": [
    "six_vias = transform(via,  rectangulararray([20,40,60],[10,30]));"
   ]
  },
  {
   "cell_type": "markdown",
   "metadata": {},
   "source": [
    "Create objects needed to connect to plane.\n",
    "\n",
    "`planeconnect` returns a tuple of two objects needed to connect to a plane.  In this case, `plane_nodes` is a `deepcopy` of nodes `six_vias[:alltop]` and `equiv_group` connects the corresponding nodes in `plane_nodes` and `six_vias[:alltop]`."
   ]
  },
  {
   "cell_type": "code",
   "execution_count": 5,
   "metadata": {
    "collapsed": false
   },
   "outputs": [],
   "source": [
    "(plane_nodes, equiv_group) = planeconnect(six_vias[:alltop]);"
   ]
  },
  {
   "cell_type": "markdown",
   "metadata": {},
   "source": [
    "Create the plane."
   ]
  },
  {
   "cell_type": "code",
   "execution_count": 6,
   "metadata": {
    "collapsed": false
   },
   "outputs": [],
   "source": [
    "plane = UniformPlane(\n",
    "        x1=80.0, y1= 80.0, z1=0.0,\n",
    "        x2= 0.0, y2= 80.0, z2=0.0,\n",
    "        x3= 0.0, y3= 0.0, z3=0.0,\n",
    "        thick = 1,\n",
    "        seg1=100, seg2=100,\n",
    "        nodes = plane_nodes);"
   ]
  },
  {
   "cell_type": "markdown",
   "metadata": {},
   "source": [
    "Create a `Group` with all elements."
   ]
  },
  {
   "cell_type": "code",
   "execution_count": 7,
   "metadata": {
    "collapsed": false
   },
   "outputs": [],
   "source": [
    "example4 = Group([six_vias;plane;equiv_group]);"
   ]
  },
  {
   "cell_type": "markdown",
   "metadata": {},
   "source": [
    "Create a plot using `Plots` with a `plotly` backend."
   ]
  },
  {
   "cell_type": "code",
   "execution_count": 9,
   "metadata": {
    "collapsed": false
   },
   "outputs": [],
   "source": [
    "plot(example4)"
   ]
  },
  {
   "cell_type": "markdown",
   "metadata": {},
   "source": [
    "Or, use GLVisualise"
   ]
  },
  {
   "cell_type": "code",
   "execution_count": null,
   "metadata": {
    "collapsed": false
   },
   "outputs": [],
   "source": [
    "using GLVisualize\n",
    "m = mesh(example4)\n",
    "window = glscreen()\n",
    "_view(visualize(m), window)\n",
    "renderloop(window)"
   ]
  }
 ],
 "metadata": {
  "kernelspec": {
   "display_name": "Julia 0.5.0-rc3",
   "language": "julia",
   "name": "julia-0.5"
  },
  "language_info": {
   "file_extension": ".jl",
   "mimetype": "application/julia",
   "name": "julia",
   "version": "0.5.0"
  }
 },
 "nbformat": 4,
 "nbformat_minor": 0
}
