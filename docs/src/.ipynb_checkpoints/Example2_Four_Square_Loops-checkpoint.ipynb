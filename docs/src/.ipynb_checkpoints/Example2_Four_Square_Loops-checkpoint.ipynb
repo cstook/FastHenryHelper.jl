{
 "cells": [
  {
   "cell_type": "markdown",
   "metadata": {},
   "source": [
    "# Example 2: Four square loops\n",
    "\n",
    "This example demonstrates using groups to simplify repetitive structures."
   ]
  },
  {
   "cell_type": "markdown",
   "metadata": {},
   "source": [
    "Load the module."
   ]
  },
  {
   "cell_type": "code",
   "execution_count": 2,
   "metadata": {
    "collapsed": false
   },
   "outputs": [],
   "source": [
    "using FastHenryHelper"
   ]
  },
  {
   "cell_type": "markdown",
   "metadata": {},
   "source": [
    "Create a group for one square loop 10mm on a side."
   ]
  },
  {
   "cell_type": "code",
   "execution_count": 8,
   "metadata": {
    "collapsed": false
   },
   "outputs": [
    {
     "data": {
      "text/plain": [
       "* loop start\n",
       "N_1 x=0.000000000e+00 y=0.000000000e+00 z=0.000000000e+00\n",
       "N_2 x=1.000000000e+01 y=0.000000000e+00 z=0.000000000e+00\n",
       "N_3 x=1.000000000e+01 y=1.000000000e+01 z=0.000000000e+00\n",
       "N_4 x=0.000000000e+00 y=1.000000000e+01 z=0.000000000e+00\n",
       "N_5 x=0.000000000e+00 y=1.000000000e+00 z=0.000000000e+00\n",
       "E_6 N_1 N_2\n",
       "+  w=1.500000000e+00 h=5.000000000e-01\n",
       "E_7 N_2 N_3\n",
       "+  w=1.500000000e+00 h=5.000000000e-01\n",
       "E_8 N_3 N_4\n",
       "+  w=1.500000000e+00 h=5.000000000e-01\n",
       "E_9 N_4 N_5\n",
       "+  w=1.500000000e+00 h=5.000000000e-01\n",
       "* loop end\n"
      ]
     },
     "execution_count": 8,
     "metadata": {},
     "output_type": "execute_result"
    }
   ],
   "source": [
    "squareloop = Group(\n",
    "    elements=[\n",
    "        Comment(\"loop start\"),\n",
    "        n1 = Node(0,0,0),\n",
    "        n2 = Node(10,0,0),\n",
    "        n3 = Node(10,10,0),\n",
    "        n4 = Node(0,10,0),\n",
    "        n5 = Node(0,1,0), # leave a 1mm gap for the port\n",
    "        connectnodes([n1,n2,n3,n4,n5], SegmentParameters(h=0.5, w=1.5))...,\n",
    "        Comment(\"loop end\")\n",
    "    ],\n",
    "    terms = Dict(:a=>n1,:b=>n5) # ports will be between :a and :b\n",
    ")\n",
    "        "
   ]
  },
  {
   "cell_type": "markdown",
   "metadata": {},
   "source": [
    "Create an array of four square loops, each one shifted 10mm on z axis."
   ]
  },
  {
   "cell_type": "code",
   "execution_count": 9,
   "metadata": {
    "collapsed": true
   },
   "outputs": [],
   "source": [
    "loops = Array(Group,4)\n",
    "z = [0.0, 10.0, 20.0, 30.0]\n",
    "for i in eachindex(loops)\n",
    "    loops[i] = transform(squareloop, txyz(0,0,z[i]))\n",
    "end"
   ]
  },
  {
   "cell_type": "markdown",
   "metadata": {},
   "source": [
    "Create the top level group."
   ]
  },
  {
   "cell_type": "code",
   "execution_count": 10,
   "metadata": {
    "collapsed": false
   },
   "outputs": [
    {
     "data": {
      "text/plain": [
       "* Four loops 10mm on a side offset by 10mm in z\n",
       ".units mm\n",
       "* \n",
       "* sigma for copper, 25 filiments per segment\n",
       ".default\n",
       "+  nhinc=5 nwinc=5\n",
       "+  sigma=6.210000000e+04\n",
       "* \n",
       "* the loops\n",
       "* loop start\n",
       "N_1 x=0.000000000e+00 y=0.000000000e+00 z=0.000000000e+00\n",
       "N_2 x=1.000000000e+01 y=0.000000000e+00 z=0.000000000e+00\n",
       "N_3 x=1.000000000e+01 y=1.000000000e+01 z=0.000000000e+00\n",
       "N_4 x=0.000000000e+00 y=1.000000000e+01 z=0.000000000e+00\n",
       "N_5 x=0.000000000e+00 y=1.000000000e+00 z=0.000000000e+00\n",
       "E_6 N_1 N_2\n",
       "+  w=1.500000000e+00 h=5.000000000e-01\n",
       "+  wx=0.000000000e+00 wy=1.000000000e+00 wz=0.000000000e+00\n",
       "E_7 N_2 N_3\n",
       "+  w=1.500000000e+00 h=5.000000000e-01\n",
       "+  wx=-1.000000000e+00 wy=0.000000000e+00 wz=0.000000000e+00\n",
       "E_8 N_3 N_4\n",
       "+  w=1.500000000e+00 h=5.000000000e-01\n",
       "+  wx=0.000000000e+00 wy=-1.000000000e+00 wz=0.000000000e+00\n",
       "E_9 N_4 N_5\n",
       "+  w=1.500000000e+00 h=5.000000000e-01\n",
       "+  wx=1.000000000e+00 wy=0.000000000e+00 wz=0.000000000e+00\n",
       "* loop end\n",
       "* loop start\n",
       "N_10 x=0.000000000e+00 y=0.000000000e+00 z=1.000000000e+01\n",
       "N_11 x=1.000000000e+01 y=0.000000000e+00 z=1.000000000e+01\n",
       "N_12 x=1.000000000e+01 y=1.000000000e+01 z=1.000000000e+01\n",
       "N_13 x=0.000000000e+00 y=1.000000000e+01 z=1.000000000e+01\n",
       "N_14 x=0.000000000e+00 y=1.000000000e+00 z=1.000000000e+01\n",
       "E_15 N_10 N_11\n",
       "+  w=1.500000000e+00 h=5.000000000e-01\n",
       "+  wx=0.000000000e+00 wy=1.000000000e+00 wz=0.000000000e+00\n",
       "E_16 N_11 N_12\n",
       "+  w=1.500000000e+00 h=5.000000000e-01\n",
       "+  wx=-1.000000000e+00 wy=0.000000000e+00 wz=0.000000000e+00\n",
       "E_17 N_12 N_13\n",
       "+  w=1.500000000e+00 h=5.000000000e-01\n",
       "+  wx=0.000000000e+00 wy=-1.000000000e+00 wz=0.000000000e+00\n",
       "E_18 N_13 N_14\n",
       "+  w=1.500000000e+00 h=5.000000000e-01\n",
       "+  wx=1.000000000e+00 wy=0.000000000e+00 wz=0.000000000e+00\n",
       "* loop end\n",
       "* loop start\n",
       "N_19 x=0.000000000e+00 y=0.000000000e+00 z=2.000000000e+01\n",
       "N_20 x=1.000000000e+01 y=0.000000000e+00 z=2.000000000e+01\n",
       "N_21 x=1.000000000e+01 y=1.000000000e+01 z=2.000000000e+01\n",
       "N_22 x=0.000000000e+00 y=1.000000000e+01 z=2.000000000e+01\n",
       "N_23 x=0.000000000e+00 y=1.000000000e+00 z=2.000000000e+01\n",
       "E_24 N_19 N_20\n",
       "+  w=1.500000000e+00 h=5.000000000e-01\n",
       "+  wx=0.000000000e+00 wy=1.000000000e+00 wz=0.000000000e+00\n",
       "E_25 N_20 N_21\n",
       "+  w=1.500000000e+00 h=5.000000000e-01\n",
       "+  wx=-1.000000000e+00 wy=0.000000000e+00 wz=0.000000000e+00\n",
       "E_26 N_21 N_22\n",
       "+  w=1.500000000e+00 h=5.000000000e-01\n",
       "+  wx=0.000000000e+00 wy=-1.000000000e+00 wz=0.000000000e+00\n",
       "E_27 N_22 N_23\n",
       "+  w=1.500000000e+00 h=5.000000000e-01\n",
       "+  wx=1.000000000e+00 wy=0.000000000e+00 wz=0.000000000e+00\n",
       "* loop end\n",
       "* loop start\n",
       "N_28 x=0.000000000e+00 y=0.000000000e+00 z=3.000000000e+01\n",
       "N_29 x=1.000000000e+01 y=0.000000000e+00 z=3.000000000e+01\n",
       "N_30 x=1.000000000e+01 y=1.000000000e+01 z=3.000000000e+01\n",
       "N_31 x=0.000000000e+00 y=1.000000000e+01 z=3.000000000e+01\n",
       "N_32 x=0.000000000e+00 y=1.000000000e+00 z=3.000000000e+01\n",
       "E_33 N_28 N_29\n",
       "+  w=1.500000000e+00 h=5.000000000e-01\n",
       "+  wx=0.000000000e+00 wy=1.000000000e+00 wz=0.000000000e+00\n",
       "E_34 N_29 N_30\n",
       "+  w=1.500000000e+00 h=5.000000000e-01\n",
       "+  wx=-1.000000000e+00 wy=0.000000000e+00 wz=0.000000000e+00\n",
       "E_35 N_30 N_31\n",
       "+  w=1.500000000e+00 h=5.000000000e-01\n",
       "+  wx=0.000000000e+00 wy=-1.000000000e+00 wz=0.000000000e+00\n",
       "E_36 N_31 N_32\n",
       "+  w=1.500000000e+00 h=5.000000000e-01\n",
       "+  wx=1.000000000e+00 wy=0.000000000e+00 wz=0.000000000e+00\n",
       "* loop end\n",
       "* \n",
       "* define three ports\n",
       ".external N_23 N_32 port_1\n",
       ".external N_10 N_14 port_2\n",
       ".external N_1 N_5 port_3\n",
       "* \n",
       "* define frequencies\n",
       ".freq fmin=1.000000000e-01 fmax=1.000000000e+09 ndec=5.000000000e-02\n",
       "* \n",
       "* always need end\n",
       ".end\n"
      ]
     },
     "execution_count": 10,
     "metadata": {},
     "output_type": "execute_result"
    }
   ],
   "source": [
    "fourloops = Group(\n",
    "    elements=[\n",
    "        Comment(\"Four loops 10mm on a side offset by 10mm in z\"),\n",
    "        Units(\"mm\"),\n",
    "        Comment(\"\"),\n",
    "        Comment(\"sigma for copper, 25 filiments per segment\"),\n",
    "        Default(sigma=62.1e6*1e-3, nwinc=5, nhinc=5),\n",
    "        Comment(\"\"),\n",
    "        Comment(\"the loops\"),\n",
    "        loops...,\n",
    "        Comment(\"\"),\n",
    "        Comment(\"define three ports\"),\n",
    "        External(loops[3][:b],loops[4][:b],\"port_1\"),\n",
    "        External(loops[2][:a],loops[2][:b],\"port_2\"),\n",
    "        External(loops[1][:a],loops[1][:b],\"port_3\"),\n",
    "        Comment(\"\"),\n",
    "        Comment(\"define frequencies\"),\n",
    "        Freq(min=1e-1, max=1e9, ndec=0.05),\n",
    "        Comment(\"\"),\n",
    "        Comment(\"always need end\"),\n",
    "        End()\n",
    "    ]\n",
    ")"
   ]
  },
  {
   "cell_type": "markdown",
   "metadata": {},
   "source": [
    "Plot of `fourloops`"
   ]
  },
  {
   "cell_type": "code",
   "execution_count": 12,
   "metadata": {
    "collapsed": false
   },
   "outputs": [
    {
     "data": {
      "text/html": [
       "<div id=\"1c853ee2-111b-43b5-88a3-728c0cf82453\" class=\"plotly-graph-div\"></div>\n",
       "\n",
       "<script>\n",
       "    window.PLOTLYENV=window.PLOTLYENV || {};\n",
       "    window.PLOTLYENV.BASE_URL=\"https://plot.ly\";\n",
       "    require(['plotly'], function(Plotly) {\n",
       "        Plotly.newPlot('1c853ee2-111b-43b5-88a3-728c0cf82453', [{\"yaxis\":\"y\",\"showlegend\":true,\"type\":\"scatter3d\",\"xaxis\":\"x\",\"name\":\"1\",\"z\":[0.0],\"marker\":{\"symbol\":\"circle\",\"line\":{\"width\":0.1,\"color\":\"rgba(0, 0, 0, 0.300)\"},\"size\":6.0,\"color\":\"rgba(255, 0, 0, 0.300)\"},\"y\":[0.0],\"line\":{\"width\":1,\"dash\":\"solid\",\"color\":\"rgba(0, 0, 255, 1.000)\",\"shape\":\"linear\"},\"mode\":\"lines+markers\",\"x\":[0.0]},{\"yaxis\":\"y\",\"showlegend\":true,\"type\":\"scatter3d\",\"xaxis\":\"x\",\"name\":\"2\",\"z\":[0.0],\"marker\":{\"symbol\":\"circle\",\"line\":{\"width\":0.1,\"color\":\"rgba(0, 0, 0, 0.300)\"},\"size\":6.0,\"color\":\"rgba(255, 0, 0, 0.300)\"},\"y\":[0.0],\"line\":{\"width\":1,\"dash\":\"solid\",\"color\":\"rgba(0, 0, 255, 1.000)\",\"shape\":\"linear\"},\"mode\":\"lines+markers\",\"x\":[10.0]},{\"yaxis\":\"y\",\"showlegend\":true,\"type\":\"scatter3d\",\"xaxis\":\"x\",\"name\":\"3\",\"z\":[0.0],\"marker\":{\"symbol\":\"circle\",\"line\":{\"width\":0.1,\"color\":\"rgba(0, 0, 0, 0.300)\"},\"size\":6.0,\"color\":\"rgba(255, 0, 0, 0.300)\"},\"y\":[10.0],\"line\":{\"width\":1,\"dash\":\"solid\",\"color\":\"rgba(0, 0, 255, 1.000)\",\"shape\":\"linear\"},\"mode\":\"lines+markers\",\"x\":[10.0]},{\"yaxis\":\"y\",\"showlegend\":true,\"type\":\"scatter3d\",\"xaxis\":\"x\",\"name\":\"4\",\"z\":[0.0],\"marker\":{\"symbol\":\"circle\",\"line\":{\"width\":0.1,\"color\":\"rgba(0, 0, 0, 0.300)\"},\"size\":6.0,\"color\":\"rgba(255, 0, 0, 0.300)\"},\"y\":[10.0],\"line\":{\"width\":1,\"dash\":\"solid\",\"color\":\"rgba(0, 0, 255, 1.000)\",\"shape\":\"linear\"},\"mode\":\"lines+markers\",\"x\":[0.0]},{\"yaxis\":\"y\",\"showlegend\":true,\"type\":\"scatter3d\",\"xaxis\":\"x\",\"name\":\"5\",\"z\":[0.0],\"marker\":{\"symbol\":\"circle\",\"line\":{\"width\":0.1,\"color\":\"rgba(0, 0, 0, 0.300)\"},\"size\":6.0,\"color\":\"rgba(255, 0, 0, 0.300)\"},\"y\":[1.0],\"line\":{\"width\":1,\"dash\":\"solid\",\"color\":\"rgba(0, 0, 255, 1.000)\",\"shape\":\"linear\"},\"mode\":\"lines+markers\",\"x\":[0.0]},{\"yaxis\":\"y\",\"y\":[0.75,0.75,-0.75,-0.75,0.75,0.75,0.75,-0.75,-0.75,0.75],\"showlegend\":true,\"name\":\"6\",\"type\":\"scatter3d\",\"xaxis\":\"x\",\"z\":[-0.25,0.25,0.25,-0.25,-0.25,-0.25,0.25,0.25,-0.25,-0.25],\"x\":[0.0,0.0,0.0,0.0,0.0,10.0,10.0,10.0,10.0,10.0],\"line\":{\"width\":1,\"dash\":\"solid\",\"color\":\"rgba(0, 0, 255, 1.000)\",\"shape\":\"linear\"},\"mode\":\"lines\"},{\"yaxis\":\"y\",\"y\":[0.75,0.75],\"showlegend\":true,\"name\":\"7\",\"type\":\"scatter3d\",\"xaxis\":\"x\",\"z\":[0.25,0.25],\"x\":[0.0,10.0],\"line\":{\"width\":1,\"dash\":\"solid\",\"color\":\"rgba(0, 0, 255, 1.000)\",\"shape\":\"linear\"},\"mode\":\"lines\"},{\"yaxis\":\"y\",\"y\":[-0.75,-0.75],\"showlegend\":true,\"name\":\"8\",\"type\":\"scatter3d\",\"xaxis\":\"x\",\"z\":[0.25,0.25],\"x\":[0.0,10.0],\"line\":{\"width\":1,\"dash\":\"solid\",\"color\":\"rgba(0, 0, 255, 1.000)\",\"shape\":\"linear\"},\"mode\":\"lines\"},{\"yaxis\":\"y\",\"y\":[-0.75,-0.75],\"showlegend\":true,\"name\":\"9\",\"type\":\"scatter3d\",\"xaxis\":\"x\",\"z\":[-0.25,-0.25],\"x\":[0.0,10.0],\"line\":{\"width\":1,\"dash\":\"solid\",\"color\":\"rgba(0, 0, 255, 1.000)\",\"shape\":\"linear\"},\"mode\":\"lines\"},{\"yaxis\":\"y\",\"y\":[0.0,0.0,0.0,0.0,0.0,10.0,10.0,10.0,10.0,10.0],\"showlegend\":true,\"name\":\"10\",\"type\":\"scatter3d\",\"xaxis\":\"x\",\"z\":[-0.25,0.25,0.25,-0.25,-0.25,-0.25,0.25,0.25,-0.25,-0.25],\"x\":[9.25,9.25,10.75,10.75,9.25,9.25,9.25,10.75,10.75,9.25],\"line\":{\"width\":1,\"dash\":\"solid\",\"color\":\"rgba(0, 0, 255, 1.000)\",\"shape\":\"linear\"},\"mode\":\"lines\"},{\"yaxis\":\"y\",\"y\":[0.0,10.0],\"showlegend\":true,\"name\":\"11\",\"type\":\"scatter3d\",\"xaxis\":\"x\",\"z\":[0.25,0.25],\"x\":[9.25,9.25],\"line\":{\"width\":1,\"dash\":\"solid\",\"color\":\"rgba(0, 0, 255, 1.000)\",\"shape\":\"linear\"},\"mode\":\"lines\"},{\"yaxis\":\"y\",\"y\":[0.0,10.0],\"showlegend\":true,\"name\":\"12\",\"type\":\"scatter3d\",\"xaxis\":\"x\",\"z\":[0.25,0.25],\"x\":[10.75,10.75],\"line\":{\"width\":1,\"dash\":\"solid\",\"color\":\"rgba(0, 0, 255, 1.000)\",\"shape\":\"linear\"},\"mode\":\"lines\"},{\"yaxis\":\"y\",\"y\":[0.0,10.0],\"showlegend\":true,\"name\":\"13\",\"type\":\"scatter3d\",\"xaxis\":\"x\",\"z\":[-0.25,-0.25],\"x\":[10.75,10.75],\"line\":{\"width\":1,\"dash\":\"solid\",\"color\":\"rgba(0, 0, 255, 1.000)\",\"shape\":\"linear\"},\"mode\":\"lines\"},{\"yaxis\":\"y\",\"y\":[9.25,9.25,10.75,10.75,9.25,9.25,9.25,10.75,10.75,9.25],\"showlegend\":true,\"name\":\"14\",\"type\":\"scatter3d\",\"xaxis\":\"x\",\"z\":[-0.25,0.25,0.25,-0.25,-0.25,-0.25,0.25,0.25,-0.25,-0.25],\"x\":[10.0,10.0,10.0,10.0,10.0,0.0,0.0,0.0,0.0,0.0],\"line\":{\"width\":1,\"dash\":\"solid\",\"color\":\"rgba(0, 0, 255, 1.000)\",\"shape\":\"linear\"},\"mode\":\"lines\"},{\"yaxis\":\"y\",\"y\":[9.25,9.25],\"showlegend\":true,\"name\":\"15\",\"type\":\"scatter3d\",\"xaxis\":\"x\",\"z\":[0.25,0.25],\"x\":[10.0,0.0],\"line\":{\"width\":1,\"dash\":\"solid\",\"color\":\"rgba(0, 0, 255, 1.000)\",\"shape\":\"linear\"},\"mode\":\"lines\"},{\"yaxis\":\"y\",\"y\":[10.75,10.75],\"showlegend\":true,\"name\":\"16\",\"type\":\"scatter3d\",\"xaxis\":\"x\",\"z\":[0.25,0.25],\"x\":[10.0,0.0],\"line\":{\"width\":1,\"dash\":\"solid\",\"color\":\"rgba(0, 0, 255, 1.000)\",\"shape\":\"linear\"},\"mode\":\"lines\"},{\"yaxis\":\"y\",\"y\":[10.75,10.75],\"showlegend\":true,\"name\":\"17\",\"type\":\"scatter3d\",\"xaxis\":\"x\",\"z\":[-0.25,-0.25],\"x\":[10.0,0.0],\"line\":{\"width\":1,\"dash\":\"solid\",\"color\":\"rgba(0, 0, 255, 1.000)\",\"shape\":\"linear\"},\"mode\":\"lines\"},{\"yaxis\":\"y\",\"y\":[10.0,10.0,10.0,10.0,10.0,1.0,1.0,1.0,1.0,1.0],\"showlegend\":true,\"name\":\"18\",\"type\":\"scatter3d\",\"xaxis\":\"x\",\"z\":[-0.25,0.25,0.25,-0.25,-0.25,-0.25,0.25,0.25,-0.25,-0.25],\"x\":[0.75,0.75,-0.75,-0.75,0.75,0.75,0.75,-0.75,-0.75,0.75],\"line\":{\"width\":1,\"dash\":\"solid\",\"color\":\"rgba(0, 0, 255, 1.000)\",\"shape\":\"linear\"},\"mode\":\"lines\"},{\"yaxis\":\"y\",\"y\":[10.0,1.0],\"showlegend\":true,\"name\":\"19\",\"type\":\"scatter3d\",\"xaxis\":\"x\",\"z\":[0.25,0.25],\"x\":[0.75,0.75],\"line\":{\"width\":1,\"dash\":\"solid\",\"color\":\"rgba(0, 0, 255, 1.000)\",\"shape\":\"linear\"},\"mode\":\"lines\"},{\"yaxis\":\"y\",\"y\":[10.0,1.0],\"showlegend\":true,\"name\":\"20\",\"type\":\"scatter3d\",\"xaxis\":\"x\",\"z\":[0.25,0.25],\"x\":[-0.75,-0.75],\"line\":{\"width\":1,\"dash\":\"solid\",\"color\":\"rgba(0, 0, 255, 1.000)\",\"shape\":\"linear\"},\"mode\":\"lines\"},{\"yaxis\":\"y\",\"y\":[10.0,1.0],\"showlegend\":true,\"name\":\"21\",\"type\":\"scatter3d\",\"xaxis\":\"x\",\"z\":[-0.25,-0.25],\"x\":[-0.75,-0.75],\"line\":{\"width\":1,\"dash\":\"solid\",\"color\":\"rgba(0, 0, 255, 1.000)\",\"shape\":\"linear\"},\"mode\":\"lines\"},{\"yaxis\":\"y\",\"showlegend\":true,\"type\":\"scatter3d\",\"xaxis\":\"x\",\"name\":\"22\",\"z\":[10.0],\"marker\":{\"symbol\":\"circle\",\"line\":{\"width\":0.1,\"color\":\"rgba(0, 0, 0, 0.300)\"},\"size\":6.0,\"color\":\"rgba(255, 0, 0, 0.300)\"},\"y\":[0.0],\"line\":{\"width\":1,\"dash\":\"solid\",\"color\":\"rgba(0, 0, 255, 1.000)\",\"shape\":\"linear\"},\"mode\":\"lines+markers\",\"x\":[0.0]},{\"yaxis\":\"y\",\"showlegend\":true,\"type\":\"scatter3d\",\"xaxis\":\"x\",\"name\":\"23\",\"z\":[10.0],\"marker\":{\"symbol\":\"circle\",\"line\":{\"width\":0.1,\"color\":\"rgba(0, 0, 0, 0.300)\"},\"size\":6.0,\"color\":\"rgba(255, 0, 0, 0.300)\"},\"y\":[0.0],\"line\":{\"width\":1,\"dash\":\"solid\",\"color\":\"rgba(0, 0, 255, 1.000)\",\"shape\":\"linear\"},\"mode\":\"lines+markers\",\"x\":[10.0]},{\"yaxis\":\"y\",\"showlegend\":true,\"type\":\"scatter3d\",\"xaxis\":\"x\",\"name\":\"24\",\"z\":[10.0],\"marker\":{\"symbol\":\"circle\",\"line\":{\"width\":0.1,\"color\":\"rgba(0, 0, 0, 0.300)\"},\"size\":6.0,\"color\":\"rgba(255, 0, 0, 0.300)\"},\"y\":[10.0],\"line\":{\"width\":1,\"dash\":\"solid\",\"color\":\"rgba(0, 0, 255, 1.000)\",\"shape\":\"linear\"},\"mode\":\"lines+markers\",\"x\":[10.0]},{\"yaxis\":\"y\",\"showlegend\":true,\"type\":\"scatter3d\",\"xaxis\":\"x\",\"name\":\"25\",\"z\":[10.0],\"marker\":{\"symbol\":\"circle\",\"line\":{\"width\":0.1,\"color\":\"rgba(0, 0, 0, 0.300)\"},\"size\":6.0,\"color\":\"rgba(255, 0, 0, 0.300)\"},\"y\":[10.0],\"line\":{\"width\":1,\"dash\":\"solid\",\"color\":\"rgba(0, 0, 255, 1.000)\",\"shape\":\"linear\"},\"mode\":\"lines+markers\",\"x\":[0.0]},{\"yaxis\":\"y\",\"showlegend\":true,\"type\":\"scatter3d\",\"xaxis\":\"x\",\"name\":\"26\",\"z\":[10.0],\"marker\":{\"symbol\":\"circle\",\"line\":{\"width\":0.1,\"color\":\"rgba(0, 0, 0, 0.300)\"},\"size\":6.0,\"color\":\"rgba(255, 0, 0, 0.300)\"},\"y\":[1.0],\"line\":{\"width\":1,\"dash\":\"solid\",\"color\":\"rgba(0, 0, 255, 1.000)\",\"shape\":\"linear\"},\"mode\":\"lines+markers\",\"x\":[0.0]},{\"yaxis\":\"y\",\"y\":[0.75,0.75,-0.75,-0.75,0.75,0.75,0.75,-0.75,-0.75,0.75],\"showlegend\":true,\"name\":\"27\",\"type\":\"scatter3d\",\"xaxis\":\"x\",\"z\":[9.75,10.25,10.25,9.75,9.75,9.75,10.25,10.25,9.75,9.75],\"x\":[0.0,0.0,0.0,0.0,0.0,10.0,10.0,10.0,10.0,10.0],\"line\":{\"width\":1,\"dash\":\"solid\",\"color\":\"rgba(0, 0, 255, 1.000)\",\"shape\":\"linear\"},\"mode\":\"lines\"},{\"yaxis\":\"y\",\"y\":[0.75,0.75],\"showlegend\":true,\"name\":\"28\",\"type\":\"scatter3d\",\"xaxis\":\"x\",\"z\":[10.25,10.25],\"x\":[0.0,10.0],\"line\":{\"width\":1,\"dash\":\"solid\",\"color\":\"rgba(0, 0, 255, 1.000)\",\"shape\":\"linear\"},\"mode\":\"lines\"},{\"yaxis\":\"y\",\"y\":[-0.75,-0.75],\"showlegend\":true,\"name\":\"29\",\"type\":\"scatter3d\",\"xaxis\":\"x\",\"z\":[10.25,10.25],\"x\":[0.0,10.0],\"line\":{\"width\":1,\"dash\":\"solid\",\"color\":\"rgba(0, 0, 255, 1.000)\",\"shape\":\"linear\"},\"mode\":\"lines\"},{\"yaxis\":\"y\",\"y\":[-0.75,-0.75],\"showlegend\":true,\"name\":\"30\",\"type\":\"scatter3d\",\"xaxis\":\"x\",\"z\":[9.75,9.75],\"x\":[0.0,10.0],\"line\":{\"width\":1,\"dash\":\"solid\",\"color\":\"rgba(0, 0, 255, 1.000)\",\"shape\":\"linear\"},\"mode\":\"lines\"},{\"yaxis\":\"y\",\"y\":[0.0,0.0,0.0,0.0,0.0,10.0,10.0,10.0,10.0,10.0],\"showlegend\":true,\"name\":\"31\",\"type\":\"scatter3d\",\"xaxis\":\"x\",\"z\":[9.75,10.25,10.25,9.75,9.75,9.75,10.25,10.25,9.75,9.75],\"x\":[9.25,9.25,10.75,10.75,9.25,9.25,9.25,10.75,10.75,9.25],\"line\":{\"width\":1,\"dash\":\"solid\",\"color\":\"rgba(0, 0, 255, 1.000)\",\"shape\":\"linear\"},\"mode\":\"lines\"},{\"yaxis\":\"y\",\"y\":[0.0,10.0],\"showlegend\":true,\"name\":\"32\",\"type\":\"scatter3d\",\"xaxis\":\"x\",\"z\":[10.25,10.25],\"x\":[9.25,9.25],\"line\":{\"width\":1,\"dash\":\"solid\",\"color\":\"rgba(0, 0, 255, 1.000)\",\"shape\":\"linear\"},\"mode\":\"lines\"},{\"yaxis\":\"y\",\"y\":[0.0,10.0],\"showlegend\":true,\"name\":\"33\",\"type\":\"scatter3d\",\"xaxis\":\"x\",\"z\":[10.25,10.25],\"x\":[10.75,10.75],\"line\":{\"width\":1,\"dash\":\"solid\",\"color\":\"rgba(0, 0, 255, 1.000)\",\"shape\":\"linear\"},\"mode\":\"lines\"},{\"yaxis\":\"y\",\"y\":[0.0,10.0],\"showlegend\":true,\"name\":\"34\",\"type\":\"scatter3d\",\"xaxis\":\"x\",\"z\":[9.75,9.75],\"x\":[10.75,10.75],\"line\":{\"width\":1,\"dash\":\"solid\",\"color\":\"rgba(0, 0, 255, 1.000)\",\"shape\":\"linear\"},\"mode\":\"lines\"},{\"yaxis\":\"y\",\"y\":[9.25,9.25,10.75,10.75,9.25,9.25,9.25,10.75,10.75,9.25],\"showlegend\":true,\"name\":\"35\",\"type\":\"scatter3d\",\"xaxis\":\"x\",\"z\":[9.75,10.25,10.25,9.75,9.75,9.75,10.25,10.25,9.75,9.75],\"x\":[10.0,10.0,10.0,10.0,10.0,0.0,0.0,0.0,0.0,0.0],\"line\":{\"width\":1,\"dash\":\"solid\",\"color\":\"rgba(0, 0, 255, 1.000)\",\"shape\":\"linear\"},\"mode\":\"lines\"},{\"yaxis\":\"y\",\"y\":[9.25,9.25],\"showlegend\":true,\"name\":\"36\",\"type\":\"scatter3d\",\"xaxis\":\"x\",\"z\":[10.25,10.25],\"x\":[10.0,0.0],\"line\":{\"width\":1,\"dash\":\"solid\",\"color\":\"rgba(0, 0, 255, 1.000)\",\"shape\":\"linear\"},\"mode\":\"lines\"},{\"yaxis\":\"y\",\"y\":[10.75,10.75],\"showlegend\":true,\"name\":\"37\",\"type\":\"scatter3d\",\"xaxis\":\"x\",\"z\":[10.25,10.25],\"x\":[10.0,0.0],\"line\":{\"width\":1,\"dash\":\"solid\",\"color\":\"rgba(0, 0, 255, 1.000)\",\"shape\":\"linear\"},\"mode\":\"lines\"},{\"yaxis\":\"y\",\"y\":[10.75,10.75],\"showlegend\":true,\"name\":\"38\",\"type\":\"scatter3d\",\"xaxis\":\"x\",\"z\":[9.75,9.75],\"x\":[10.0,0.0],\"line\":{\"width\":1,\"dash\":\"solid\",\"color\":\"rgba(0, 0, 255, 1.000)\",\"shape\":\"linear\"},\"mode\":\"lines\"},{\"yaxis\":\"y\",\"y\":[10.0,10.0,10.0,10.0,10.0,1.0,1.0,1.0,1.0,1.0],\"showlegend\":true,\"name\":\"39\",\"type\":\"scatter3d\",\"xaxis\":\"x\",\"z\":[9.75,10.25,10.25,9.75,9.75,9.75,10.25,10.25,9.75,9.75],\"x\":[0.75,0.75,-0.75,-0.75,0.75,0.75,0.75,-0.75,-0.75,0.75],\"line\":{\"width\":1,\"dash\":\"solid\",\"color\":\"rgba(0, 0, 255, 1.000)\",\"shape\":\"linear\"},\"mode\":\"lines\"},{\"yaxis\":\"y\",\"y\":[10.0,1.0],\"showlegend\":true,\"name\":\"40\",\"type\":\"scatter3d\",\"xaxis\":\"x\",\"z\":[10.25,10.25],\"x\":[0.75,0.75],\"line\":{\"width\":1,\"dash\":\"solid\",\"color\":\"rgba(0, 0, 255, 1.000)\",\"shape\":\"linear\"},\"mode\":\"lines\"},{\"yaxis\":\"y\",\"y\":[10.0,1.0],\"showlegend\":true,\"name\":\"41\",\"type\":\"scatter3d\",\"xaxis\":\"x\",\"z\":[10.25,10.25],\"x\":[-0.75,-0.75],\"line\":{\"width\":1,\"dash\":\"solid\",\"color\":\"rgba(0, 0, 255, 1.000)\",\"shape\":\"linear\"},\"mode\":\"lines\"},{\"yaxis\":\"y\",\"y\":[10.0,1.0],\"showlegend\":true,\"name\":\"42\",\"type\":\"scatter3d\",\"xaxis\":\"x\",\"z\":[9.75,9.75],\"x\":[-0.75,-0.75],\"line\":{\"width\":1,\"dash\":\"solid\",\"color\":\"rgba(0, 0, 255, 1.000)\",\"shape\":\"linear\"},\"mode\":\"lines\"},{\"yaxis\":\"y\",\"showlegend\":true,\"type\":\"scatter3d\",\"xaxis\":\"x\",\"name\":\"43\",\"z\":[20.0],\"marker\":{\"symbol\":\"circle\",\"line\":{\"width\":0.1,\"color\":\"rgba(0, 0, 0, 0.300)\"},\"size\":6.0,\"color\":\"rgba(255, 0, 0, 0.300)\"},\"y\":[0.0],\"line\":{\"width\":1,\"dash\":\"solid\",\"color\":\"rgba(0, 0, 255, 1.000)\",\"shape\":\"linear\"},\"mode\":\"lines+markers\",\"x\":[0.0]},{\"yaxis\":\"y\",\"showlegend\":true,\"type\":\"scatter3d\",\"xaxis\":\"x\",\"name\":\"44\",\"z\":[20.0],\"marker\":{\"symbol\":\"circle\",\"line\":{\"width\":0.1,\"color\":\"rgba(0, 0, 0, 0.300)\"},\"size\":6.0,\"color\":\"rgba(255, 0, 0, 0.300)\"},\"y\":[0.0],\"line\":{\"width\":1,\"dash\":\"solid\",\"color\":\"rgba(0, 0, 255, 1.000)\",\"shape\":\"linear\"},\"mode\":\"lines+markers\",\"x\":[10.0]},{\"yaxis\":\"y\",\"showlegend\":true,\"type\":\"scatter3d\",\"xaxis\":\"x\",\"name\":\"45\",\"z\":[20.0],\"marker\":{\"symbol\":\"circle\",\"line\":{\"width\":0.1,\"color\":\"rgba(0, 0, 0, 0.300)\"},\"size\":6.0,\"color\":\"rgba(255, 0, 0, 0.300)\"},\"y\":[10.0],\"line\":{\"width\":1,\"dash\":\"solid\",\"color\":\"rgba(0, 0, 255, 1.000)\",\"shape\":\"linear\"},\"mode\":\"lines+markers\",\"x\":[10.0]},{\"yaxis\":\"y\",\"showlegend\":true,\"type\":\"scatter3d\",\"xaxis\":\"x\",\"name\":\"46\",\"z\":[20.0],\"marker\":{\"symbol\":\"circle\",\"line\":{\"width\":0.1,\"color\":\"rgba(0, 0, 0, 0.300)\"},\"size\":6.0,\"color\":\"rgba(255, 0, 0, 0.300)\"},\"y\":[10.0],\"line\":{\"width\":1,\"dash\":\"solid\",\"color\":\"rgba(0, 0, 255, 1.000)\",\"shape\":\"linear\"},\"mode\":\"lines+markers\",\"x\":[0.0]},{\"yaxis\":\"y\",\"showlegend\":true,\"type\":\"scatter3d\",\"xaxis\":\"x\",\"name\":\"47\",\"z\":[20.0],\"marker\":{\"symbol\":\"circle\",\"line\":{\"width\":0.1,\"color\":\"rgba(0, 0, 0, 0.300)\"},\"size\":6.0,\"color\":\"rgba(255, 0, 0, 0.300)\"},\"y\":[1.0],\"line\":{\"width\":1,\"dash\":\"solid\",\"color\":\"rgba(0, 0, 255, 1.000)\",\"shape\":\"linear\"},\"mode\":\"lines+markers\",\"x\":[0.0]},{\"yaxis\":\"y\",\"y\":[0.75,0.75,-0.75,-0.75,0.75,0.75,0.75,-0.75,-0.75,0.75],\"showlegend\":true,\"name\":\"48\",\"type\":\"scatter3d\",\"xaxis\":\"x\",\"z\":[19.75,20.25,20.25,19.75,19.75,19.75,20.25,20.25,19.75,19.75],\"x\":[0.0,0.0,0.0,0.0,0.0,10.0,10.0,10.0,10.0,10.0],\"line\":{\"width\":1,\"dash\":\"solid\",\"color\":\"rgba(0, 0, 255, 1.000)\",\"shape\":\"linear\"},\"mode\":\"lines\"},{\"yaxis\":\"y\",\"y\":[0.75,0.75],\"showlegend\":true,\"name\":\"49\",\"type\":\"scatter3d\",\"xaxis\":\"x\",\"z\":[20.25,20.25],\"x\":[0.0,10.0],\"line\":{\"width\":1,\"dash\":\"solid\",\"color\":\"rgba(0, 0, 255, 1.000)\",\"shape\":\"linear\"},\"mode\":\"lines\"},{\"yaxis\":\"y\",\"y\":[-0.75,-0.75],\"showlegend\":true,\"name\":\"50\",\"type\":\"scatter3d\",\"xaxis\":\"x\",\"z\":[20.25,20.25],\"x\":[0.0,10.0],\"line\":{\"width\":1,\"dash\":\"solid\",\"color\":\"rgba(0, 0, 255, 1.000)\",\"shape\":\"linear\"},\"mode\":\"lines\"},{\"yaxis\":\"y\",\"y\":[-0.75,-0.75],\"showlegend\":true,\"name\":\"51\",\"type\":\"scatter3d\",\"xaxis\":\"x\",\"z\":[19.75,19.75],\"x\":[0.0,10.0],\"line\":{\"width\":1,\"dash\":\"solid\",\"color\":\"rgba(0, 0, 255, 1.000)\",\"shape\":\"linear\"},\"mode\":\"lines\"},{\"yaxis\":\"y\",\"y\":[0.0,0.0,0.0,0.0,0.0,10.0,10.0,10.0,10.0,10.0],\"showlegend\":true,\"name\":\"52\",\"type\":\"scatter3d\",\"xaxis\":\"x\",\"z\":[19.75,20.25,20.25,19.75,19.75,19.75,20.25,20.25,19.75,19.75],\"x\":[9.25,9.25,10.75,10.75,9.25,9.25,9.25,10.75,10.75,9.25],\"line\":{\"width\":1,\"dash\":\"solid\",\"color\":\"rgba(0, 0, 255, 1.000)\",\"shape\":\"linear\"},\"mode\":\"lines\"},{\"yaxis\":\"y\",\"y\":[0.0,10.0],\"showlegend\":true,\"name\":\"53\",\"type\":\"scatter3d\",\"xaxis\":\"x\",\"z\":[20.25,20.25],\"x\":[9.25,9.25],\"line\":{\"width\":1,\"dash\":\"solid\",\"color\":\"rgba(0, 0, 255, 1.000)\",\"shape\":\"linear\"},\"mode\":\"lines\"},{\"yaxis\":\"y\",\"y\":[0.0,10.0],\"showlegend\":true,\"name\":\"54\",\"type\":\"scatter3d\",\"xaxis\":\"x\",\"z\":[20.25,20.25],\"x\":[10.75,10.75],\"line\":{\"width\":1,\"dash\":\"solid\",\"color\":\"rgba(0, 0, 255, 1.000)\",\"shape\":\"linear\"},\"mode\":\"lines\"},{\"yaxis\":\"y\",\"y\":[0.0,10.0],\"showlegend\":true,\"name\":\"55\",\"type\":\"scatter3d\",\"xaxis\":\"x\",\"z\":[19.75,19.75],\"x\":[10.75,10.75],\"line\":{\"width\":1,\"dash\":\"solid\",\"color\":\"rgba(0, 0, 255, 1.000)\",\"shape\":\"linear\"},\"mode\":\"lines\"},{\"yaxis\":\"y\",\"y\":[9.25,9.25,10.75,10.75,9.25,9.25,9.25,10.75,10.75,9.25],\"showlegend\":true,\"name\":\"56\",\"type\":\"scatter3d\",\"xaxis\":\"x\",\"z\":[19.75,20.25,20.25,19.75,19.75,19.75,20.25,20.25,19.75,19.75],\"x\":[10.0,10.0,10.0,10.0,10.0,0.0,0.0,0.0,0.0,0.0],\"line\":{\"width\":1,\"dash\":\"solid\",\"color\":\"rgba(0, 0, 255, 1.000)\",\"shape\":\"linear\"},\"mode\":\"lines\"},{\"yaxis\":\"y\",\"y\":[9.25,9.25],\"showlegend\":true,\"name\":\"57\",\"type\":\"scatter3d\",\"xaxis\":\"x\",\"z\":[20.25,20.25],\"x\":[10.0,0.0],\"line\":{\"width\":1,\"dash\":\"solid\",\"color\":\"rgba(0, 0, 255, 1.000)\",\"shape\":\"linear\"},\"mode\":\"lines\"},{\"yaxis\":\"y\",\"y\":[10.75,10.75],\"showlegend\":true,\"name\":\"58\",\"type\":\"scatter3d\",\"xaxis\":\"x\",\"z\":[20.25,20.25],\"x\":[10.0,0.0],\"line\":{\"width\":1,\"dash\":\"solid\",\"color\":\"rgba(0, 0, 255, 1.000)\",\"shape\":\"linear\"},\"mode\":\"lines\"},{\"yaxis\":\"y\",\"y\":[10.75,10.75],\"showlegend\":true,\"name\":\"59\",\"type\":\"scatter3d\",\"xaxis\":\"x\",\"z\":[19.75,19.75],\"x\":[10.0,0.0],\"line\":{\"width\":1,\"dash\":\"solid\",\"color\":\"rgba(0, 0, 255, 1.000)\",\"shape\":\"linear\"},\"mode\":\"lines\"},{\"yaxis\":\"y\",\"y\":[10.0,10.0,10.0,10.0,10.0,1.0,1.0,1.0,1.0,1.0],\"showlegend\":true,\"name\":\"60\",\"type\":\"scatter3d\",\"xaxis\":\"x\",\"z\":[19.75,20.25,20.25,19.75,19.75,19.75,20.25,20.25,19.75,19.75],\"x\":[0.75,0.75,-0.75,-0.75,0.75,0.75,0.75,-0.75,-0.75,0.75],\"line\":{\"width\":1,\"dash\":\"solid\",\"color\":\"rgba(0, 0, 255, 1.000)\",\"shape\":\"linear\"},\"mode\":\"lines\"},{\"yaxis\":\"y\",\"y\":[10.0,1.0],\"showlegend\":true,\"name\":\"61\",\"type\":\"scatter3d\",\"xaxis\":\"x\",\"z\":[20.25,20.25],\"x\":[0.75,0.75],\"line\":{\"width\":1,\"dash\":\"solid\",\"color\":\"rgba(0, 0, 255, 1.000)\",\"shape\":\"linear\"},\"mode\":\"lines\"},{\"yaxis\":\"y\",\"y\":[10.0,1.0],\"showlegend\":true,\"name\":\"62\",\"type\":\"scatter3d\",\"xaxis\":\"x\",\"z\":[20.25,20.25],\"x\":[-0.75,-0.75],\"line\":{\"width\":1,\"dash\":\"solid\",\"color\":\"rgba(0, 0, 255, 1.000)\",\"shape\":\"linear\"},\"mode\":\"lines\"},{\"yaxis\":\"y\",\"y\":[10.0,1.0],\"showlegend\":true,\"name\":\"63\",\"type\":\"scatter3d\",\"xaxis\":\"x\",\"z\":[19.75,19.75],\"x\":[-0.75,-0.75],\"line\":{\"width\":1,\"dash\":\"solid\",\"color\":\"rgba(0, 0, 255, 1.000)\",\"shape\":\"linear\"},\"mode\":\"lines\"},{\"yaxis\":\"y\",\"showlegend\":true,\"type\":\"scatter3d\",\"xaxis\":\"x\",\"name\":\"64\",\"z\":[30.0],\"marker\":{\"symbol\":\"circle\",\"line\":{\"width\":0.1,\"color\":\"rgba(0, 0, 0, 0.300)\"},\"size\":6.0,\"color\":\"rgba(255, 0, 0, 0.300)\"},\"y\":[0.0],\"line\":{\"width\":1,\"dash\":\"solid\",\"color\":\"rgba(0, 0, 255, 1.000)\",\"shape\":\"linear\"},\"mode\":\"lines+markers\",\"x\":[0.0]},{\"yaxis\":\"y\",\"showlegend\":true,\"type\":\"scatter3d\",\"xaxis\":\"x\",\"name\":\"65\",\"z\":[30.0],\"marker\":{\"symbol\":\"circle\",\"line\":{\"width\":0.1,\"color\":\"rgba(0, 0, 0, 0.300)\"},\"size\":6.0,\"color\":\"rgba(255, 0, 0, 0.300)\"},\"y\":[0.0],\"line\":{\"width\":1,\"dash\":\"solid\",\"color\":\"rgba(0, 0, 255, 1.000)\",\"shape\":\"linear\"},\"mode\":\"lines+markers\",\"x\":[10.0]},{\"yaxis\":\"y\",\"showlegend\":true,\"type\":\"scatter3d\",\"xaxis\":\"x\",\"name\":\"66\",\"z\":[30.0],\"marker\":{\"symbol\":\"circle\",\"line\":{\"width\":0.1,\"color\":\"rgba(0, 0, 0, 0.300)\"},\"size\":6.0,\"color\":\"rgba(255, 0, 0, 0.300)\"},\"y\":[10.0],\"line\":{\"width\":1,\"dash\":\"solid\",\"color\":\"rgba(0, 0, 255, 1.000)\",\"shape\":\"linear\"},\"mode\":\"lines+markers\",\"x\":[10.0]},{\"yaxis\":\"y\",\"showlegend\":true,\"type\":\"scatter3d\",\"xaxis\":\"x\",\"name\":\"67\",\"z\":[30.0],\"marker\":{\"symbol\":\"circle\",\"line\":{\"width\":0.1,\"color\":\"rgba(0, 0, 0, 0.300)\"},\"size\":6.0,\"color\":\"rgba(255, 0, 0, 0.300)\"},\"y\":[10.0],\"line\":{\"width\":1,\"dash\":\"solid\",\"color\":\"rgba(0, 0, 255, 1.000)\",\"shape\":\"linear\"},\"mode\":\"lines+markers\",\"x\":[0.0]},{\"yaxis\":\"y\",\"showlegend\":true,\"type\":\"scatter3d\",\"xaxis\":\"x\",\"name\":\"68\",\"z\":[30.0],\"marker\":{\"symbol\":\"circle\",\"line\":{\"width\":0.1,\"color\":\"rgba(0, 0, 0, 0.300)\"},\"size\":6.0,\"color\":\"rgba(255, 0, 0, 0.300)\"},\"y\":[1.0],\"line\":{\"width\":1,\"dash\":\"solid\",\"color\":\"rgba(0, 0, 255, 1.000)\",\"shape\":\"linear\"},\"mode\":\"lines+markers\",\"x\":[0.0]},{\"yaxis\":\"y\",\"y\":[0.75,0.75,-0.75,-0.75,0.75,0.75,0.75,-0.75,-0.75,0.75],\"showlegend\":true,\"name\":\"69\",\"type\":\"scatter3d\",\"xaxis\":\"x\",\"z\":[29.75,30.25,30.25,29.75,29.75,29.75,30.25,30.25,29.75,29.75],\"x\":[0.0,0.0,0.0,0.0,0.0,10.0,10.0,10.0,10.0,10.0],\"line\":{\"width\":1,\"dash\":\"solid\",\"color\":\"rgba(0, 0, 255, 1.000)\",\"shape\":\"linear\"},\"mode\":\"lines\"},{\"yaxis\":\"y\",\"y\":[0.75,0.75],\"showlegend\":true,\"name\":\"70\",\"type\":\"scatter3d\",\"xaxis\":\"x\",\"z\":[30.25,30.25],\"x\":[0.0,10.0],\"line\":{\"width\":1,\"dash\":\"solid\",\"color\":\"rgba(0, 0, 255, 1.000)\",\"shape\":\"linear\"},\"mode\":\"lines\"},{\"yaxis\":\"y\",\"y\":[-0.75,-0.75],\"showlegend\":true,\"name\":\"71\",\"type\":\"scatter3d\",\"xaxis\":\"x\",\"z\":[30.25,30.25],\"x\":[0.0,10.0],\"line\":{\"width\":1,\"dash\":\"solid\",\"color\":\"rgba(0, 0, 255, 1.000)\",\"shape\":\"linear\"},\"mode\":\"lines\"},{\"yaxis\":\"y\",\"y\":[-0.75,-0.75],\"showlegend\":true,\"name\":\"72\",\"type\":\"scatter3d\",\"xaxis\":\"x\",\"z\":[29.75,29.75],\"x\":[0.0,10.0],\"line\":{\"width\":1,\"dash\":\"solid\",\"color\":\"rgba(0, 0, 255, 1.000)\",\"shape\":\"linear\"},\"mode\":\"lines\"},{\"yaxis\":\"y\",\"y\":[0.0,0.0,0.0,0.0,0.0,10.0,10.0,10.0,10.0,10.0],\"showlegend\":true,\"name\":\"73\",\"type\":\"scatter3d\",\"xaxis\":\"x\",\"z\":[29.75,30.25,30.25,29.75,29.75,29.75,30.25,30.25,29.75,29.75],\"x\":[9.25,9.25,10.75,10.75,9.25,9.25,9.25,10.75,10.75,9.25],\"line\":{\"width\":1,\"dash\":\"solid\",\"color\":\"rgba(0, 0, 255, 1.000)\",\"shape\":\"linear\"},\"mode\":\"lines\"},{\"yaxis\":\"y\",\"y\":[0.0,10.0],\"showlegend\":true,\"name\":\"74\",\"type\":\"scatter3d\",\"xaxis\":\"x\",\"z\":[30.25,30.25],\"x\":[9.25,9.25],\"line\":{\"width\":1,\"dash\":\"solid\",\"color\":\"rgba(0, 0, 255, 1.000)\",\"shape\":\"linear\"},\"mode\":\"lines\"},{\"yaxis\":\"y\",\"y\":[0.0,10.0],\"showlegend\":true,\"name\":\"75\",\"type\":\"scatter3d\",\"xaxis\":\"x\",\"z\":[30.25,30.25],\"x\":[10.75,10.75],\"line\":{\"width\":1,\"dash\":\"solid\",\"color\":\"rgba(0, 0, 255, 1.000)\",\"shape\":\"linear\"},\"mode\":\"lines\"},{\"yaxis\":\"y\",\"y\":[0.0,10.0],\"showlegend\":true,\"name\":\"76\",\"type\":\"scatter3d\",\"xaxis\":\"x\",\"z\":[29.75,29.75],\"x\":[10.75,10.75],\"line\":{\"width\":1,\"dash\":\"solid\",\"color\":\"rgba(0, 0, 255, 1.000)\",\"shape\":\"linear\"},\"mode\":\"lines\"},{\"yaxis\":\"y\",\"y\":[9.25,9.25,10.75,10.75,9.25,9.25,9.25,10.75,10.75,9.25],\"showlegend\":true,\"name\":\"77\",\"type\":\"scatter3d\",\"xaxis\":\"x\",\"z\":[29.75,30.25,30.25,29.75,29.75,29.75,30.25,30.25,29.75,29.75],\"x\":[10.0,10.0,10.0,10.0,10.0,0.0,0.0,0.0,0.0,0.0],\"line\":{\"width\":1,\"dash\":\"solid\",\"color\":\"rgba(0, 0, 255, 1.000)\",\"shape\":\"linear\"},\"mode\":\"lines\"},{\"yaxis\":\"y\",\"y\":[9.25,9.25],\"showlegend\":true,\"name\":\"78\",\"type\":\"scatter3d\",\"xaxis\":\"x\",\"z\":[30.25,30.25],\"x\":[10.0,0.0],\"line\":{\"width\":1,\"dash\":\"solid\",\"color\":\"rgba(0, 0, 255, 1.000)\",\"shape\":\"linear\"},\"mode\":\"lines\"},{\"yaxis\":\"y\",\"y\":[10.75,10.75],\"showlegend\":true,\"name\":\"79\",\"type\":\"scatter3d\",\"xaxis\":\"x\",\"z\":[30.25,30.25],\"x\":[10.0,0.0],\"line\":{\"width\":1,\"dash\":\"solid\",\"color\":\"rgba(0, 0, 255, 1.000)\",\"shape\":\"linear\"},\"mode\":\"lines\"},{\"yaxis\":\"y\",\"y\":[10.75,10.75],\"showlegend\":true,\"name\":\"80\",\"type\":\"scatter3d\",\"xaxis\":\"x\",\"z\":[29.75,29.75],\"x\":[10.0,0.0],\"line\":{\"width\":1,\"dash\":\"solid\",\"color\":\"rgba(0, 0, 255, 1.000)\",\"shape\":\"linear\"},\"mode\":\"lines\"},{\"yaxis\":\"y\",\"y\":[10.0,10.0,10.0,10.0,10.0,1.0,1.0,1.0,1.0,1.0],\"showlegend\":true,\"name\":\"81\",\"type\":\"scatter3d\",\"xaxis\":\"x\",\"z\":[29.75,30.25,30.25,29.75,29.75,29.75,30.25,30.25,29.75,29.75],\"x\":[0.75,0.75,-0.75,-0.75,0.75,0.75,0.75,-0.75,-0.75,0.75],\"line\":{\"width\":1,\"dash\":\"solid\",\"color\":\"rgba(0, 0, 255, 1.000)\",\"shape\":\"linear\"},\"mode\":\"lines\"},{\"yaxis\":\"y\",\"y\":[10.0,1.0],\"showlegend\":true,\"name\":\"82\",\"type\":\"scatter3d\",\"xaxis\":\"x\",\"z\":[30.25,30.25],\"x\":[0.75,0.75],\"line\":{\"width\":1,\"dash\":\"solid\",\"color\":\"rgba(0, 0, 255, 1.000)\",\"shape\":\"linear\"},\"mode\":\"lines\"},{\"yaxis\":\"y\",\"y\":[10.0,1.0],\"showlegend\":true,\"name\":\"83\",\"type\":\"scatter3d\",\"xaxis\":\"x\",\"z\":[30.25,30.25],\"x\":[-0.75,-0.75],\"line\":{\"width\":1,\"dash\":\"solid\",\"color\":\"rgba(0, 0, 255, 1.000)\",\"shape\":\"linear\"},\"mode\":\"lines\"},{\"yaxis\":\"y\",\"y\":[10.0,1.0],\"showlegend\":true,\"name\":\"84\",\"type\":\"scatter3d\",\"xaxis\":\"x\",\"z\":[29.75,29.75],\"x\":[-0.75,-0.75],\"line\":{\"width\":1,\"dash\":\"solid\",\"color\":\"rgba(0, 0, 255, 1.000)\",\"shape\":\"linear\"},\"mode\":\"lines\"},{\"yaxis\":\"y\",\"showlegend\":true,\"type\":\"scatter3d\",\"xaxis\":\"x\",\"name\":\"85\",\"z\":[30.25],\"marker\":{\"symbol\":\"cross\",\"line\":{\"width\":0.0,\"color\":\"rgba(0, 0, 0, 0.000)\"},\"size\":0.0,\"color\":\"rgba(255, 0, 0, 0.000)\"},\"y\":[20.25],\"line\":{\"width\":1,\"dash\":\"solid\",\"color\":\"rgba(0, 0, 255, 1.000)\",\"shape\":\"linear\"},\"mode\":\"lines+markers\",\"x\":[20.25]},{\"yaxis\":\"y\",\"showlegend\":true,\"type\":\"scatter3d\",\"xaxis\":\"x\",\"name\":\"86\",\"z\":[-0.25],\"marker\":{\"symbol\":\"cross\",\"line\":{\"width\":0.0,\"color\":\"rgba(0, 0, 0, 0.000)\"},\"size\":0.0,\"color\":\"rgba(255, 0, 0, 0.000)\"},\"y\":[-10.25],\"line\":{\"width\":1,\"dash\":\"solid\",\"color\":\"rgba(0, 0, 255, 1.000)\",\"shape\":\"linear\"},\"mode\":\"lines+markers\",\"x\":[-10.25]}],  {\"annotations\":[{\"text\":\"Four loops 10mm on a side offset by 10mm in z\",\"y\":1.0,\"xref\":\"paper\",\"font\":{\"size\":20,\"color\":\"rgba(0, 0, 0, 1.000)\",\"family\":\"Helvetica\"},\"xanchor\":\"center\",\"x\":0.526246719160105,\"yref\":\"paper\",\"showarrow\":false,\"yanchor\":\"top\",\"rotation\":0.0}],\"width\":600,\"plot_bgcolor\":\"rgba(255, 255, 255, 1.000)\",\"scene\":{\"yaxis\":{\"type\":\"-\",\"titlefont\":{\"size\":15,\"color\":\"rgba(0, 0, 0, 1.000)\",\"family\":\"Helvetica\"},\"title\":\"\",\"tickfont\":{\"size\":11,\"color\":\"rgba(0, 0, 0, 1.000)\",\"family\":\"Helvetica\"},\"tickmode\":\"array\",\"showgrid\":true,\"tickvals\":[-10.0,0.0,10.0,20.0],\"domain\":[0.057305336832895896,0.9415463692038495],\"ticktext\":[\"-10\",\"0\",\"10\",\"20\"],\"zeroline\":false,\"linecolor\":\"rgba(0, 0, 0, 1.000)\",\"tickcolor\":\"rgba(0, 0, 0, 1.000)\",\"anchor\":\"x\"},\"xaxis\":{\"type\":\"-\",\"titlefont\":{\"size\":15,\"color\":\"rgba(0, 0, 0, 1.000)\",\"family\":\"Helvetica\"},\"title\":\"\",\"tickfont\":{\"size\":11,\"color\":\"rgba(0, 0, 0, 1.000)\",\"family\":\"Helvetica\"},\"tickmode\":\"array\",\"showgrid\":true,\"tickvals\":[-10.0,0.0,10.0,20.0],\"domain\":[0.05905511811023622,0.9934383202099738],\"ticktext\":[\"-10\",\"0\",\"10\",\"20\"],\"zeroline\":false,\"linecolor\":\"rgba(0, 0, 0, 1.000)\",\"tickcolor\":\"rgba(0, 0, 0, 1.000)\",\"anchor\":\"y\"},\"zaxis\":{\"type\":\"-\",\"titlefont\":{\"size\":15,\"color\":\"rgba(0, 0, 0, 1.000)\",\"family\":\"Helvetica\"},\"title\":\"\",\"tickfont\":{\"size\":11,\"color\":\"rgba(0, 0, 0, 1.000)\",\"family\":\"Helvetica\"},\"tickmode\":\"array\",\"showgrid\":true,\"tickvals\":[0.0,10.0,20.0,30.0],\"ticktext\":[\"0\",\"10\",\"20\",\"30\"],\"zeroline\":false,\"linecolor\":\"rgba(0, 0, 0, 1.000)\",\"tickcolor\":\"rgba(0, 0, 0, 1.000)\"}},\"showlegend\":false,\"paper_bgcolor\":\"rgba(255, 255, 255, 1.000)\",\"margin\":{\"r\":0,\"l\":0,\"b\":0,\"t\":20},\"height\":400}, {showLink: false});\n",
       "\n",
       "    });\n",
       " </script>\n"
      ]
     },
     "metadata": {},
     "output_type": "display_data"
    }
   ],
   "source": [
    "using Plots; plotlyjs()  #  use plotlyjs() or plotly() for interactive plot\n",
    "plot(fourloops);gui()"
   ]
  },
  {
   "cell_type": "markdown",
   "metadata": {},
   "source": [
    "Write fourloops to file."
   ]
  },
  {
   "cell_type": "code",
   "execution_count": 13,
   "metadata": {
    "collapsed": true
   },
   "outputs": [],
   "source": [
    "open(\"fourloops.inp\",\"w\") do io\n",
    "    show(io,fourloops)\n",
    "end"
   ]
  },
  {
   "cell_type": "code",
   "execution_count": null,
   "metadata": {
    "collapsed": true
   },
   "outputs": [],
   "source": []
  }
 ],
 "metadata": {
  "kernelspec": {
   "display_name": "Julia 0.5.0-rc3",
   "language": "julia",
   "name": "julia-0.5"
  },
  "language_info": {
   "file_extension": ".jl",
   "mimetype": "application/julia",
   "name": "julia",
   "version": "0.5.0"
  }
 },
 "nbformat": 4,
 "nbformat_minor": 0
}
