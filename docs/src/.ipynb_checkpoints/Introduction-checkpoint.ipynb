{
 "cells": [
  {
   "cell_type": "markdown",
   "metadata": {},
   "source": [
    "# Introduction to FastHenryHelper"
   ]
  },
  {
   "cell_type": "code",
   "execution_count": 1,
   "metadata": {
    "collapsed": false
   },
   "outputs": [
    {
     "name": "stderr",
     "output_type": "stream",
     "text": [
      "WARNING: Method definition show("
     ]
    },
    {
     "data": {
      "text/plain": [
       "Plots.PlotlyJSBackend()"
      ]
     },
     "execution_count": 1,
     "metadata": {},
     "output_type": "execute_result"
    }
   ],
   "source": [
    "using FastHenryHelper\n",
    "using Plots; plotlyjs() # using plotlyjs() backend for plots, pyplot() also works."
   ]
  },
  {
   "cell_type": "code",
   "execution_count": 2,
   "metadata": {
    "collapsed": false
   },
   "outputs": [
    {
     "name": "stderr",
     "output_type": "stream",
     "text": [
      "IO, Base.Multimedia.MIME{:text/plain}, Plots.Plot) in module Plots at C:\\Users\\Chris\\.julia\\v0.5\\Plots\\src\\output.jl:168 overwritten at C:\\Users\\Chris\\.julia\\v0.5\\Plots\\src\\output.jl:241"
     ]
    },
    {
     "data": {
      "text/plain": [
       "N_1 x=1.000000000e+01 y=0.000000000e+00 z=0.000000000e+00\n"
      ]
     },
     "execution_count": 2,
     "metadata": {},
     "output_type": "execute_result"
    }
   ],
   "source": [
    "# FastHenry commands are julia types which show thier command\n",
    "# for example\n",
    "n1 = Node(10,0,0)\n",
    "# Since a name was not specified, _1 was automatically generated.\n",
    "# x, y, and z must always be specified.  Default z is not allowed. "
   ]
  },
  {
   "cell_type": "code",
   "execution_count": 3,
   "metadata": {
    "collapsed": false
   },
   "outputs": [
    {
     "name": "stderr",
     "output_type": "stream",
     "text": [
      ".\n"
     ]
    },
    {
     "data": {
      "text/plain": [
       "Nabcd x=0.000000000e+00 y=0.000000000e+00 z=0.000000000e+00\n"
      ]
     },
     "execution_count": 3,
     "metadata": {},
     "output_type": "execute_result"
    }
   ],
   "source": [
    "# Names can be specified\n",
    "n2 = Node(:abcd,0,0,0)"
   ]
  },
  {
   "cell_type": "code",
   "execution_count": 4,
   "metadata": {
    "collapsed": false
   },
   "outputs": [
    {
     "data": {
      "text/plain": [
       "E_1 N_2 Nabcd\n",
       "+  w=1.000000000e+01 h=2.000000000e+01 nhinc=7 nwinc=5\n"
      ]
     },
     "execution_count": 4,
     "metadata": {},
     "output_type": "execute_result"
    }
   ],
   "source": [
    "# Segments connect nodes.  \n",
    "# Keyword parameters match the FastHenry keywords.\n",
    "s1 = Segment(n1, n2, w=10, h=20, nwinc=5, nhinc=7)"
   ]
  },
  {
   "cell_type": "code",
   "execution_count": 5,
   "metadata": {
    "collapsed": false
   },
   "outputs": [
    {
     "data": {
      "text/plain": [
       "E_1 N_2 Nabcd\n",
       "+  w=1.000000000e+01 h=2.000000000e+01 nhinc=7 nwinc=5\n"
      ]
     },
     "execution_count": 5,
     "metadata": {},
     "output_type": "execute_result"
    }
   ],
   "source": [
    "# Parameters may also be passed as a SegmentParameters type.\n",
    "sp1 = SegmentParameters(w=10, h=20, nwinc=5, nhinc=7)\n",
    "s1 = Segment(n1, n2, sp1)"
   ]
  },
  {
   "cell_type": "code",
   "execution_count": 6,
   "metadata": {
    "collapsed": false
   },
   "outputs": [
    {
     "data": {
      "text/plain": [
       "E_1 N_2 Nabcd\n",
       "+  w=5.000000000e+00 h=2.000000000e+00 nhinc=7 nwinc=5\n"
      ]
     },
     "execution_count": 6,
     "metadata": {},
     "output_type": "execute_result"
    }
   ],
   "source": [
    "# Speciying just the keyword parameters that change\n",
    "sp2 = SegmentParameters(sp1,w=5,h=2)\n",
    "s2 = Segment(n1, n2, sp2)"
   ]
  },
  {
   "cell_type": "code",
   "execution_count": 7,
   "metadata": {
    "collapsed": false
   },
   "outputs": [
    {
     "data": {
      "text/plain": [
       "N_1 x=1.000000000e+01 y=0.000000000e+00 z=0.000000000e+00\n",
       "Nabcd x=0.000000000e+00 y=0.000000000e+00 z=0.000000000e+00\n",
       "E_2 N_1 Nabcd\n",
       "+  w=5.000000000e+00 h=2.000000000e+00 nhinc=7 nwinc=5\n"
      ]
     },
     "execution_count": 7,
     "metadata": {},
     "output_type": "execute_result"
    }
   ],
   "source": [
    "# Elements may be collected in groups\n",
    "g1 = Group([n1,n2,s2])"
   ]
  },
  {
   "cell_type": "code",
   "execution_count": 9,
   "metadata": {
    "collapsed": false
   },
   "outputs": [
    {
     "data": {
      "text/html": [
       "<div id=\"325538ab-e17e-4e26-aacc-32df39b03afe\" class=\"plotly-graph-div\"></div>\n",
       "\n",
       "<script>\n",
       "    window.PLOTLYENV=window.PLOTLYENV || {};\n",
       "    window.PLOTLYENV.BASE_URL=\"https://plot.ly\";\n",
       "    require(['plotly'], function(Plotly) {\n",
       "        Plotly.newPlot('325538ab-e17e-4e26-aacc-32df39b03afe', [{\"yaxis\":\"y\",\"showlegend\":true,\"type\":\"scatter3d\",\"xaxis\":\"x\",\"name\":\"1\",\"z\":[0.0],\"marker\":{\"symbol\":\"circle\",\"line\":{\"width\":0.1,\"color\":\"rgba(0, 0, 0, 0.300)\"},\"size\":6.0,\"color\":\"rgba(255, 0, 0, 0.300)\"},\"y\":[0.0],\"line\":{\"width\":1,\"dash\":\"solid\",\"color\":\"rgba(0, 0, 255, 1.000)\",\"shape\":\"linear\"},\"mode\":\"lines+markers\",\"x\":[10.0]},{\"yaxis\":\"y\",\"showlegend\":true,\"type\":\"scatter3d\",\"xaxis\":\"x\",\"name\":\"2\",\"z\":[0.0],\"marker\":{\"symbol\":\"circle\",\"line\":{\"width\":0.1,\"color\":\"rgba(0, 0, 0, 0.300)\"},\"size\":6.0,\"color\":\"rgba(255, 0, 0, 0.300)\"},\"y\":[0.0],\"line\":{\"width\":1,\"dash\":\"solid\",\"color\":\"rgba(0, 0, 255, 1.000)\",\"shape\":\"linear\"},\"mode\":\"lines+markers\",\"x\":[0.0]},{\"yaxis\":\"y\",\"y\":[-2.5,-2.5,2.5,2.5,-2.5,-2.5,-2.5,2.5,2.5,-2.5],\"showlegend\":true,\"name\":\"3\",\"type\":\"scatter3d\",\"xaxis\":\"x\",\"z\":[-1.0,1.0,1.0,-1.0,-1.0,-1.0,1.0,1.0,-1.0,-1.0],\"x\":[10.0,10.0,10.0,10.0,10.0,0.0,0.0,0.0,0.0,0.0],\"line\":{\"width\":1,\"dash\":\"solid\",\"color\":\"rgba(0, 0, 255, 1.000)\",\"shape\":\"linear\"},\"mode\":\"lines\"},{\"yaxis\":\"y\",\"y\":[-2.5,-2.5],\"showlegend\":true,\"name\":\"4\",\"type\":\"scatter3d\",\"xaxis\":\"x\",\"z\":[1.0,1.0],\"x\":[10.0,0.0],\"line\":{\"width\":1,\"dash\":\"solid\",\"color\":\"rgba(0, 0, 255, 1.000)\",\"shape\":\"linear\"},\"mode\":\"lines\"},{\"yaxis\":\"y\",\"y\":[2.5,2.5],\"showlegend\":true,\"name\":\"5\",\"type\":\"scatter3d\",\"xaxis\":\"x\",\"z\":[1.0,1.0],\"x\":[10.0,0.0],\"line\":{\"width\":1,\"dash\":\"solid\",\"color\":\"rgba(0, 0, 255, 1.000)\",\"shape\":\"linear\"},\"mode\":\"lines\"},{\"yaxis\":\"y\",\"y\":[2.5,2.5],\"showlegend\":true,\"name\":\"6\",\"type\":\"scatter3d\",\"xaxis\":\"x\",\"z\":[-1.0,-1.0],\"x\":[10.0,0.0],\"line\":{\"width\":1,\"dash\":\"solid\",\"color\":\"rgba(0, 0, 255, 1.000)\",\"shape\":\"linear\"},\"mode\":\"lines\"},{\"yaxis\":\"y\",\"showlegend\":true,\"type\":\"scatter3d\",\"xaxis\":\"x\",\"name\":\"7\",\"z\":[5.0],\"marker\":{\"symbol\":\"cross\",\"line\":{\"width\":0.0,\"color\":\"rgba(0, 0, 0, 0.000)\"},\"size\":0.0,\"color\":\"rgba(255, 0, 0, 0.000)\"},\"y\":[5.0],\"line\":{\"width\":1,\"dash\":\"solid\",\"color\":\"rgba(0, 0, 255, 1.000)\",\"shape\":\"linear\"},\"mode\":\"lines+markers\",\"x\":[10.0]},{\"yaxis\":\"y\",\"showlegend\":true,\"type\":\"scatter3d\",\"xaxis\":\"x\",\"name\":\"8\",\"z\":[-5.0],\"marker\":{\"symbol\":\"cross\",\"line\":{\"width\":0.0,\"color\":\"rgba(0, 0, 0, 0.000)\"},\"size\":0.0,\"color\":\"rgba(255, 0, 0, 0.000)\"},\"y\":[-5.0],\"line\":{\"width\":1,\"dash\":\"solid\",\"color\":\"rgba(0, 0, 255, 1.000)\",\"shape\":\"linear\"},\"mode\":\"lines+markers\",\"x\":[0.0]}],  {\"annotations\":[],\"width\":600,\"plot_bgcolor\":\"rgba(255, 255, 255, 1.000)\",\"scene\":{\"yaxis\":{\"type\":\"-\",\"titlefont\":{\"size\":15,\"color\":\"rgba(0, 0, 0, 1.000)\",\"family\":\"Helvetica\"},\"title\":\"\",\"tickfont\":{\"size\":11,\"color\":\"rgba(0, 0, 0, 1.000)\",\"family\":\"Helvetica\"},\"tickmode\":\"array\",\"showgrid\":true,\"tickvals\":[-4.0,-2.0,0.0,2.0,4.0],\"domain\":[0.057305336832895896,0.9901574803149605],\"ticktext\":[\"-4\",\"-2\",\"0\",\"2\",\"4\"],\"zeroline\":false,\"linecolor\":\"rgba(0, 0, 0, 1.000)\",\"tickcolor\":\"rgba(0, 0, 0, 1.000)\",\"anchor\":\"x\"},\"xaxis\":{\"type\":\"-\",\"titlefont\":{\"size\":15,\"color\":\"rgba(0, 0, 0, 1.000)\",\"family\":\"Helvetica\"},\"title\":\"\",\"tickfont\":{\"size\":11,\"color\":\"rgba(0, 0, 0, 1.000)\",\"family\":\"Helvetica\"},\"tickmode\":\"array\",\"showgrid\":true,\"tickvals\":[0.0,5.0,10.0],\"domain\":[0.05905511811023622,0.9934383202099738],\"ticktext\":[\"0\",\"5\",\"10\"],\"zeroline\":false,\"linecolor\":\"rgba(0, 0, 0, 1.000)\",\"tickcolor\":\"rgba(0, 0, 0, 1.000)\",\"anchor\":\"y\"},\"zaxis\":{\"type\":\"-\",\"titlefont\":{\"size\":15,\"color\":\"rgba(0, 0, 0, 1.000)\",\"family\":\"Helvetica\"},\"title\":\"\",\"tickfont\":{\"size\":11,\"color\":\"rgba(0, 0, 0, 1.000)\",\"family\":\"Helvetica\"},\"tickmode\":\"array\",\"showgrid\":true,\"tickvals\":[-4.0,-2.0,0.0,2.0,4.0],\"ticktext\":[\"-4\",\"-2\",\"0\",\"2\",\"4\"],\"zeroline\":false,\"linecolor\":\"rgba(0, 0, 0, 1.000)\",\"tickcolor\":\"rgba(0, 0, 0, 1.000)\"}},\"showlegend\":false,\"paper_bgcolor\":\"rgba(255, 255, 255, 1.000)\",\"margin\":{\"r\":0,\"l\":0,\"b\":0,\"t\":20},\"height\":400}, {showLink: false});\n",
       "\n",
       "    });\n",
       " </script>\n"
      ]
     },
     "metadata": {},
     "output_type": "display_data"
    }
   ],
   "source": [
    "# lets take a look\n",
    "plot(g1);gui()"
   ]
  },
  {
   "cell_type": "code",
   "execution_count": 10,
   "metadata": {
    "collapsed": false
   },
   "outputs": [
    {
     "data": {
      "text/plain": [
       "N_1 x=1.000000000e+01 y=-1.414213562e+01 z=1.000000000e+01\n",
       "Nabcd x=5.000000000e+00 y=-7.071067812e+00 z=5.000000000e+00\n",
       "E_2 N_1 Nabcd\n",
       "+  w=5.000000000e+00 h=2.000000000e+00 nhinc=7 nwinc=5\n",
       "+  wx=-5.000000000e-01 wy=-7.071067812e-01 wz=-5.000000000e-01\n"
      ]
     },
     "execution_count": 10,
     "metadata": {},
     "output_type": "execute_result"
    }
   ],
   "source": [
    "# rotate group g1 π/4 around y and z azis and translate by 10 along x azis.\n",
    "transformmatrix = ry(π/4) * rz(π/4) * txyz(10,0,0)\n",
    "transform!(g1,transformmatrix)\n",
    "# note: the wx, wy, wz vector for the segment has rotated from default and all \n",
    "# automatically generated names are unique.\n",
    "g1"
   ]
  },
  {
   "cell_type": "code",
   "execution_count": 11,
   "metadata": {
    "collapsed": false
   },
   "outputs": [
    {
     "data": {
      "text/html": [
       "<div id=\"4ee71910-cb1d-45e4-a39c-3df571a602db\" class=\"plotly-graph-div\"></div>\n",
       "\n",
       "<script>\n",
       "    window.PLOTLYENV=window.PLOTLYENV || {};\n",
       "    window.PLOTLYENV.BASE_URL=\"https://plot.ly\";\n",
       "    require(['plotly'], function(Plotly) {\n",
       "        Plotly.newPlot('4ee71910-cb1d-45e4-a39c-3df571a602db', [{\"yaxis\":\"y\",\"showlegend\":true,\"type\":\"scatter3d\",\"xaxis\":\"x\",\"name\":\"1\",\"z\":[10.0],\"marker\":{\"symbol\":\"circle\",\"line\":{\"width\":0.1,\"color\":\"rgba(0, 0, 0, 0.300)\"},\"size\":6.0,\"color\":\"rgba(255, 0, 0, 0.300)\"},\"y\":[-14.14213562373095],\"line\":{\"width\":1,\"dash\":\"solid\",\"color\":\"rgba(0, 0, 255, 1.000)\",\"shape\":\"linear\"},\"mode\":\"lines+markers\",\"x\":[10.000000000000002]},{\"yaxis\":\"y\",\"showlegend\":true,\"type\":\"scatter3d\",\"xaxis\":\"x\",\"name\":\"2\",\"z\":[5.0],\"marker\":{\"symbol\":\"circle\",\"line\":{\"width\":0.1,\"color\":\"rgba(0, 0, 0, 0.300)\"},\"size\":6.0,\"color\":\"rgba(255, 0, 0, 0.300)\"},\"y\":[-7.071067811865475],\"line\":{\"width\":1,\"dash\":\"solid\",\"color\":\"rgba(0, 0, 255, 1.000)\",\"shape\":\"linear\"},\"mode\":\"lines+markers\",\"x\":[5.000000000000001]},{\"yaxis\":\"y\",\"y\":[-15.909902576697318,-15.909902576697318,-12.37436867076458,-12.37436867076458,-15.909902576697318,-8.838834764831844,-8.838834764831844,-5.303300858899106,-5.303300858899106,-8.838834764831844],\"showlegend\":true,\"name\":\"3\",\"type\":\"scatter3d\",\"xaxis\":\"x\",\"z\":[8.042893218813452,9.457106781186548,11.957106781186548,10.542893218813452,8.042893218813452,3.0428932188134525,4.457106781186548,6.957106781186548,5.542893218813452,3.0428932188134525],\"x\":[9.45710678118655,8.042893218813454,10.542893218813454,11.95710678118655,9.45710678118655,4.457106781186548,3.0428932188134534,5.542893218813454,6.957106781186548,4.457106781186548],\"line\":{\"width\":1,\"dash\":\"solid\",\"color\":\"rgba(0, 0, 255, 1.000)\",\"shape\":\"linear\"},\"mode\":\"lines\"},{\"yaxis\":\"y\",\"y\":[-15.909902576697318,-8.838834764831844],\"showlegend\":true,\"name\":\"4\",\"type\":\"scatter3d\",\"xaxis\":\"x\",\"z\":[9.457106781186548,4.457106781186548],\"x\":[8.042893218813454,3.0428932188134534],\"line\":{\"width\":1,\"dash\":\"solid\",\"color\":\"rgba(0, 0, 255, 1.000)\",\"shape\":\"linear\"},\"mode\":\"lines\"},{\"yaxis\":\"y\",\"y\":[-12.37436867076458,-5.303300858899106],\"showlegend\":true,\"name\":\"5\",\"type\":\"scatter3d\",\"xaxis\":\"x\",\"z\":[11.957106781186548,6.957106781186548],\"x\":[10.542893218813454,5.542893218813454],\"line\":{\"width\":1,\"dash\":\"solid\",\"color\":\"rgba(0, 0, 255, 1.000)\",\"shape\":\"linear\"},\"mode\":\"lines\"},{\"yaxis\":\"y\",\"y\":[-12.37436867076458,-5.303300858899106],\"showlegend\":true,\"name\":\"6\",\"type\":\"scatter3d\",\"xaxis\":\"x\",\"z\":[10.542893218813452,5.542893218813452],\"x\":[11.95710678118655,6.957106781186548],\"line\":{\"width\":1,\"dash\":\"solid\",\"color\":\"rgba(0, 0, 255, 1.000)\",\"shape\":\"linear\"},\"mode\":\"lines\"},{\"yaxis\":\"y\",\"showlegend\":true,\"type\":\"scatter3d\",\"xaxis\":\"x\",\"name\":\"7\",\"z\":[12.803300858899107],\"marker\":{\"symbol\":\"cross\",\"line\":{\"width\":0.0,\"color\":\"rgba(0, 0, 0, 0.000)\"},\"size\":0.0,\"color\":\"rgba(255, 0, 0, 0.000)\"},\"y\":[-5.303300858899105],\"line\":{\"width\":1,\"dash\":\"solid\",\"color\":\"rgba(0, 0, 255, 1.000)\",\"shape\":\"linear\"},\"mode\":\"lines+markers\",\"x\":[12.803300858899108]},{\"yaxis\":\"y\",\"showlegend\":true,\"type\":\"scatter3d\",\"xaxis\":\"x\",\"name\":\"8\",\"z\":[2.1966991411008934],\"marker\":{\"symbol\":\"cross\",\"line\":{\"width\":0.0,\"color\":\"rgba(0, 0, 0, 0.000)\"},\"size\":0.0,\"color\":\"rgba(255, 0, 0, 0.000)\"},\"y\":[-15.909902576697318],\"line\":{\"width\":1,\"dash\":\"solid\",\"color\":\"rgba(0, 0, 255, 1.000)\",\"shape\":\"linear\"},\"mode\":\"lines+markers\",\"x\":[2.196699141100895]}],  {\"annotations\":[],\"width\":600,\"plot_bgcolor\":\"rgba(255, 255, 255, 1.000)\",\"scene\":{\"yaxis\":{\"type\":\"-\",\"titlefont\":{\"size\":15,\"color\":\"rgba(0, 0, 0, 1.000)\",\"family\":\"Helvetica\"},\"title\":\"\",\"tickfont\":{\"size\":11,\"color\":\"rgba(0, 0, 0, 1.000)\",\"family\":\"Helvetica\"},\"tickmode\":\"array\",\"showgrid\":true,\"tickvals\":[-15.0,-10.0,-5.0],\"domain\":[0.057305336832895896,0.9901574803149605],\"ticktext\":[\"-15\",\"-10\",\"-5\"],\"zeroline\":false,\"linecolor\":\"rgba(0, 0, 0, 1.000)\",\"tickcolor\":\"rgba(0, 0, 0, 1.000)\",\"anchor\":\"x\"},\"xaxis\":{\"type\":\"-\",\"titlefont\":{\"size\":15,\"color\":\"rgba(0, 0, 0, 1.000)\",\"family\":\"Helvetica\"},\"title\":\"\",\"tickfont\":{\"size\":11,\"color\":\"rgba(0, 0, 0, 1.000)\",\"family\":\"Helvetica\"},\"tickmode\":\"array\",\"showgrid\":true,\"tickvals\":[5.0,10.0],\"domain\":[0.05905511811023622,0.9934383202099738],\"ticktext\":[\"5\",\"10\"],\"zeroline\":false,\"linecolor\":\"rgba(0, 0, 0, 1.000)\",\"tickcolor\":\"rgba(0, 0, 0, 1.000)\",\"anchor\":\"y\"},\"zaxis\":{\"type\":\"-\",\"titlefont\":{\"size\":15,\"color\":\"rgba(0, 0, 0, 1.000)\",\"family\":\"Helvetica\"},\"title\":\"\",\"tickfont\":{\"size\":11,\"color\":\"rgba(0, 0, 0, 1.000)\",\"family\":\"Helvetica\"},\"tickmode\":\"array\",\"showgrid\":true,\"tickvals\":[5.0,10.0],\"ticktext\":[\"5\",\"10\"],\"zeroline\":false,\"linecolor\":\"rgba(0, 0, 0, 1.000)\",\"tickcolor\":\"rgba(0, 0, 0, 1.000)\"}},\"showlegend\":false,\"paper_bgcolor\":\"rgba(255, 255, 255, 1.000)\",\"margin\":{\"r\":0,\"l\":0,\"b\":0,\"t\":20},\"height\":400}, {showLink: false});\n",
       "\n",
       "    });\n",
       " </script>\n"
      ]
     },
     "metadata": {},
     "output_type": "display_data"
    }
   ],
   "source": [
    "plot(g1);gui()"
   ]
  },
  {
   "cell_type": "code",
   "execution_count": 12,
   "metadata": {
    "collapsed": true
   },
   "outputs": [],
   "source": [
    "# The following example shows the use of groups to create input files\n",
    "# with repetitive geometry"
   ]
  },
  {
   "cell_type": "code",
   "execution_count": 13,
   "metadata": {
    "collapsed": false
   },
   "outputs": [
    {
     "data": {
      "text/plain": [
       "N_1 x=0.000000000e+00 y=-1.000000000e+00 z=0.000000000e+00\n",
       "N_2 x=0.000000000e+00 y=-1.000000000e+01 z=0.000000000e+00\n",
       "N_3 x=1.000000000e+01 y=-1.000000000e+01 z=0.000000000e+00\n",
       "N_4 x=1.000000000e+01 y=1.000000000e+01 z=0.000000000e+00\n",
       "N_5 x=0.000000000e+00 y=1.000000000e+01 z=0.000000000e+00\n",
       "N_6 x=0.000000000e+00 y=1.000000000e+00 z=0.000000000e+00\n",
       "E_7 N_1 N_2\n",
       "+  w=3.000000000e+00 h=2.000000000e+00\n",
       "E_8 N_2 N_3\n",
       "+  w=3.000000000e+00 h=2.000000000e+00\n",
       "E_9 N_3 N_4\n",
       "+  w=3.000000000e+00 h=2.000000000e+00\n",
       "E_10 N_4 N_5\n",
       "+  w=3.000000000e+00 h=2.000000000e+00\n",
       "E_11 N_5 N_6\n",
       "+  w=3.000000000e+00 h=2.000000000e+00\n"
      ]
     },
     "execution_count": 13,
     "metadata": {},
     "output_type": "execute_result"
    }
   ],
   "source": [
    "# create a square loop in the xy plane with a gop at the origin\n",
    "n1 = Node(0,-1,0)\n",
    "n2 = Node(0,-10,0)\n",
    "n3 = Node(10,-10,0)\n",
    "n4 = Node(10,10,0)\n",
    "n5 = Node(0,10,0)\n",
    "n6 = Node(0,1,0)\n",
    "sp = SegmentParameters(h=2,w=3)\n",
    "s1 = Segment(n1,n2,sp)\n",
    "s2 = Segment(n2,n3,sp)\n",
    "s3 = Segment(n3,n4,sp)\n",
    "s4 = Segment(n4,n5,sp)\n",
    "s5 = Segment(n5,n6,sp)\n",
    "loop = Group([n1,n2,n3,n4,n5,n6,s1,s2,s3,s4,s5])"
   ]
  },
  {
   "cell_type": "code",
   "execution_count": 14,
   "metadata": {
    "collapsed": false
   },
   "outputs": [
    {
     "data": {
      "text/html": [
       "<div id=\"5754d08e-e6aa-4e42-bc40-039785052c21\" class=\"plotly-graph-div\"></div>\n",
       "\n",
       "<script>\n",
       "    window.PLOTLYENV=window.PLOTLYENV || {};\n",
       "    window.PLOTLYENV.BASE_URL=\"https://plot.ly\";\n",
       "    require(['plotly'], function(Plotly) {\n",
       "        Plotly.newPlot('5754d08e-e6aa-4e42-bc40-039785052c21', [{\"yaxis\":\"y\",\"showlegend\":true,\"type\":\"scatter3d\",\"xaxis\":\"x\",\"name\":\"1\",\"z\":[0.0],\"marker\":{\"symbol\":\"circle\",\"line\":{\"width\":0.1,\"color\":\"rgba(0, 0, 0, 0.300)\"},\"size\":6.0,\"color\":\"rgba(255, 0, 0, 0.300)\"},\"y\":[-1.0],\"line\":{\"width\":1,\"dash\":\"solid\",\"color\":\"rgba(0, 0, 255, 1.000)\",\"shape\":\"linear\"},\"mode\":\"lines+markers\",\"x\":[0.0]},{\"yaxis\":\"y\",\"showlegend\":true,\"type\":\"scatter3d\",\"xaxis\":\"x\",\"name\":\"2\",\"z\":[0.0],\"marker\":{\"symbol\":\"circle\",\"line\":{\"width\":0.1,\"color\":\"rgba(0, 0, 0, 0.300)\"},\"size\":6.0,\"color\":\"rgba(255, 0, 0, 0.300)\"},\"y\":[-10.0],\"line\":{\"width\":1,\"dash\":\"solid\",\"color\":\"rgba(0, 0, 255, 1.000)\",\"shape\":\"linear\"},\"mode\":\"lines+markers\",\"x\":[0.0]},{\"yaxis\":\"y\",\"showlegend\":true,\"type\":\"scatter3d\",\"xaxis\":\"x\",\"name\":\"3\",\"z\":[0.0],\"marker\":{\"symbol\":\"circle\",\"line\":{\"width\":0.1,\"color\":\"rgba(0, 0, 0, 0.300)\"},\"size\":6.0,\"color\":\"rgba(255, 0, 0, 0.300)\"},\"y\":[-10.0],\"line\":{\"width\":1,\"dash\":\"solid\",\"color\":\"rgba(0, 0, 255, 1.000)\",\"shape\":\"linear\"},\"mode\":\"lines+markers\",\"x\":[10.0]},{\"yaxis\":\"y\",\"showlegend\":true,\"type\":\"scatter3d\",\"xaxis\":\"x\",\"name\":\"4\",\"z\":[0.0],\"marker\":{\"symbol\":\"circle\",\"line\":{\"width\":0.1,\"color\":\"rgba(0, 0, 0, 0.300)\"},\"size\":6.0,\"color\":\"rgba(255, 0, 0, 0.300)\"},\"y\":[10.0],\"line\":{\"width\":1,\"dash\":\"solid\",\"color\":\"rgba(0, 0, 255, 1.000)\",\"shape\":\"linear\"},\"mode\":\"lines+markers\",\"x\":[10.0]},{\"yaxis\":\"y\",\"showlegend\":true,\"type\":\"scatter3d\",\"xaxis\":\"x\",\"name\":\"5\",\"z\":[0.0],\"marker\":{\"symbol\":\"circle\",\"line\":{\"width\":0.1,\"color\":\"rgba(0, 0, 0, 0.300)\"},\"size\":6.0,\"color\":\"rgba(255, 0, 0, 0.300)\"},\"y\":[10.0],\"line\":{\"width\":1,\"dash\":\"solid\",\"color\":\"rgba(0, 0, 255, 1.000)\",\"shape\":\"linear\"},\"mode\":\"lines+markers\",\"x\":[0.0]},{\"yaxis\":\"y\",\"showlegend\":true,\"type\":\"scatter3d\",\"xaxis\":\"x\",\"name\":\"6\",\"z\":[0.0],\"marker\":{\"symbol\":\"circle\",\"line\":{\"width\":0.1,\"color\":\"rgba(0, 0, 0, 0.300)\"},\"size\":6.0,\"color\":\"rgba(255, 0, 0, 0.300)\"},\"y\":[1.0],\"line\":{\"width\":1,\"dash\":\"solid\",\"color\":\"rgba(0, 0, 255, 1.000)\",\"shape\":\"linear\"},\"mode\":\"lines+markers\",\"x\":[0.0]},{\"yaxis\":\"y\",\"y\":[-1.0,-1.0,-1.0,-1.0,-1.0,-10.0,-10.0,-10.0,-10.0,-10.0],\"showlegend\":true,\"name\":\"7\",\"type\":\"scatter3d\",\"xaxis\":\"x\",\"z\":[-1.0,1.0,1.0,-1.0,-1.0,-1.0,1.0,1.0,-1.0,-1.0],\"x\":[1.5,1.5,-1.5,-1.5,1.5,1.5,1.5,-1.5,-1.5,1.5],\"line\":{\"width\":1,\"dash\":\"solid\",\"color\":\"rgba(0, 0, 255, 1.000)\",\"shape\":\"linear\"},\"mode\":\"lines\"},{\"yaxis\":\"y\",\"y\":[-1.0,-10.0],\"showlegend\":true,\"name\":\"8\",\"type\":\"scatter3d\",\"xaxis\":\"x\",\"z\":[1.0,1.0],\"x\":[1.5,1.5],\"line\":{\"width\":1,\"dash\":\"solid\",\"color\":\"rgba(0, 0, 255, 1.000)\",\"shape\":\"linear\"},\"mode\":\"lines\"},{\"yaxis\":\"y\",\"y\":[-1.0,-10.0],\"showlegend\":true,\"name\":\"9\",\"type\":\"scatter3d\",\"xaxis\":\"x\",\"z\":[1.0,1.0],\"x\":[-1.5,-1.5],\"line\":{\"width\":1,\"dash\":\"solid\",\"color\":\"rgba(0, 0, 255, 1.000)\",\"shape\":\"linear\"},\"mode\":\"lines\"},{\"yaxis\":\"y\",\"y\":[-1.0,-10.0],\"showlegend\":true,\"name\":\"10\",\"type\":\"scatter3d\",\"xaxis\":\"x\",\"z\":[-1.0,-1.0],\"x\":[-1.5,-1.5],\"line\":{\"width\":1,\"dash\":\"solid\",\"color\":\"rgba(0, 0, 255, 1.000)\",\"shape\":\"linear\"},\"mode\":\"lines\"},{\"yaxis\":\"y\",\"y\":[-8.5,-8.5,-11.5,-11.5,-8.5,-8.5,-8.5,-11.5,-11.5,-8.5],\"showlegend\":true,\"name\":\"11\",\"type\":\"scatter3d\",\"xaxis\":\"x\",\"z\":[-1.0,1.0,1.0,-1.0,-1.0,-1.0,1.0,1.0,-1.0,-1.0],\"x\":[0.0,0.0,0.0,0.0,0.0,10.0,10.0,10.0,10.0,10.0],\"line\":{\"width\":1,\"dash\":\"solid\",\"color\":\"rgba(0, 0, 255, 1.000)\",\"shape\":\"linear\"},\"mode\":\"lines\"},{\"yaxis\":\"y\",\"y\":[-8.5,-8.5],\"showlegend\":true,\"name\":\"12\",\"type\":\"scatter3d\",\"xaxis\":\"x\",\"z\":[1.0,1.0],\"x\":[0.0,10.0],\"line\":{\"width\":1,\"dash\":\"solid\",\"color\":\"rgba(0, 0, 255, 1.000)\",\"shape\":\"linear\"},\"mode\":\"lines\"},{\"yaxis\":\"y\",\"y\":[-11.5,-11.5],\"showlegend\":true,\"name\":\"13\",\"type\":\"scatter3d\",\"xaxis\":\"x\",\"z\":[1.0,1.0],\"x\":[0.0,10.0],\"line\":{\"width\":1,\"dash\":\"solid\",\"color\":\"rgba(0, 0, 255, 1.000)\",\"shape\":\"linear\"},\"mode\":\"lines\"},{\"yaxis\":\"y\",\"y\":[-11.5,-11.5],\"showlegend\":true,\"name\":\"14\",\"type\":\"scatter3d\",\"xaxis\":\"x\",\"z\":[-1.0,-1.0],\"x\":[0.0,10.0],\"line\":{\"width\":1,\"dash\":\"solid\",\"color\":\"rgba(0, 0, 255, 1.000)\",\"shape\":\"linear\"},\"mode\":\"lines\"},{\"yaxis\":\"y\",\"y\":[-10.0,-10.0,-10.0,-10.0,-10.0,10.0,10.0,10.0,10.0,10.0],\"showlegend\":true,\"name\":\"15\",\"type\":\"scatter3d\",\"xaxis\":\"x\",\"z\":[-1.0,1.0,1.0,-1.0,-1.0,-1.0,1.0,1.0,-1.0,-1.0],\"x\":[8.5,8.5,11.5,11.5,8.5,8.5,8.5,11.5,11.5,8.5],\"line\":{\"width\":1,\"dash\":\"solid\",\"color\":\"rgba(0, 0, 255, 1.000)\",\"shape\":\"linear\"},\"mode\":\"lines\"},{\"yaxis\":\"y\",\"y\":[-10.0,10.0],\"showlegend\":true,\"name\":\"16\",\"type\":\"scatter3d\",\"xaxis\":\"x\",\"z\":[1.0,1.0],\"x\":[8.5,8.5],\"line\":{\"width\":1,\"dash\":\"solid\",\"color\":\"rgba(0, 0, 255, 1.000)\",\"shape\":\"linear\"},\"mode\":\"lines\"},{\"yaxis\":\"y\",\"y\":[-10.0,10.0],\"showlegend\":true,\"name\":\"17\",\"type\":\"scatter3d\",\"xaxis\":\"x\",\"z\":[1.0,1.0],\"x\":[11.5,11.5],\"line\":{\"width\":1,\"dash\":\"solid\",\"color\":\"rgba(0, 0, 255, 1.000)\",\"shape\":\"linear\"},\"mode\":\"lines\"},{\"yaxis\":\"y\",\"y\":[-10.0,10.0],\"showlegend\":true,\"name\":\"18\",\"type\":\"scatter3d\",\"xaxis\":\"x\",\"z\":[-1.0,-1.0],\"x\":[11.5,11.5],\"line\":{\"width\":1,\"dash\":\"solid\",\"color\":\"rgba(0, 0, 255, 1.000)\",\"shape\":\"linear\"},\"mode\":\"lines\"},{\"yaxis\":\"y\",\"y\":[8.5,8.5,11.5,11.5,8.5,8.5,8.5,11.5,11.5,8.5],\"showlegend\":true,\"name\":\"19\",\"type\":\"scatter3d\",\"xaxis\":\"x\",\"z\":[-1.0,1.0,1.0,-1.0,-1.0,-1.0,1.0,1.0,-1.0,-1.0],\"x\":[10.0,10.0,10.0,10.0,10.0,0.0,0.0,0.0,0.0,0.0],\"line\":{\"width\":1,\"dash\":\"solid\",\"color\":\"rgba(0, 0, 255, 1.000)\",\"shape\":\"linear\"},\"mode\":\"lines\"},{\"yaxis\":\"y\",\"y\":[8.5,8.5],\"showlegend\":true,\"name\":\"20\",\"type\":\"scatter3d\",\"xaxis\":\"x\",\"z\":[1.0,1.0],\"x\":[10.0,0.0],\"line\":{\"width\":1,\"dash\":\"solid\",\"color\":\"rgba(0, 0, 255, 1.000)\",\"shape\":\"linear\"},\"mode\":\"lines\"},{\"yaxis\":\"y\",\"y\":[11.5,11.5],\"showlegend\":true,\"name\":\"21\",\"type\":\"scatter3d\",\"xaxis\":\"x\",\"z\":[1.0,1.0],\"x\":[10.0,0.0],\"line\":{\"width\":1,\"dash\":\"solid\",\"color\":\"rgba(0, 0, 255, 1.000)\",\"shape\":\"linear\"},\"mode\":\"lines\"},{\"yaxis\":\"y\",\"y\":[11.5,11.5],\"showlegend\":true,\"name\":\"22\",\"type\":\"scatter3d\",\"xaxis\":\"x\",\"z\":[-1.0,-1.0],\"x\":[10.0,0.0],\"line\":{\"width\":1,\"dash\":\"solid\",\"color\":\"rgba(0, 0, 255, 1.000)\",\"shape\":\"linear\"},\"mode\":\"lines\"},{\"yaxis\":\"y\",\"y\":[10.0,10.0,10.0,10.0,10.0,1.0,1.0,1.0,1.0,1.0],\"showlegend\":true,\"name\":\"23\",\"type\":\"scatter3d\",\"xaxis\":\"x\",\"z\":[-1.0,1.0,1.0,-1.0,-1.0,-1.0,1.0,1.0,-1.0,-1.0],\"x\":[1.5,1.5,-1.5,-1.5,1.5,1.5,1.5,-1.5,-1.5,1.5],\"line\":{\"width\":1,\"dash\":\"solid\",\"color\":\"rgba(0, 0, 255, 1.000)\",\"shape\":\"linear\"},\"mode\":\"lines\"},{\"yaxis\":\"y\",\"y\":[10.0,1.0],\"showlegend\":true,\"name\":\"24\",\"type\":\"scatter3d\",\"xaxis\":\"x\",\"z\":[1.0,1.0],\"x\":[1.5,1.5],\"line\":{\"width\":1,\"dash\":\"solid\",\"color\":\"rgba(0, 0, 255, 1.000)\",\"shape\":\"linear\"},\"mode\":\"lines\"},{\"yaxis\":\"y\",\"y\":[10.0,1.0],\"showlegend\":true,\"name\":\"25\",\"type\":\"scatter3d\",\"xaxis\":\"x\",\"z\":[1.0,1.0],\"x\":[-1.5,-1.5],\"line\":{\"width\":1,\"dash\":\"solid\",\"color\":\"rgba(0, 0, 255, 1.000)\",\"shape\":\"linear\"},\"mode\":\"lines\"},{\"yaxis\":\"y\",\"y\":[10.0,1.0],\"showlegend\":true,\"name\":\"26\",\"type\":\"scatter3d\",\"xaxis\":\"x\",\"z\":[-1.0,-1.0],\"x\":[-1.5,-1.5],\"line\":{\"width\":1,\"dash\":\"solid\",\"color\":\"rgba(0, 0, 255, 1.000)\",\"shape\":\"linear\"},\"mode\":\"lines\"},{\"yaxis\":\"y\",\"showlegend\":true,\"type\":\"scatter3d\",\"xaxis\":\"x\",\"name\":\"27\",\"z\":[11.5],\"marker\":{\"symbol\":\"cross\",\"line\":{\"width\":0.0,\"color\":\"rgba(0, 0, 0, 0.000)\"},\"size\":0.0,\"color\":\"rgba(255, 0, 0, 0.000)\"},\"y\":[11.5],\"line\":{\"width\":1,\"dash\":\"solid\",\"color\":\"rgba(0, 0, 255, 1.000)\",\"shape\":\"linear\"},\"mode\":\"lines+markers\",\"x\":[16.5]},{\"yaxis\":\"y\",\"showlegend\":true,\"type\":\"scatter3d\",\"xaxis\":\"x\",\"name\":\"28\",\"z\":[-11.5],\"marker\":{\"symbol\":\"cross\",\"line\":{\"width\":0.0,\"color\":\"rgba(0, 0, 0, 0.000)\"},\"size\":0.0,\"color\":\"rgba(255, 0, 0, 0.000)\"},\"y\":[-11.5],\"line\":{\"width\":1,\"dash\":\"solid\",\"color\":\"rgba(0, 0, 255, 1.000)\",\"shape\":\"linear\"},\"mode\":\"lines+markers\",\"x\":[-6.5]}],  {\"annotations\":[],\"width\":600,\"plot_bgcolor\":\"rgba(255, 255, 255, 1.000)\",\"scene\":{\"yaxis\":{\"type\":\"-\",\"titlefont\":{\"size\":15,\"color\":\"rgba(0, 0, 0, 1.000)\",\"family\":\"Helvetica\"},\"title\":\"\",\"tickfont\":{\"size\":11,\"color\":\"rgba(0, 0, 0, 1.000)\",\"family\":\"Helvetica\"},\"tickmode\":\"array\",\"showgrid\":true,\"tickvals\":[-10.0,0.0,10.0],\"domain\":[0.057305336832895896,0.9901574803149605],\"ticktext\":[\"-10\",\"0\",\"10\"],\"zeroline\":false,\"linecolor\":\"rgba(0, 0, 0, 1.000)\",\"tickcolor\":\"rgba(0, 0, 0, 1.000)\",\"anchor\":\"x\"},\"xaxis\":{\"type\":\"-\",\"titlefont\":{\"size\":15,\"color\":\"rgba(0, 0, 0, 1.000)\",\"family\":\"Helvetica\"},\"title\":\"\",\"tickfont\":{\"size\":11,\"color\":\"rgba(0, 0, 0, 1.000)\",\"family\":\"Helvetica\"},\"tickmode\":\"array\",\"showgrid\":true,\"tickvals\":[0.0,10.0],\"domain\":[0.05905511811023622,0.9934383202099738],\"ticktext\":[\"0\",\"10\"],\"zeroline\":false,\"linecolor\":\"rgba(0, 0, 0, 1.000)\",\"tickcolor\":\"rgba(0, 0, 0, 1.000)\",\"anchor\":\"y\"},\"zaxis\":{\"type\":\"-\",\"titlefont\":{\"size\":15,\"color\":\"rgba(0, 0, 0, 1.000)\",\"family\":\"Helvetica\"},\"title\":\"\",\"tickfont\":{\"size\":11,\"color\":\"rgba(0, 0, 0, 1.000)\",\"family\":\"Helvetica\"},\"tickmode\":\"array\",\"showgrid\":true,\"tickvals\":[-10.0,0.0,10.0],\"ticktext\":[\"-10\",\"0\",\"10\"],\"zeroline\":false,\"linecolor\":\"rgba(0, 0, 0, 1.000)\",\"tickcolor\":\"rgba(0, 0, 0, 1.000)\"}},\"showlegend\":false,\"paper_bgcolor\":\"rgba(255, 255, 255, 1.000)\",\"margin\":{\"r\":0,\"l\":0,\"b\":0,\"t\":20},\"height\":400}, {showLink: false});\n",
       "\n",
       "    });\n",
       " </script>\n"
      ]
     },
     "metadata": {},
     "output_type": "display_data"
    }
   ],
   "source": [
    "plot(loop);gui()"
   ]
  },
  {
   "cell_type": "code",
   "execution_count": 15,
   "metadata": {
    "collapsed": false
   },
   "outputs": [],
   "source": [
    "# define n1 and n6 as terminals of the group \n",
    "t = terms(loop)\n",
    "push!(t,:a=>n1)\n",
    "push!(t,:b=>n6);"
   ]
  },
  {
   "cell_type": "code",
   "execution_count": 16,
   "metadata": {
    "collapsed": false
   },
   "outputs": [],
   "source": [
    "# the loop with terminals could have been defined on one line\n",
    "loop = Group([n1,n2,n3,n4,n5,n6,s1,s2,s3,s4,s5],Dict(:a=>n1,:b=>n6));"
   ]
  },
  {
   "cell_type": "code",
   "execution_count": 17,
   "metadata": {
    "collapsed": false
   },
   "outputs": [],
   "source": [
    "# shift loop 5 along x axis\n",
    "transform!(loop,txyz(5,0,0))"
   ]
  },
  {
   "cell_type": "code",
   "execution_count": 18,
   "metadata": {
    "collapsed": true
   },
   "outputs": [],
   "source": [
    "# create array of 8 loops each rotated π/4 around y axis\n",
    "tm = ry(π/4)\n",
    "loops = []\n",
    "for i in 1:8\n",
    "    transform!(loop,tm)\n",
    "    push!(loops,deepcopy(loop))\n",
    "end"
   ]
  },
  {
   "cell_type": "code",
   "execution_count": 19,
   "metadata": {
    "collapsed": false
   },
   "outputs": [
    {
     "data": {
      "text/plain": [
       "N_1 x=3.535533906e+00 y=-1.000000000e+00 z=3.535533906e+00\n",
       "N_2 x=3.535533906e+00 y=-1.000000000e+01 z=3.535533906e+00\n",
       "N_3 x=1.060660172e+01 y=-1.000000000e+01 z=1.060660172e+01\n",
       "N_4 x=1.060660172e+01 y=1.000000000e+01 z=1.060660172e+01\n",
       "N_5 x=3.535533906e+00 y=1.000000000e+01 z=3.535533906e+00\n",
       "N_6 x=3.535533906e+00 y=1.000000000e+00 z=3.535533906e+00\n",
       "E_7 N_1 N_2\n",
       "+  w=3.000000000e+00 h=2.000000000e+00\n",
       "+  wx=7.071067812e-01 wy=0.000000000e+00 wz=7.071067812e-01\n",
       "E_8 N_2 N_3\n",
       "+  w=3.000000000e+00 h=2.000000000e+00\n",
       "+  wx=0.000000000e+00 wy=1.000000000e+00 wz=0.000000000e+00\n",
       "E_9 N_3 N_4\n",
       "+  w=3.000000000e+00 h=2.000000000e+00\n",
       "+  wx=-7.071067812e-01 wy=0.000000000e+00 wz=-7.071067812e-01\n",
       "E_10 N_4 N_5\n",
       "+  w=3.000000000e+00 h=2.000000000e+00\n",
       "+  wx=0.000000000e+00 wy=-1.000000000e+00 wz=0.000000000e+00\n",
       "E_11 N_5 N_6\n",
       "+  w=3.000000000e+00 h=2.000000000e+00\n",
       "+  wx=7.071067812e-01 wy=0.000000000e+00 wz=7.071067812e-01\n",
       "N_12 x=8.873450063e-16 y=-1.000000000e+00 z=5.000000000e+00\n",
       "N_13 x=8.873450063e-16 y=-1.000000000e+01 z=5.000000000e+00\n",
       "N_14 x=2.531964301e-15 y=-1.000000000e+01 z=1.500000000e+01\n",
       "N_15 x=2.531964301e-15 y=1.000000000e+01 z=1.500000000e+01\n",
       "N_16 x=8.873450063e-16 y=1.000000000e+01 z=5.000000000e+00\n",
       "N_17 x=8.873450063e-16 y=1.000000000e+00 z=5.000000000e+00\n",
       "E_18 N_12 N_13\n",
       "+  w=3.000000000e+00 h=2.000000000e+00\n",
       "+  wx=2.220446049e-16 wy=0.000000000e+00 wz=1.000000000e+00\n",
       "E_19 N_13 N_14\n",
       "+  w=3.000000000e+00 h=2.000000000e+00\n",
       "+  wx=0.000000000e+00 wy=1.000000000e+00 wz=0.000000000e+00\n",
       "E_20 N_14 N_15\n",
       "+  w=3.000000000e+00 h=2.000000000e+00\n",
       "+  wx=-2.220446049e-16 wy=0.000000000e+00 wz=-1.000000000e+00\n",
       "E_21 N_15 N_16\n",
       "+  w=3.000000000e+00 h=2.000000000e+00\n",
       "+  wx=0.000000000e+00 wy=-1.000000000e+00 wz=0.000000000e+00\n",
       "E_22 N_16 N_17\n",
       "+  w=3.000000000e+00 h=2.000000000e+00\n",
       "+  wx=2.220446049e-16 wy=0.000000000e+00 wz=1.000000000e+00\n",
       "N_23 x=-3.535533906e+00 y=-1.000000000e+00 z=3.535533906e+00\n",
       "N_24 x=-3.535533906e+00 y=-1.000000000e+01 z=3.535533906e+00\n",
       "N_25 x=-1.060660172e+01 y=-1.000000000e+01 z=1.060660172e+01\n",
       "N_26 x=-1.060660172e+01 y=1.000000000e+01 z=1.060660172e+01\n",
       "N_27 x=-3.535533906e+00 y=1.000000000e+01 z=3.535533906e+00\n",
       "N_28 x=-3.535533906e+00 y=1.000000000e+00 z=3.535533906e+00\n",
       "E_29 N_23 N_24\n",
       "+  w=3.000000000e+00 h=2.000000000e+00\n",
       "+  wx=-7.071067812e-01 wy=0.000000000e+00 wz=7.071067812e-01\n",
       "E_30 N_24 N_25\n",
       "+  w=3.000000000e+00 h=2.000000000e+00\n",
       "+  wx=0.000000000e+00 wy=1.000000000e+00 wz=0.000000000e+00\n",
       "E_31 N_25 N_26\n",
       "+  w=3.000000000e+00 h=2.000000000e+00\n",
       "+  wx=7.071067812e-01 wy=0.000000000e+00 wz=-7.071067812e-01\n",
       "E_32 N_26 N_27\n",
       "+  w=3.000000000e+00 h=2.000000000e+00\n",
       "+  wx=0.000000000e+00 wy=-1.000000000e+00 wz=0.000000000e+00\n",
       "E_33 N_27 N_28\n",
       "+  w=3.000000000e+00 h=2.000000000e+00\n",
       "+  wx=-7.071067812e-01 wy=0.000000000e+00 wz=7.071067812e-01\n",
       "N_34 x=-5.000000000e+00 y=-1.000000000e+00 z=1.779501213e-15\n",
       "N_35 x=-5.000000000e+00 y=-1.000000000e+01 z=1.779501213e-15\n",
       "N_36 x=-1.500000000e+01 y=-1.000000000e+01 z=4.710466656e-15\n",
       "N_37 x=-1.500000000e+01 y=1.000000000e+01 z=4.710466656e-15\n",
       "N_38 x=-5.000000000e+00 y=1.000000000e+01 z=1.779501213e-15\n",
       "N_39 x=-5.000000000e+00 y=1.000000000e+00 z=1.779501213e-15\n",
       "E_40 N_34 N_35\n",
       "+  w=3.000000000e+00 h=2.000000000e+00\n",
       "+  wx=-1.000000000e+00 wy=0.000000000e+00 wz=2.775557562e-16\n",
       "E_41 N_35 N_36\n",
       "+  w=3.000000000e+00 h=2.000000000e+00\n",
       "+  wx=0.000000000e+00 wy=1.000000000e+00 wz=0.000000000e+00\n",
       "E_42 N_36 N_37\n",
       "+  w=3.000000000e+00 h=2.000000000e+00\n",
       "+  wx=1.000000000e+00 wy=0.000000000e+00 wz=-2.775557562e-16\n",
       "E_43 N_37 N_38\n",
       "+  w=3.000000000e+00 h=2.000000000e+00\n",
       "+  wx=0.000000000e+00 wy=-1.000000000e+00 wz=0.000000000e+00\n",
       "E_44 N_38 N_39\n",
       "+  w=3.000000000e+00 h=2.000000000e+00\n",
       "+  wx=-1.000000000e+00 wy=0.000000000e+00 wz=2.775557562e-16\n",
       "N_45 x=-3.535533906e+00 y=-1.000000000e+00 z=-3.535533906e+00\n",
       "N_46 x=-3.535533906e+00 y=-1.000000000e+01 z=-3.535533906e+00\n",
       "N_47 x=-1.060660172e+01 y=-1.000000000e+01 z=-1.060660172e+01\n",
       "N_48 x=-1.060660172e+01 y=1.000000000e+01 z=-1.060660172e+01\n",
       "N_49 x=-3.535533906e+00 y=1.000000000e+01 z=-3.535533906e+00\n",
       "N_50 x=-3.535533906e+00 y=1.000000000e+00 z=-3.535533906e+00\n",
       "E_51 N_45 N_46\n",
       "+  w=3.000000000e+00 h=2.000000000e+00\n",
       "+  wx=-7.071067812e-01 wy=0.000000000e+00 wz=-7.071067812e-01\n",
       "E_52 N_46 N_47\n",
       "+  w=3.000000000e+00 h=2.000000000e+00\n",
       "+  wx=0.000000000e+00 wy=1.000000000e+00 wz=0.000000000e+00\n",
       "E_53 N_47 N_48\n",
       "+  w=3.000000000e+00 h=2.000000000e+00\n",
       "+  wx=7.071067812e-01 wy=0.000000000e+00 wz=7.071067812e-01\n",
       "E_54 N_48 N_49\n",
       "+  w=3.000000000e+00 h=2.000000000e+00\n",
       "+  wx=0.000000000e+00 wy=-1.000000000e+00 wz=0.000000000e+00\n",
       "E_55 N_49 N_50\n",
       "+  w=3.000000000e+00 h=2.000000000e+00\n",
       "+  wx=-7.071067812e-01 wy=0.000000000e+00 wz=-7.071067812e-01\n",
       "N_56 x=-2.717578901e-15 y=-1.000000000e+00 z=-5.000000000e+00\n",
       "N_57 x=-2.717578901e-15 y=-1.000000000e+01 z=-5.000000000e+00\n",
       "N_58 x=-5.932290654e-15 y=-1.000000000e+01 z=-1.500000000e+01\n",
       "N_59 x=-5.932290654e-15 y=1.000000000e+01 z=-1.500000000e+01\n",
       "N_60 x=-2.717578901e-15 y=1.000000000e+01 z=-5.000000000e+00\n",
       "N_61 x=-2.717578901e-15 y=1.000000000e+00 z=-5.000000000e+00\n",
       "E_62 N_56 N_57\n",
       "+  w=3.000000000e+00 h=2.000000000e+00\n",
       "+  wx=-4.440892099e-16 wy=0.000000000e+00 wz=-1.000000000e+00\n",
       "E_63 N_57 N_58\n",
       "+  w=3.000000000e+00 h=2.000000000e+00\n",
       "+  wx=0.000000000e+00 wy=1.000000000e+00 wz=0.000000000e+00\n",
       "E_64 N_58 N_59\n",
       "+  w=3.000000000e+00 h=2.000000000e+00\n",
       "+  wx=4.440892099e-16 wy=0.000000000e+00 wz=1.000000000e+00\n",
       "E_65 N_59 N_60\n",
       "+  w=3.000000000e+00 h=2.000000000e+00\n",
       "+  wx=0.000000000e+00 wy=-1.000000000e+00 wz=0.000000000e+00\n",
       "E_66 N_60 N_61\n",
       "+  w=3.000000000e+00 h=2.000000000e+00\n",
       "+  wx=-4.440892099e-16 wy=0.000000000e+00 wz=-1.000000000e+00\n",
       "N_67 x=3.535533906e+00 y=-1.000000000e+00 z=-3.535533906e+00\n",
       "N_68 x=3.535533906e+00 y=-1.000000000e+01 z=-3.535533906e+00\n",
       "N_69 x=1.060660172e+01 y=-1.000000000e+01 z=-1.060660172e+01\n",
       "N_70 x=1.060660172e+01 y=1.000000000e+01 z=-1.060660172e+01\n",
       "N_71 x=3.535533906e+00 y=1.000000000e+01 z=-3.535533906e+00\n",
       "N_72 x=3.535533906e+00 y=1.000000000e+00 z=-3.535533906e+00\n",
       "E_73 N_67 N_68\n",
       "+  w=3.000000000e+00 h=2.000000000e+00\n",
       "+  wx=7.071067812e-01 wy=0.000000000e+00 wz=-7.071067812e-01\n",
       "E_74 N_68 N_69\n",
       "+  w=3.000000000e+00 h=2.000000000e+00\n",
       "+  wx=0.000000000e+00 wy=1.000000000e+00 wz=0.000000000e+00\n",
       "E_75 N_69 N_70\n",
       "+  w=3.000000000e+00 h=2.000000000e+00\n",
       "+  wx=-7.071067812e-01 wy=0.000000000e+00 wz=7.071067812e-01\n",
       "E_76 N_70 N_71\n",
       "+  w=3.000000000e+00 h=2.000000000e+00\n",
       "+  wx=0.000000000e+00 wy=-1.000000000e+00 wz=0.000000000e+00\n",
       "E_77 N_71 N_72\n",
       "+  w=3.000000000e+00 h=2.000000000e+00\n",
       "+  wx=7.071067812e-01 wy=0.000000000e+00 wz=-7.071067812e-01\n",
       "N_78 x=5.000000000e+00 y=-1.000000000e+00 z=-3.609735108e-15\n",
       "N_79 x=5.000000000e+00 y=-1.000000000e+01 z=-3.609735108e-15\n",
       "N_80 x=1.500000000e+01 y=-1.000000000e+01 z=-8.631075882e-15\n",
       "N_81 x=1.500000000e+01 y=1.000000000e+01 z=-8.631075882e-15\n",
       "N_82 x=5.000000000e+00 y=1.000000000e+01 z=-3.609735108e-15\n",
       "N_83 x=5.000000000e+00 y=1.000000000e+00 z=-3.609735108e-15\n",
       "E_84 N_78 N_79\n",
       "+  w=3.000000000e+00 h=2.000000000e+00\n",
       "+  wx=1.000000000e+00 wy=0.000000000e+00 wz=-6.661338148e-16\n",
       "E_85 N_79 N_80\n",
       "+  w=3.000000000e+00 h=2.000000000e+00\n",
       "+  wx=0.000000000e+00 wy=1.000000000e+00 wz=0.000000000e+00\n",
       "E_86 N_80 N_81\n",
       "+  w=3.000000000e+00 h=2.000000000e+00\n",
       "+  wx=-1.000000000e+00 wy=0.000000000e+00 wz=6.661338148e-16\n",
       "E_87 N_81 N_82\n",
       "+  w=3.000000000e+00 h=2.000000000e+00\n",
       "+  wx=0.000000000e+00 wy=-1.000000000e+00 wz=0.000000000e+00\n",
       "E_88 N_82 N_83\n",
       "+  w=3.000000000e+00 h=2.000000000e+00\n",
       "+  wx=1.000000000e+00 wy=0.000000000e+00 wz=-6.661338148e-16\n"
      ]
     },
     "execution_count": 19,
     "metadata": {},
     "output_type": "execute_result"
    }
   ],
   "source": [
    "# create a group of the loops\n",
    "loopsgroup = Group(loops)"
   ]
  },
  {
   "cell_type": "code",
   "execution_count": 20,
   "metadata": {
    "collapsed": false
   },
   "outputs": [
    {
     "data": {
      "text/html": [
       "<div id=\"cafc862c-3b11-4ede-98ef-9dab4e9ce3af\" class=\"plotly-graph-div\"></div>\n",
       "\n",
       "<script>\n",
       "    window.PLOTLYENV=window.PLOTLYENV || {};\n",
       "    window.PLOTLYENV.BASE_URL=\"https://plot.ly\";\n",
       "    require(['plotly'], function(Plotly) {\n",
       "        Plotly.newPlot('cafc862c-3b11-4ede-98ef-9dab4e9ce3af', [{\"yaxis\":\"y\",\"showlegend\":true,\"type\":\"scatter3d\",\"xaxis\":\"x\",\"name\":\"1\",\"z\":[3.5355339059327373],\"marker\":{\"symbol\":\"circle\",\"line\":{\"width\":0.1,\"color\":\"rgba(0, 0, 0, 0.300)\"},\"size\":6.0,\"color\":\"rgba(255, 0, 0, 0.300)\"},\"y\":[-1.0],\"line\":{\"width\":1,\"dash\":\"solid\",\"color\":\"rgba(0, 0, 255, 1.000)\",\"shape\":\"linear\"},\"mode\":\"lines+markers\",\"x\":[3.5355339059327378]},{\"yaxis\":\"y\",\"showlegend\":true,\"type\":\"scatter3d\",\"xaxis\":\"x\",\"name\":\"2\",\"z\":[3.5355339059327373],\"marker\":{\"symbol\":\"circle\",\"line\":{\"width\":0.1,\"color\":\"rgba(0, 0, 0, 0.300)\"},\"size\":6.0,\"color\":\"rgba(255, 0, 0, 0.300)\"},\"y\":[-10.0],\"line\":{\"width\":1,\"dash\":\"solid\",\"color\":\"rgba(0, 0, 255, 1.000)\",\"shape\":\"linear\"},\"mode\":\"lines+markers\",\"x\":[3.5355339059327378]},{\"yaxis\":\"y\",\"showlegend\":true,\"type\":\"scatter3d\",\"xaxis\":\"x\",\"name\":\"3\",\"z\":[10.606601717798211],\"marker\":{\"symbol\":\"circle\",\"line\":{\"width\":0.1,\"color\":\"rgba(0, 0, 0, 0.300)\"},\"size\":6.0,\"color\":\"rgba(255, 0, 0, 0.300)\"},\"y\":[-10.0],\"line\":{\"width\":1,\"dash\":\"solid\",\"color\":\"rgba(0, 0, 255, 1.000)\",\"shape\":\"linear\"},\"mode\":\"lines+markers\",\"x\":[10.606601717798213]},{\"yaxis\":\"y\",\"showlegend\":true,\"type\":\"scatter3d\",\"xaxis\":\"x\",\"name\":\"4\",\"z\":[10.606601717798211],\"marker\":{\"symbol\":\"circle\",\"line\":{\"width\":0.1,\"color\":\"rgba(0, 0, 0, 0.300)\"},\"size\":6.0,\"color\":\"rgba(255, 0, 0, 0.300)\"},\"y\":[10.0],\"line\":{\"width\":1,\"dash\":\"solid\",\"color\":\"rgba(0, 0, 255, 1.000)\",\"shape\":\"linear\"},\"mode\":\"lines+markers\",\"x\":[10.606601717798213]},{\"yaxis\":\"y\",\"showlegend\":true,\"type\":\"scatter3d\",\"xaxis\":\"x\",\"name\":\"5\",\"z\":[3.5355339059327373],\"marker\":{\"symbol\":\"circle\",\"line\":{\"width\":0.1,\"color\":\"rgba(0, 0, 0, 0.300)\"},\"size\":6.0,\"color\":\"rgba(255, 0, 0, 0.300)\"},\"y\":[10.0],\"line\":{\"width\":1,\"dash\":\"solid\",\"color\":\"rgba(0, 0, 255, 1.000)\",\"shape\":\"linear\"},\"mode\":\"lines+markers\",\"x\":[3.5355339059327378]},{\"yaxis\":\"y\",\"showlegend\":true,\"type\":\"scatter3d\",\"xaxis\":\"x\",\"name\":\"6\",\"z\":[3.5355339059327373],\"marker\":{\"symbol\":\"circle\",\"line\":{\"width\":0.1,\"color\":\"rgba(0, 0, 0, 0.300)\"},\"size\":6.0,\"color\":\"rgba(255, 0, 0, 0.300)\"},\"y\":[1.0],\"line\":{\"width\":1,\"dash\":\"solid\",\"color\":\"rgba(0, 0, 255, 1.000)\",\"shape\":\"linear\"},\"mode\":\"lines+markers\",\"x\":[3.5355339059327378]},{\"yaxis\":\"y\",\"y\":[-1.0,-1.0,-1.0,-1.0,-1.0,-10.0,-10.0,-10.0,-10.0,-10.0],\"showlegend\":true,\"name\":\"7\",\"type\":\"scatter3d\",\"xaxis\":\"x\",\"z\":[3.8890872965260113,5.303300858899107,3.1819805153394634,1.7677669529663684,3.8890872965260113,3.8890872965260113,5.303300858899107,3.1819805153394634,1.7677669529663684,3.8890872965260113],\"x\":[5.303300858899107,3.8890872965260113,1.7677669529663689,3.181980515339464,5.303300858899107,5.303300858899107,3.8890872965260113,1.7677669529663689,3.181980515339464,5.303300858899107],\"line\":{\"width\":1,\"dash\":\"solid\",\"color\":\"rgba(0, 0, 255, 1.000)\",\"shape\":\"linear\"},\"mode\":\"lines\"},{\"yaxis\":\"y\",\"y\":[-1.0,-10.0],\"showlegend\":true,\"name\":\"8\",\"type\":\"scatter3d\",\"xaxis\":\"x\",\"z\":[5.303300858899107,5.303300858899107],\"x\":[3.8890872965260113,3.8890872965260113],\"line\":{\"width\":1,\"dash\":\"solid\",\"color\":\"rgba(0, 0, 255, 1.000)\",\"shape\":\"linear\"},\"mode\":\"lines\"},{\"yaxis\":\"y\",\"y\":[-1.0,-10.0],\"showlegend\":true,\"name\":\"9\",\"type\":\"scatter3d\",\"xaxis\":\"x\",\"z\":[3.1819805153394634,3.1819805153394634],\"x\":[1.7677669529663689,1.7677669529663689],\"line\":{\"width\":1,\"dash\":\"solid\",\"color\":\"rgba(0, 0, 255, 1.000)\",\"shape\":\"linear\"},\"mode\":\"lines\"},{\"yaxis\":\"y\",\"y\":[-1.0,-10.0],\"showlegend\":true,\"name\":\"10\",\"type\":\"scatter3d\",\"xaxis\":\"x\",\"z\":[1.7677669529663684,1.7677669529663684],\"x\":[3.181980515339464,3.181980515339464],\"line\":{\"width\":1,\"dash\":\"solid\",\"color\":\"rgba(0, 0, 255, 1.000)\",\"shape\":\"linear\"},\"mode\":\"lines\"},{\"yaxis\":\"y\",\"y\":[-8.5,-8.5,-11.5,-11.5,-8.5,-8.5,-8.5,-11.5,-11.5,-8.5],\"showlegend\":true,\"name\":\"11\",\"type\":\"scatter3d\",\"xaxis\":\"x\",\"z\":[2.82842712474619,4.242640687119285,4.242640687119285,2.82842712474619,2.82842712474619,9.899494936611664,11.31370849898476,11.31370849898476,9.899494936611664,9.899494936611664],\"x\":[4.242640687119286,2.8284271247461903,2.8284271247461903,4.242640687119286,4.242640687119286,11.313708498984761,9.899494936611665,9.899494936611665,11.313708498984761,11.313708498984761],\"line\":{\"width\":1,\"dash\":\"solid\",\"color\":\"rgba(0, 0, 255, 1.000)\",\"shape\":\"linear\"},\"mode\":\"lines\"},{\"yaxis\":\"y\",\"y\":[-8.5,-8.5],\"showlegend\":true,\"name\":\"12\",\"type\":\"scatter3d\",\"xaxis\":\"x\",\"z\":[4.242640687119285,11.31370849898476],\"x\":[2.8284271247461903,9.899494936611665],\"line\":{\"width\":1,\"dash\":\"solid\",\"color\":\"rgba(0, 0, 255, 1.000)\",\"shape\":\"linear\"},\"mode\":\"lines\"},{\"yaxis\":\"y\",\"y\":[-11.5,-11.5],\"showlegend\":true,\"name\":\"13\",\"type\":\"scatter3d\",\"xaxis\":\"x\",\"z\":[4.242640687119285,11.31370849898476],\"x\":[2.8284271247461903,9.899494936611665],\"line\":{\"width\":1,\"dash\":\"solid\",\"color\":\"rgba(0, 0, 255, 1.000)\",\"shape\":\"linear\"},\"mode\":\"lines\"},{\"yaxis\":\"y\",\"y\":[-11.5,-11.5],\"showlegend\":true,\"name\":\"14\",\"type\":\"scatter3d\",\"xaxis\":\"x\",\"z\":[2.82842712474619,9.899494936611664],\"x\":[4.242640687119286,11.313708498984761],\"line\":{\"width\":1,\"dash\":\"solid\",\"color\":\"rgba(0, 0, 255, 1.000)\",\"shape\":\"linear\"},\"mode\":\"lines\"},{\"yaxis\":\"y\",\"y\":[-10.0,-10.0,-10.0,-10.0,-10.0,10.0,10.0,10.0,10.0,10.0],\"showlegend\":true,\"name\":\"15\",\"type\":\"scatter3d\",\"xaxis\":\"x\",\"z\":[8.838834764831843,10.253048327204938,12.37436867076458,10.960155108391485,8.838834764831843,8.838834764831843,10.253048327204938,12.37436867076458,10.960155108391485,8.838834764831843],\"x\":[10.25304832720494,8.838834764831844,10.960155108391486,12.374368670764582,10.25304832720494,10.25304832720494,8.838834764831844,10.960155108391486,12.374368670764582,10.25304832720494],\"line\":{\"width\":1,\"dash\":\"solid\",\"color\":\"rgba(0, 0, 255, 1.000)\",\"shape\":\"linear\"},\"mode\":\"lines\"},{\"yaxis\":\"y\",\"y\":[-10.0,10.0],\"showlegend\":true,\"name\":\"16\",\"type\":\"scatter3d\",\"xaxis\":\"x\",\"z\":[10.253048327204938,10.253048327204938],\"x\":[8.838834764831844,8.838834764831844],\"line\":{\"width\":1,\"dash\":\"solid\",\"color\":\"rgba(0, 0, 255, 1.000)\",\"shape\":\"linear\"},\"mode\":\"lines\"},{\"yaxis\":\"y\",\"y\":[-10.0,10.0],\"showlegend\":true,\"name\":\"17\",\"type\":\"scatter3d\",\"xaxis\":\"x\",\"z\":[12.37436867076458,12.37436867076458],\"x\":[10.960155108391486,10.960155108391486],\"line\":{\"width\":1,\"dash\":\"solid\",\"color\":\"rgba(0, 0, 255, 1.000)\",\"shape\":\"linear\"},\"mode\":\"lines\"},{\"yaxis\":\"y\",\"y\":[-10.0,10.0],\"showlegend\":true,\"name\":\"18\",\"type\":\"scatter3d\",\"xaxis\":\"x\",\"z\":[10.960155108391485,10.960155108391485],\"x\":[12.374368670764582,12.374368670764582],\"line\":{\"width\":1,\"dash\":\"solid\",\"color\":\"rgba(0, 0, 255, 1.000)\",\"shape\":\"linear\"},\"mode\":\"lines\"},{\"yaxis\":\"y\",\"y\":[8.5,8.5,11.5,11.5,8.5,8.5,8.5,11.5,11.5,8.5],\"showlegend\":true,\"name\":\"19\",\"type\":\"scatter3d\",\"xaxis\":\"x\",\"z\":[9.899494936611664,11.31370849898476,11.31370849898476,9.899494936611664,9.899494936611664,2.82842712474619,4.242640687119285,4.242640687119285,2.82842712474619,2.82842712474619],\"x\":[11.313708498984761,9.899494936611665,9.899494936611665,11.313708498984761,11.313708498984761,4.242640687119286,2.8284271247461903,2.8284271247461903,4.242640687119286,4.242640687119286],\"line\":{\"width\":1,\"dash\":\"solid\",\"color\":\"rgba(0, 0, 255, 1.000)\",\"shape\":\"linear\"},\"mode\":\"lines\"},{\"yaxis\":\"y\",\"y\":[8.5,8.5],\"showlegend\":true,\"name\":\"20\",\"type\":\"scatter3d\",\"xaxis\":\"x\",\"z\":[11.31370849898476,4.242640687119285],\"x\":[9.899494936611665,2.8284271247461903],\"line\":{\"width\":1,\"dash\":\"solid\",\"color\":\"rgba(0, 0, 255, 1.000)\",\"shape\":\"linear\"},\"mode\":\"lines\"},{\"yaxis\":\"y\",\"y\":[11.5,11.5],\"showlegend\":true,\"name\":\"21\",\"type\":\"scatter3d\",\"xaxis\":\"x\",\"z\":[11.31370849898476,4.242640687119285],\"x\":[9.899494936611665,2.8284271247461903],\"line\":{\"width\":1,\"dash\":\"solid\",\"color\":\"rgba(0, 0, 255, 1.000)\",\"shape\":\"linear\"},\"mode\":\"lines\"},{\"yaxis\":\"y\",\"y\":[11.5,11.5],\"showlegend\":true,\"name\":\"22\",\"type\":\"scatter3d\",\"xaxis\":\"x\",\"z\":[9.899494936611664,2.82842712474619],\"x\":[11.313708498984761,4.242640687119286],\"line\":{\"width\":1,\"dash\":\"solid\",\"color\":\"rgba(0, 0, 255, 1.000)\",\"shape\":\"linear\"},\"mode\":\"lines\"},{\"yaxis\":\"y\",\"y\":[10.0,10.0,10.0,10.0,10.0,1.0,1.0,1.0,1.0,1.0],\"showlegend\":true,\"name\":\"23\",\"type\":\"scatter3d\",\"xaxis\":\"x\",\"z\":[3.8890872965260113,5.303300858899107,3.1819805153394634,1.7677669529663684,3.8890872965260113,3.8890872965260113,5.303300858899107,3.1819805153394634,1.7677669529663684,3.8890872965260113],\"x\":[5.303300858899107,3.8890872965260113,1.7677669529663689,3.181980515339464,5.303300858899107,5.303300858899107,3.8890872965260113,1.7677669529663689,3.181980515339464,5.303300858899107],\"line\":{\"width\":1,\"dash\":\"solid\",\"color\":\"rgba(0, 0, 255, 1.000)\",\"shape\":\"linear\"},\"mode\":\"lines\"},{\"yaxis\":\"y\",\"y\":[10.0,1.0],\"showlegend\":true,\"name\":\"24\",\"type\":\"scatter3d\",\"xaxis\":\"x\",\"z\":[5.303300858899107,5.303300858899107],\"x\":[3.8890872965260113,3.8890872965260113],\"line\":{\"width\":1,\"dash\":\"solid\",\"color\":\"rgba(0, 0, 255, 1.000)\",\"shape\":\"linear\"},\"mode\":\"lines\"},{\"yaxis\":\"y\",\"y\":[10.0,1.0],\"showlegend\":true,\"name\":\"25\",\"type\":\"scatter3d\",\"xaxis\":\"x\",\"z\":[3.1819805153394634,3.1819805153394634],\"x\":[1.7677669529663689,1.7677669529663689],\"line\":{\"width\":1,\"dash\":\"solid\",\"color\":\"rgba(0, 0, 255, 1.000)\",\"shape\":\"linear\"},\"mode\":\"lines\"},{\"yaxis\":\"y\",\"y\":[10.0,1.0],\"showlegend\":true,\"name\":\"26\",\"type\":\"scatter3d\",\"xaxis\":\"x\",\"z\":[1.7677669529663684,1.7677669529663684],\"x\":[3.181980515339464,3.181980515339464],\"line\":{\"width\":1,\"dash\":\"solid\",\"color\":\"rgba(0, 0, 255, 1.000)\",\"shape\":\"linear\"},\"mode\":\"lines\"},{\"yaxis\":\"y\",\"showlegend\":true,\"type\":\"scatter3d\",\"xaxis\":\"x\",\"name\":\"27\",\"z\":[5.0],\"marker\":{\"symbol\":\"circle\",\"line\":{\"width\":0.1,\"color\":\"rgba(0, 0, 0, 0.300)\"},\"size\":6.0,\"color\":\"rgba(255, 0, 0, 0.300)\"},\"y\":[-1.0],\"line\":{\"width\":1,\"dash\":\"solid\",\"color\":\"rgba(0, 0, 255, 1.000)\",\"shape\":\"linear\"},\"mode\":\"lines+markers\",\"x\":[8.87345006308854e-16]},{\"yaxis\":\"y\",\"showlegend\":true,\"type\":\"scatter3d\",\"xaxis\":\"x\",\"name\":\"28\",\"z\":[5.0],\"marker\":{\"symbol\":\"circle\",\"line\":{\"width\":0.1,\"color\":\"rgba(0, 0, 0, 0.300)\"},\"size\":6.0,\"color\":\"rgba(255, 0, 0, 0.300)\"},\"y\":[-10.0],\"line\":{\"width\":1,\"dash\":\"solid\",\"color\":\"rgba(0, 0, 255, 1.000)\",\"shape\":\"linear\"},\"mode\":\"lines+markers\",\"x\":[8.87345006308854e-16]},{\"yaxis\":\"y\",\"showlegend\":true,\"type\":\"scatter3d\",\"xaxis\":\"x\",\"name\":\"29\",\"z\":[15.0],\"marker\":{\"symbol\":\"circle\",\"line\":{\"width\":0.1,\"color\":\"rgba(0, 0, 0, 0.300)\"},\"size\":6.0,\"color\":\"rgba(255, 0, 0, 0.300)\"},\"y\":[-10.0],\"line\":{\"width\":1,\"dash\":\"solid\",\"color\":\"rgba(0, 0, 255, 1.000)\",\"shape\":\"linear\"},\"mode\":\"lines+markers\",\"x\":[2.5319643008132543e-15]},{\"yaxis\":\"y\",\"showlegend\":true,\"type\":\"scatter3d\",\"xaxis\":\"x\",\"name\":\"30\",\"z\":[15.0],\"marker\":{\"symbol\":\"circle\",\"line\":{\"width\":0.1,\"color\":\"rgba(0, 0, 0, 0.300)\"},\"size\":6.0,\"color\":\"rgba(255, 0, 0, 0.300)\"},\"y\":[10.0],\"line\":{\"width\":1,\"dash\":\"solid\",\"color\":\"rgba(0, 0, 255, 1.000)\",\"shape\":\"linear\"},\"mode\":\"lines+markers\",\"x\":[2.5319643008132543e-15]},{\"yaxis\":\"y\",\"showlegend\":true,\"type\":\"scatter3d\",\"xaxis\":\"x\",\"name\":\"31\",\"z\":[5.0],\"marker\":{\"symbol\":\"circle\",\"line\":{\"width\":0.1,\"color\":\"rgba(0, 0, 0, 0.300)\"},\"size\":6.0,\"color\":\"rgba(255, 0, 0, 0.300)\"},\"y\":[10.0],\"line\":{\"width\":1,\"dash\":\"solid\",\"color\":\"rgba(0, 0, 255, 1.000)\",\"shape\":\"linear\"},\"mode\":\"lines+markers\",\"x\":[8.87345006308854e-16]},{\"yaxis\":\"y\",\"showlegend\":true,\"type\":\"scatter3d\",\"xaxis\":\"x\",\"name\":\"32\",\"z\":[5.0],\"marker\":{\"symbol\":\"circle\",\"line\":{\"width\":0.1,\"color\":\"rgba(0, 0, 0, 0.300)\"},\"size\":6.0,\"color\":\"rgba(255, 0, 0, 0.300)\"},\"y\":[1.0],\"line\":{\"width\":1,\"dash\":\"solid\",\"color\":\"rgba(0, 0, 255, 1.000)\",\"shape\":\"linear\"},\"mode\":\"lines+markers\",\"x\":[8.87345006308854e-16]},{\"yaxis\":\"y\",\"y\":[-1.0,-1.0,-1.0,-1.0,-1.0,-10.0,-10.0,-10.0,-10.0,-10.0],\"showlegend\":true,\"name\":\"33\",\"type\":\"scatter3d\",\"xaxis\":\"x\",\"z\":[6.5,6.5,3.5,3.5,6.5,6.5,6.5,3.5,3.5,6.5],\"x\":[1.000000000000001,-0.9999999999999988,-0.9999999999999994,1.0000000000000004,1.000000000000001,1.000000000000001,-0.9999999999999988,-0.9999999999999994,1.0000000000000004,1.000000000000001],\"line\":{\"width\":1,\"dash\":\"solid\",\"color\":\"rgba(0, 0, 255, 1.000)\",\"shape\":\"linear\"},\"mode\":\"lines\"},{\"yaxis\":\"y\",\"y\":[-1.0,-10.0],\"showlegend\":true,\"name\":\"34\",\"type\":\"scatter3d\",\"xaxis\":\"x\",\"z\":[6.5,6.5],\"x\":[-0.9999999999999988,-0.9999999999999988],\"line\":{\"width\":1,\"dash\":\"solid\",\"color\":\"rgba(0, 0, 255, 1.000)\",\"shape\":\"linear\"},\"mode\":\"lines\"},{\"yaxis\":\"y\",\"y\":[-1.0,-10.0],\"showlegend\":true,\"name\":\"35\",\"type\":\"scatter3d\",\"xaxis\":\"x\",\"z\":[3.5,3.5],\"x\":[-0.9999999999999994,-0.9999999999999994],\"line\":{\"width\":1,\"dash\":\"solid\",\"color\":\"rgba(0, 0, 255, 1.000)\",\"shape\":\"linear\"},\"mode\":\"lines\"},{\"yaxis\":\"y\",\"y\":[-1.0,-10.0],\"showlegend\":true,\"name\":\"36\",\"type\":\"scatter3d\",\"xaxis\":\"x\",\"z\":[3.5,3.5],\"x\":[1.0000000000000004,1.0000000000000004],\"line\":{\"width\":1,\"dash\":\"solid\",\"color\":\"rgba(0, 0, 255, 1.000)\",\"shape\":\"linear\"},\"mode\":\"lines\"},{\"yaxis\":\"y\",\"y\":[-8.5,-8.5,-11.5,-11.5,-8.5,-8.5,-8.5,-11.5,-11.5,-8.5],\"showlegend\":true,\"name\":\"37\",\"type\":\"scatter3d\",\"xaxis\":\"x\",\"z\":[5.0,5.0,5.0,5.0,5.0,15.0,15.0,15.0,15.0,15.0],\"x\":[1.0000000000000009,-0.9999999999999991,-0.9999999999999991,1.0000000000000009,1.0000000000000009,1.0000000000000024,-0.9999999999999974,-0.9999999999999974,1.0000000000000024,1.0000000000000024],\"line\":{\"width\":1,\"dash\":\"solid\",\"color\":\"rgba(0, 0, 255, 1.000)\",\"shape\":\"linear\"},\"mode\":\"lines\"},{\"yaxis\":\"y\",\"y\":[-8.5,-8.5],\"showlegend\":true,\"name\":\"38\",\"type\":\"scatter3d\",\"xaxis\":\"x\",\"z\":[5.0,15.0],\"x\":[-0.9999999999999991,-0.9999999999999974],\"line\":{\"width\":1,\"dash\":\"solid\",\"color\":\"rgba(0, 0, 255, 1.000)\",\"shape\":\"linear\"},\"mode\":\"lines\"},{\"yaxis\":\"y\",\"y\":[-11.5,-11.5],\"showlegend\":true,\"name\":\"39\",\"type\":\"scatter3d\",\"xaxis\":\"x\",\"z\":[5.0,15.0],\"x\":[-0.9999999999999991,-0.9999999999999974],\"line\":{\"width\":1,\"dash\":\"solid\",\"color\":\"rgba(0, 0, 255, 1.000)\",\"shape\":\"linear\"},\"mode\":\"lines\"},{\"yaxis\":\"y\",\"y\":[-11.5,-11.5],\"showlegend\":true,\"name\":\"40\",\"type\":\"scatter3d\",\"xaxis\":\"x\",\"z\":[5.0,15.0],\"x\":[1.0000000000000009,1.0000000000000024],\"line\":{\"width\":1,\"dash\":\"solid\",\"color\":\"rgba(0, 0, 255, 1.000)\",\"shape\":\"linear\"},\"mode\":\"lines\"},{\"yaxis\":\"y\",\"y\":[-10.0,-10.0,-10.0,-10.0,-10.0,10.0,10.0,10.0,10.0,10.0],\"showlegend\":true,\"name\":\"41\",\"type\":\"scatter3d\",\"xaxis\":\"x\",\"z\":[13.5,13.5,16.5,16.5,13.5,13.5,13.5,16.5,16.5,13.5],\"x\":[1.0000000000000022,-0.9999999999999978,-0.9999999999999971,1.0000000000000029,1.0000000000000022,1.0000000000000022,-0.9999999999999978,-0.9999999999999971,1.0000000000000029,1.0000000000000022],\"line\":{\"width\":1,\"dash\":\"solid\",\"color\":\"rgba(0, 0, 255, 1.000)\",\"shape\":\"linear\"},\"mode\":\"lines\"},{\"yaxis\":\"y\",\"y\":[-10.0,10.0],\"showlegend\":true,\"name\":\"42\",\"type\":\"scatter3d\",\"xaxis\":\"x\",\"z\":[13.5,13.5],\"x\":[-0.9999999999999978,-0.9999999999999978],\"line\":{\"width\":1,\"dash\":\"solid\",\"color\":\"rgba(0, 0, 255, 1.000)\",\"shape\":\"linear\"},\"mode\":\"lines\"},{\"yaxis\":\"y\",\"y\":[-10.0,10.0],\"showlegend\":true,\"name\":\"43\",\"type\":\"scatter3d\",\"xaxis\":\"x\",\"z\":[16.5,16.5],\"x\":[-0.9999999999999971,-0.9999999999999971],\"line\":{\"width\":1,\"dash\":\"solid\",\"color\":\"rgba(0, 0, 255, 1.000)\",\"shape\":\"linear\"},\"mode\":\"lines\"},{\"yaxis\":\"y\",\"y\":[-10.0,10.0],\"showlegend\":true,\"name\":\"44\",\"type\":\"scatter3d\",\"xaxis\":\"x\",\"z\":[16.5,16.5],\"x\":[1.0000000000000029,1.0000000000000029],\"line\":{\"width\":1,\"dash\":\"solid\",\"color\":\"rgba(0, 0, 255, 1.000)\",\"shape\":\"linear\"},\"mode\":\"lines\"},{\"yaxis\":\"y\",\"y\":[8.5,8.5,11.5,11.5,8.5,8.5,8.5,11.5,11.5,8.5],\"showlegend\":true,\"name\":\"45\",\"type\":\"scatter3d\",\"xaxis\":\"x\",\"z\":[15.0,15.0,15.0,15.0,15.0,5.0,5.0,5.0,5.0,5.0],\"x\":[1.0000000000000024,-0.9999999999999974,-0.9999999999999974,1.0000000000000024,1.0000000000000024,1.0000000000000009,-0.9999999999999991,-0.9999999999999991,1.0000000000000009,1.0000000000000009],\"line\":{\"width\":1,\"dash\":\"solid\",\"color\":\"rgba(0, 0, 255, 1.000)\",\"shape\":\"linear\"},\"mode\":\"lines\"},{\"yaxis\":\"y\",\"y\":[8.5,8.5],\"showlegend\":true,\"name\":\"46\",\"type\":\"scatter3d\",\"xaxis\":\"x\",\"z\":[15.0,5.0],\"x\":[-0.9999999999999974,-0.9999999999999991],\"line\":{\"width\":1,\"dash\":\"solid\",\"color\":\"rgba(0, 0, 255, 1.000)\",\"shape\":\"linear\"},\"mode\":\"lines\"},{\"yaxis\":\"y\",\"y\":[11.5,11.5],\"showlegend\":true,\"name\":\"47\",\"type\":\"scatter3d\",\"xaxis\":\"x\",\"z\":[15.0,5.0],\"x\":[-0.9999999999999974,-0.9999999999999991],\"line\":{\"width\":1,\"dash\":\"solid\",\"color\":\"rgba(0, 0, 255, 1.000)\",\"shape\":\"linear\"},\"mode\":\"lines\"},{\"yaxis\":\"y\",\"y\":[11.5,11.5],\"showlegend\":true,\"name\":\"48\",\"type\":\"scatter3d\",\"xaxis\":\"x\",\"z\":[15.0,5.0],\"x\":[1.0000000000000024,1.0000000000000009],\"line\":{\"width\":1,\"dash\":\"solid\",\"color\":\"rgba(0, 0, 255, 1.000)\",\"shape\":\"linear\"},\"mode\":\"lines\"},{\"yaxis\":\"y\",\"y\":[10.0,10.0,10.0,10.0,10.0,1.0,1.0,1.0,1.0,1.0],\"showlegend\":true,\"name\":\"49\",\"type\":\"scatter3d\",\"xaxis\":\"x\",\"z\":[6.5,6.5,3.5,3.5,6.5,6.5,6.5,3.5,3.5,6.5],\"x\":[1.000000000000001,-0.9999999999999988,-0.9999999999999994,1.0000000000000004,1.000000000000001,1.000000000000001,-0.9999999999999988,-0.9999999999999994,1.0000000000000004,1.000000000000001],\"line\":{\"width\":1,\"dash\":\"solid\",\"color\":\"rgba(0, 0, 255, 1.000)\",\"shape\":\"linear\"},\"mode\":\"lines\"},{\"yaxis\":\"y\",\"y\":[10.0,1.0],\"showlegend\":true,\"name\":\"50\",\"type\":\"scatter3d\",\"xaxis\":\"x\",\"z\":[6.5,6.5],\"x\":[-0.9999999999999988,-0.9999999999999988],\"line\":{\"width\":1,\"dash\":\"solid\",\"color\":\"rgba(0, 0, 255, 1.000)\",\"shape\":\"linear\"},\"mode\":\"lines\"},{\"yaxis\":\"y\",\"y\":[10.0,1.0],\"showlegend\":true,\"name\":\"51\",\"type\":\"scatter3d\",\"xaxis\":\"x\",\"z\":[3.5,3.5],\"x\":[-0.9999999999999994,-0.9999999999999994],\"line\":{\"width\":1,\"dash\":\"solid\",\"color\":\"rgba(0, 0, 255, 1.000)\",\"shape\":\"linear\"},\"mode\":\"lines\"},{\"yaxis\":\"y\",\"y\":[10.0,1.0],\"showlegend\":true,\"name\":\"52\",\"type\":\"scatter3d\",\"xaxis\":\"x\",\"z\":[3.5,3.5],\"x\":[1.0000000000000004,1.0000000000000004],\"line\":{\"width\":1,\"dash\":\"solid\",\"color\":\"rgba(0, 0, 255, 1.000)\",\"shape\":\"linear\"},\"mode\":\"lines\"},{\"yaxis\":\"y\",\"showlegend\":true,\"type\":\"scatter3d\",\"xaxis\":\"x\",\"name\":\"53\",\"z\":[3.5355339059327386],\"marker\":{\"symbol\":\"circle\",\"line\":{\"width\":0.1,\"color\":\"rgba(0, 0, 0, 0.300)\"},\"size\":6.0,\"color\":\"rgba(255, 0, 0, 0.300)\"},\"y\":[-1.0],\"line\":{\"width\":1,\"dash\":\"solid\",\"color\":\"rgba(0, 0, 255, 1.000)\",\"shape\":\"linear\"},\"mode\":\"lines+markers\",\"x\":[-3.535533905932737]},{\"yaxis\":\"y\",\"showlegend\":true,\"type\":\"scatter3d\",\"xaxis\":\"x\",\"name\":\"54\",\"z\":[3.5355339059327386],\"marker\":{\"symbol\":\"circle\",\"line\":{\"width\":0.1,\"color\":\"rgba(0, 0, 0, 0.300)\"},\"size\":6.0,\"color\":\"rgba(255, 0, 0, 0.300)\"},\"y\":[-10.0],\"line\":{\"width\":1,\"dash\":\"solid\",\"color\":\"rgba(0, 0, 255, 1.000)\",\"shape\":\"linear\"},\"mode\":\"lines+markers\",\"x\":[-3.535533905932737]},{\"yaxis\":\"y\",\"showlegend\":true,\"type\":\"scatter3d\",\"xaxis\":\"x\",\"name\":\"55\",\"z\":[10.606601717798215],\"marker\":{\"symbol\":\"circle\",\"line\":{\"width\":0.1,\"color\":\"rgba(0, 0, 0, 0.300)\"},\"size\":6.0,\"color\":\"rgba(255, 0, 0, 0.300)\"},\"y\":[-10.0],\"line\":{\"width\":1,\"dash\":\"solid\",\"color\":\"rgba(0, 0, 255, 1.000)\",\"shape\":\"linear\"},\"mode\":\"lines+markers\",\"x\":[-10.60660171779821]},{\"yaxis\":\"y\",\"showlegend\":true,\"type\":\"scatter3d\",\"xaxis\":\"x\",\"name\":\"56\",\"z\":[10.606601717798215],\"marker\":{\"symbol\":\"circle\",\"line\":{\"width\":0.1,\"color\":\"rgba(0, 0, 0, 0.300)\"},\"size\":6.0,\"color\":\"rgba(255, 0, 0, 0.300)\"},\"y\":[10.0],\"line\":{\"width\":1,\"dash\":\"solid\",\"color\":\"rgba(0, 0, 255, 1.000)\",\"shape\":\"linear\"},\"mode\":\"lines+markers\",\"x\":[-10.60660171779821]},{\"yaxis\":\"y\",\"showlegend\":true,\"type\":\"scatter3d\",\"xaxis\":\"x\",\"name\":\"57\",\"z\":[3.5355339059327386],\"marker\":{\"symbol\":\"circle\",\"line\":{\"width\":0.1,\"color\":\"rgba(0, 0, 0, 0.300)\"},\"size\":6.0,\"color\":\"rgba(255, 0, 0, 0.300)\"},\"y\":[10.0],\"line\":{\"width\":1,\"dash\":\"solid\",\"color\":\"rgba(0, 0, 255, 1.000)\",\"shape\":\"linear\"},\"mode\":\"lines+markers\",\"x\":[-3.535533905932737]},{\"yaxis\":\"y\",\"showlegend\":true,\"type\":\"scatter3d\",\"xaxis\":\"x\",\"name\":\"58\",\"z\":[3.5355339059327386],\"marker\":{\"symbol\":\"circle\",\"line\":{\"width\":0.1,\"color\":\"rgba(0, 0, 0, 0.300)\"},\"size\":6.0,\"color\":\"rgba(255, 0, 0, 0.300)\"},\"y\":[1.0],\"line\":{\"width\":1,\"dash\":\"solid\",\"color\":\"rgba(0, 0, 255, 1.000)\",\"shape\":\"linear\"},\"mode\":\"lines+markers\",\"x\":[-3.535533905932737]},{\"yaxis\":\"y\",\"y\":[-1.0,-1.0,-1.0,-1.0,-1.0,-10.0,-10.0,-10.0,-10.0,-10.0],\"showlegend\":true,\"name\":\"59\",\"type\":\"scatter3d\",\"xaxis\":\"x\",\"z\":[5.3033008588991075,3.889087296526013,1.7677669529663698,3.1819805153394647,5.3033008588991075,5.3033008588991075,3.889087296526013,1.7677669529663698,3.1819805153394647,5.3033008588991075],\"x\":[-3.88908729652601,-5.303300858899106,-3.181980515339464,-1.7677669529663682,-3.88908729652601,-3.88908729652601,-5.303300858899106,-3.181980515339464,-1.7677669529663682,-3.88908729652601],\"line\":{\"width\":1,\"dash\":\"solid\",\"color\":\"rgba(0, 0, 255, 1.000)\",\"shape\":\"linear\"},\"mode\":\"lines\"},{\"yaxis\":\"y\",\"y\":[-1.0,-10.0],\"showlegend\":true,\"name\":\"60\",\"type\":\"scatter3d\",\"xaxis\":\"x\",\"z\":[3.889087296526013,3.889087296526013],\"x\":[-5.303300858899106,-5.303300858899106],\"line\":{\"width\":1,\"dash\":\"solid\",\"color\":\"rgba(0, 0, 255, 1.000)\",\"shape\":\"linear\"},\"mode\":\"lines\"},{\"yaxis\":\"y\",\"y\":[-1.0,-10.0],\"showlegend\":true,\"name\":\"61\",\"type\":\"scatter3d\",\"xaxis\":\"x\",\"z\":[1.7677669529663698,1.7677669529663698],\"x\":[-3.181980515339464,-3.181980515339464],\"line\":{\"width\":1,\"dash\":\"solid\",\"color\":\"rgba(0, 0, 255, 1.000)\",\"shape\":\"linear\"},\"mode\":\"lines\"},{\"yaxis\":\"y\",\"y\":[-1.0,-10.0],\"showlegend\":true,\"name\":\"62\",\"type\":\"scatter3d\",\"xaxis\":\"x\",\"z\":[3.1819805153394647,3.1819805153394647],\"x\":[-1.7677669529663682,-1.7677669529663682],\"line\":{\"width\":1,\"dash\":\"solid\",\"color\":\"rgba(0, 0, 255, 1.000)\",\"shape\":\"linear\"},\"mode\":\"lines\"},{\"yaxis\":\"y\",\"y\":[-8.5,-8.5,-11.5,-11.5,-8.5,-8.5,-8.5,-11.5,-11.5,-8.5],\"showlegend\":true,\"name\":\"63\",\"type\":\"scatter3d\",\"xaxis\":\"x\",\"z\":[4.242640687119286,2.828427124746191,2.828427124746191,4.242640687119286,4.242640687119286,11.313708498984763,9.899494936611667,9.899494936611667,11.313708498984763,11.313708498984763],\"x\":[-2.828427124746189,-4.242640687119285,-4.242640687119285,-2.828427124746189,-2.828427124746189,-9.899494936611662,-11.313708498984758,-11.313708498984758,-9.899494936611662,-9.899494936611662],\"line\":{\"width\":1,\"dash\":\"solid\",\"color\":\"rgba(0, 0, 255, 1.000)\",\"shape\":\"linear\"},\"mode\":\"lines\"},{\"yaxis\":\"y\",\"y\":[-8.5,-8.5],\"showlegend\":true,\"name\":\"64\",\"type\":\"scatter3d\",\"xaxis\":\"x\",\"z\":[2.828427124746191,9.899494936611667],\"x\":[-4.242640687119285,-11.313708498984758],\"line\":{\"width\":1,\"dash\":\"solid\",\"color\":\"rgba(0, 0, 255, 1.000)\",\"shape\":\"linear\"},\"mode\":\"lines\"},{\"yaxis\":\"y\",\"y\":[-11.5,-11.5],\"showlegend\":true,\"name\":\"65\",\"type\":\"scatter3d\",\"xaxis\":\"x\",\"z\":[2.828427124746191,9.899494936611667],\"x\":[-4.242640687119285,-11.313708498984758],\"line\":{\"width\":1,\"dash\":\"solid\",\"color\":\"rgba(0, 0, 255, 1.000)\",\"shape\":\"linear\"},\"mode\":\"lines\"},{\"yaxis\":\"y\",\"y\":[-11.5,-11.5],\"showlegend\":true,\"name\":\"66\",\"type\":\"scatter3d\",\"xaxis\":\"x\",\"z\":[4.242640687119286,11.313708498984763],\"x\":[-2.828427124746189,-9.899494936611662],\"line\":{\"width\":1,\"dash\":\"solid\",\"color\":\"rgba(0, 0, 255, 1.000)\",\"shape\":\"linear\"},\"mode\":\"lines\"},{\"yaxis\":\"y\",\"y\":[-10.0,-10.0,-10.0,-10.0,-10.0,10.0,10.0,10.0,10.0,10.0],\"showlegend\":true,\"name\":\"67\",\"type\":\"scatter3d\",\"xaxis\":\"x\",\"z\":[10.253048327204942,8.838834764831846,10.960155108391488,12.374368670764584,10.253048327204942,10.253048327204942,8.838834764831846,10.960155108391488,12.374368670764584,10.253048327204942],\"x\":[-8.83883476483184,-10.253048327204937,-12.374368670764579,-10.960155108391483,-8.83883476483184,-8.83883476483184,-10.253048327204937,-12.374368670764579,-10.960155108391483,-8.83883476483184],\"line\":{\"width\":1,\"dash\":\"solid\",\"color\":\"rgba(0, 0, 255, 1.000)\",\"shape\":\"linear\"},\"mode\":\"lines\"},{\"yaxis\":\"y\",\"y\":[-10.0,10.0],\"showlegend\":true,\"name\":\"68\",\"type\":\"scatter3d\",\"xaxis\":\"x\",\"z\":[8.838834764831846,8.838834764831846],\"x\":[-10.253048327204937,-10.253048327204937],\"line\":{\"width\":1,\"dash\":\"solid\",\"color\":\"rgba(0, 0, 255, 1.000)\",\"shape\":\"linear\"},\"mode\":\"lines\"},{\"yaxis\":\"y\",\"y\":[-10.0,10.0],\"showlegend\":true,\"name\":\"69\",\"type\":\"scatter3d\",\"xaxis\":\"x\",\"z\":[10.960155108391488,10.960155108391488],\"x\":[-12.374368670764579,-12.374368670764579],\"line\":{\"width\":1,\"dash\":\"solid\",\"color\":\"rgba(0, 0, 255, 1.000)\",\"shape\":\"linear\"},\"mode\":\"lines\"},{\"yaxis\":\"y\",\"y\":[-10.0,10.0],\"showlegend\":true,\"name\":\"70\",\"type\":\"scatter3d\",\"xaxis\":\"x\",\"z\":[12.374368670764584,12.374368670764584],\"x\":[-10.960155108391483,-10.960155108391483],\"line\":{\"width\":1,\"dash\":\"solid\",\"color\":\"rgba(0, 0, 255, 1.000)\",\"shape\":\"linear\"},\"mode\":\"lines\"},{\"yaxis\":\"y\",\"y\":[8.5,8.5,11.5,11.5,8.5,8.5,8.5,11.5,11.5,8.5],\"showlegend\":true,\"name\":\"71\",\"type\":\"scatter3d\",\"xaxis\":\"x\",\"z\":[11.313708498984763,9.899494936611667,9.899494936611667,11.313708498984763,11.313708498984763,4.242640687119286,2.828427124746191,2.828427124746191,4.242640687119286,4.242640687119286],\"x\":[-9.899494936611662,-11.313708498984758,-11.313708498984758,-9.899494936611662,-9.899494936611662,-2.828427124746189,-4.242640687119285,-4.242640687119285,-2.828427124746189,-2.828427124746189],\"line\":{\"width\":1,\"dash\":\"solid\",\"color\":\"rgba(0, 0, 255, 1.000)\",\"shape\":\"linear\"},\"mode\":\"lines\"},{\"yaxis\":\"y\",\"y\":[8.5,8.5],\"showlegend\":true,\"name\":\"72\",\"type\":\"scatter3d\",\"xaxis\":\"x\",\"z\":[9.899494936611667,2.828427124746191],\"x\":[-11.313708498984758,-4.242640687119285],\"line\":{\"width\":1,\"dash\":\"solid\",\"color\":\"rgba(0, 0, 255, 1.000)\",\"shape\":\"linear\"},\"mode\":\"lines\"},{\"yaxis\":\"y\",\"y\":[11.5,11.5],\"showlegend\":true,\"name\":\"73\",\"type\":\"scatter3d\",\"xaxis\":\"x\",\"z\":[9.899494936611667,2.828427124746191],\"x\":[-11.313708498984758,-4.242640687119285],\"line\":{\"width\":1,\"dash\":\"solid\",\"color\":\"rgba(0, 0, 255, 1.000)\",\"shape\":\"linear\"},\"mode\":\"lines\"},{\"yaxis\":\"y\",\"y\":[11.5,11.5],\"showlegend\":true,\"name\":\"74\",\"type\":\"scatter3d\",\"xaxis\":\"x\",\"z\":[11.313708498984763,4.242640687119286],\"x\":[-9.899494936611662,-2.828427124746189],\"line\":{\"width\":1,\"dash\":\"solid\",\"color\":\"rgba(0, 0, 255, 1.000)\",\"shape\":\"linear\"},\"mode\":\"lines\"},{\"yaxis\":\"y\",\"y\":[10.0,10.0,10.0,10.0,10.0,1.0,1.0,1.0,1.0,1.0],\"showlegend\":true,\"name\":\"75\",\"type\":\"scatter3d\",\"xaxis\":\"x\",\"z\":[5.3033008588991075,3.889087296526013,1.7677669529663698,3.1819805153394647,5.3033008588991075,5.3033008588991075,3.889087296526013,1.7677669529663698,3.1819805153394647,5.3033008588991075],\"x\":[-3.88908729652601,-5.303300858899106,-3.181980515339464,-1.7677669529663682,-3.88908729652601,-3.88908729652601,-5.303300858899106,-3.181980515339464,-1.7677669529663682,-3.88908729652601],\"line\":{\"width\":1,\"dash\":\"solid\",\"color\":\"rgba(0, 0, 255, 1.000)\",\"shape\":\"linear\"},\"mode\":\"lines\"},{\"yaxis\":\"y\",\"y\":[10.0,1.0],\"showlegend\":true,\"name\":\"76\",\"type\":\"scatter3d\",\"xaxis\":\"x\",\"z\":[3.889087296526013,3.889087296526013],\"x\":[-5.303300858899106,-5.303300858899106],\"line\":{\"width\":1,\"dash\":\"solid\",\"color\":\"rgba(0, 0, 255, 1.000)\",\"shape\":\"linear\"},\"mode\":\"lines\"},{\"yaxis\":\"y\",\"y\":[10.0,1.0],\"showlegend\":true,\"name\":\"77\",\"type\":\"scatter3d\",\"xaxis\":\"x\",\"z\":[1.7677669529663698,1.7677669529663698],\"x\":[-3.181980515339464,-3.181980515339464],\"line\":{\"width\":1,\"dash\":\"solid\",\"color\":\"rgba(0, 0, 255, 1.000)\",\"shape\":\"linear\"},\"mode\":\"lines\"},{\"yaxis\":\"y\",\"y\":[10.0,1.0],\"showlegend\":true,\"name\":\"78\",\"type\":\"scatter3d\",\"xaxis\":\"x\",\"z\":[3.1819805153394647,3.1819805153394647],\"x\":[-1.7677669529663682,-1.7677669529663682],\"line\":{\"width\":1,\"dash\":\"solid\",\"color\":\"rgba(0, 0, 255, 1.000)\",\"shape\":\"linear\"},\"mode\":\"lines\"},{\"yaxis\":\"y\",\"showlegend\":true,\"type\":\"scatter3d\",\"xaxis\":\"x\",\"name\":\"79\",\"z\":[1.7795012131225426e-15],\"marker\":{\"symbol\":\"circle\",\"line\":{\"width\":0.1,\"color\":\"rgba(0, 0, 0, 0.300)\"},\"size\":6.0,\"color\":\"rgba(255, 0, 0, 0.300)\"},\"y\":[-1.0],\"line\":{\"width\":1,\"dash\":\"solid\",\"color\":\"rgba(0, 0, 255, 1.000)\",\"shape\":\"linear\"},\"mode\":\"lines+markers\",\"x\":[-5.0]},{\"yaxis\":\"y\",\"showlegend\":true,\"type\":\"scatter3d\",\"xaxis\":\"x\",\"name\":\"80\",\"z\":[1.7795012131225426e-15],\"marker\":{\"symbol\":\"circle\",\"line\":{\"width\":0.1,\"color\":\"rgba(0, 0, 0, 0.300)\"},\"size\":6.0,\"color\":\"rgba(255, 0, 0, 0.300)\"},\"y\":[-10.0],\"line\":{\"width\":1,\"dash\":\"solid\",\"color\":\"rgba(0, 0, 255, 1.000)\",\"shape\":\"linear\"},\"mode\":\"lines+markers\",\"x\":[-5.0]},{\"yaxis\":\"y\",\"showlegend\":true,\"type\":\"scatter3d\",\"xaxis\":\"x\",\"name\":\"81\",\"z\":[4.710466655894118e-15],\"marker\":{\"symbol\":\"circle\",\"line\":{\"width\":0.1,\"color\":\"rgba(0, 0, 0, 0.300)\"},\"size\":6.0,\"color\":\"rgba(255, 0, 0, 0.300)\"},\"y\":[-10.0],\"line\":{\"width\":1,\"dash\":\"solid\",\"color\":\"rgba(0, 0, 255, 1.000)\",\"shape\":\"linear\"},\"mode\":\"lines+markers\",\"x\":[-14.999999999999998]},{\"yaxis\":\"y\",\"showlegend\":true,\"type\":\"scatter3d\",\"xaxis\":\"x\",\"name\":\"82\",\"z\":[4.710466655894118e-15],\"marker\":{\"symbol\":\"circle\",\"line\":{\"width\":0.1,\"color\":\"rgba(0, 0, 0, 0.300)\"},\"size\":6.0,\"color\":\"rgba(255, 0, 0, 0.300)\"},\"y\":[10.0],\"line\":{\"width\":1,\"dash\":\"solid\",\"color\":\"rgba(0, 0, 255, 1.000)\",\"shape\":\"linear\"},\"mode\":\"lines+markers\",\"x\":[-14.999999999999998]},{\"yaxis\":\"y\",\"showlegend\":true,\"type\":\"scatter3d\",\"xaxis\":\"x\",\"name\":\"83\",\"z\":[1.7795012131225426e-15],\"marker\":{\"symbol\":\"circle\",\"line\":{\"width\":0.1,\"color\":\"rgba(0, 0, 0, 0.300)\"},\"size\":6.0,\"color\":\"rgba(255, 0, 0, 0.300)\"},\"y\":[10.0],\"line\":{\"width\":1,\"dash\":\"solid\",\"color\":\"rgba(0, 0, 255, 1.000)\",\"shape\":\"linear\"},\"mode\":\"lines+markers\",\"x\":[-5.0]},{\"yaxis\":\"y\",\"showlegend\":true,\"type\":\"scatter3d\",\"xaxis\":\"x\",\"name\":\"84\",\"z\":[1.7795012131225426e-15],\"marker\":{\"symbol\":\"circle\",\"line\":{\"width\":0.1,\"color\":\"rgba(0, 0, 0, 0.300)\"},\"size\":6.0,\"color\":\"rgba(255, 0, 0, 0.300)\"},\"y\":[1.0],\"line\":{\"width\":1,\"dash\":\"solid\",\"color\":\"rgba(0, 0, 255, 1.000)\",\"shape\":\"linear\"},\"mode\":\"lines+markers\",\"x\":[-5.0]},{\"yaxis\":\"y\",\"y\":[-1.0,-1.0,-1.0,-1.0,-1.0,-10.0,-10.0,-10.0,-10.0,-10.0],\"showlegend\":true,\"name\":\"85\",\"type\":\"scatter3d\",\"xaxis\":\"x\",\"z\":[1.0000000000000022,-0.9999999999999978,-0.9999999999999987,1.0000000000000013,1.0000000000000022,1.0000000000000022,-0.9999999999999978,-0.9999999999999987,1.0000000000000013,1.0000000000000022],\"x\":[-6.5,-6.5,-3.5000000000000004,-3.4999999999999996,-6.5,-6.5,-6.5,-3.5000000000000004,-3.4999999999999996,-6.5],\"line\":{\"width\":1,\"dash\":\"solid\",\"color\":\"rgba(0, 0, 255, 1.000)\",\"shape\":\"linear\"},\"mode\":\"lines\"},{\"yaxis\":\"y\",\"y\":[-1.0,-10.0],\"showlegend\":true,\"name\":\"86\",\"type\":\"scatter3d\",\"xaxis\":\"x\",\"z\":[-0.9999999999999978,-0.9999999999999978],\"x\":[-6.5,-6.5],\"line\":{\"width\":1,\"dash\":\"solid\",\"color\":\"rgba(0, 0, 255, 1.000)\",\"shape\":\"linear\"},\"mode\":\"lines\"},{\"yaxis\":\"y\",\"y\":[-1.0,-10.0],\"showlegend\":true,\"name\":\"87\",\"type\":\"scatter3d\",\"xaxis\":\"x\",\"z\":[-0.9999999999999987,-0.9999999999999987],\"x\":[-3.5000000000000004,-3.5000000000000004],\"line\":{\"width\":1,\"dash\":\"solid\",\"color\":\"rgba(0, 0, 255, 1.000)\",\"shape\":\"linear\"},\"mode\":\"lines\"},{\"yaxis\":\"y\",\"y\":[-1.0,-10.0],\"showlegend\":true,\"name\":\"88\",\"type\":\"scatter3d\",\"xaxis\":\"x\",\"z\":[1.0000000000000013,1.0000000000000013],\"x\":[-3.4999999999999996,-3.4999999999999996],\"line\":{\"width\":1,\"dash\":\"solid\",\"color\":\"rgba(0, 0, 255, 1.000)\",\"shape\":\"linear\"},\"mode\":\"lines\"},{\"yaxis\":\"y\",\"y\":[-8.5,-8.5,-11.5,-11.5,-8.5,-8.5,-8.5,-11.5,-11.5,-8.5],\"showlegend\":true,\"name\":\"89\",\"type\":\"scatter3d\",\"xaxis\":\"x\",\"z\":[1.0000000000000018,-0.9999999999999982,-0.9999999999999982,1.0000000000000018,1.0000000000000018,1.0000000000000047,-0.9999999999999953,-0.9999999999999953,1.0000000000000047,1.0000000000000047],\"x\":[-5.0,-5.0,-5.0,-5.0,-5.0,-14.999999999999998,-14.999999999999998,-14.999999999999998,-14.999999999999998,-14.999999999999998],\"line\":{\"width\":1,\"dash\":\"solid\",\"color\":\"rgba(0, 0, 255, 1.000)\",\"shape\":\"linear\"},\"mode\":\"lines\"},{\"yaxis\":\"y\",\"y\":[-8.5,-8.5],\"showlegend\":true,\"name\":\"90\",\"type\":\"scatter3d\",\"xaxis\":\"x\",\"z\":[-0.9999999999999982,-0.9999999999999953],\"x\":[-5.0,-14.999999999999998],\"line\":{\"width\":1,\"dash\":\"solid\",\"color\":\"rgba(0, 0, 255, 1.000)\",\"shape\":\"linear\"},\"mode\":\"lines\"},{\"yaxis\":\"y\",\"y\":[-11.5,-11.5],\"showlegend\":true,\"name\":\"91\",\"type\":\"scatter3d\",\"xaxis\":\"x\",\"z\":[-0.9999999999999982,-0.9999999999999953],\"x\":[-5.0,-14.999999999999998],\"line\":{\"width\":1,\"dash\":\"solid\",\"color\":\"rgba(0, 0, 255, 1.000)\",\"shape\":\"linear\"},\"mode\":\"lines\"},{\"yaxis\":\"y\",\"y\":[-11.5,-11.5],\"showlegend\":true,\"name\":\"92\",\"type\":\"scatter3d\",\"xaxis\":\"x\",\"z\":[1.0000000000000018,1.0000000000000047],\"x\":[-5.0,-14.999999999999998],\"line\":{\"width\":1,\"dash\":\"solid\",\"color\":\"rgba(0, 0, 255, 1.000)\",\"shape\":\"linear\"},\"mode\":\"lines\"},{\"yaxis\":\"y\",\"y\":[-10.0,-10.0,-10.0,-10.0,-10.0,10.0,10.0,10.0,10.0,10.0],\"showlegend\":true,\"name\":\"93\",\"type\":\"scatter3d\",\"xaxis\":\"x\",\"z\":[1.0000000000000042,-0.9999999999999957,-0.9999999999999949,1.000000000000005,1.0000000000000042,1.0000000000000042,-0.9999999999999957,-0.9999999999999949,1.000000000000005,1.0000000000000042],\"x\":[-13.499999999999998,-13.499999999999998,-16.5,-16.5,-13.499999999999998,-13.499999999999998,-13.499999999999998,-16.5,-16.5,-13.499999999999998],\"line\":{\"width\":1,\"dash\":\"solid\",\"color\":\"rgba(0, 0, 255, 1.000)\",\"shape\":\"linear\"},\"mode\":\"lines\"},{\"yaxis\":\"y\",\"y\":[-10.0,10.0],\"showlegend\":true,\"name\":\"94\",\"type\":\"scatter3d\",\"xaxis\":\"x\",\"z\":[-0.9999999999999957,-0.9999999999999957],\"x\":[-13.499999999999998,-13.499999999999998],\"line\":{\"width\":1,\"dash\":\"solid\",\"color\":\"rgba(0, 0, 255, 1.000)\",\"shape\":\"linear\"},\"mode\":\"lines\"},{\"yaxis\":\"y\",\"y\":[-10.0,10.0],\"showlegend\":true,\"name\":\"95\",\"type\":\"scatter3d\",\"xaxis\":\"x\",\"z\":[-0.9999999999999949,-0.9999999999999949],\"x\":[-16.5,-16.5],\"line\":{\"width\":1,\"dash\":\"solid\",\"color\":\"rgba(0, 0, 255, 1.000)\",\"shape\":\"linear\"},\"mode\":\"lines\"},{\"yaxis\":\"y\",\"y\":[-10.0,10.0],\"showlegend\":true,\"name\":\"96\",\"type\":\"scatter3d\",\"xaxis\":\"x\",\"z\":[1.000000000000005,1.000000000000005],\"x\":[-16.5,-16.5],\"line\":{\"width\":1,\"dash\":\"solid\",\"color\":\"rgba(0, 0, 255, 1.000)\",\"shape\":\"linear\"},\"mode\":\"lines\"},{\"yaxis\":\"y\",\"y\":[8.5,8.5,11.5,11.5,8.5,8.5,8.5,11.5,11.5,8.5],\"showlegend\":true,\"name\":\"97\",\"type\":\"scatter3d\",\"xaxis\":\"x\",\"z\":[1.0000000000000047,-0.9999999999999953,-0.9999999999999953,1.0000000000000047,1.0000000000000047,1.0000000000000018,-0.9999999999999982,-0.9999999999999982,1.0000000000000018,1.0000000000000018],\"x\":[-14.999999999999998,-14.999999999999998,-14.999999999999998,-14.999999999999998,-14.999999999999998,-5.0,-5.0,-5.0,-5.0,-5.0],\"line\":{\"width\":1,\"dash\":\"solid\",\"color\":\"rgba(0, 0, 255, 1.000)\",\"shape\":\"linear\"},\"mode\":\"lines\"},{\"yaxis\":\"y\",\"y\":[8.5,8.5],\"showlegend\":true,\"name\":\"98\",\"type\":\"scatter3d\",\"xaxis\":\"x\",\"z\":[-0.9999999999999953,-0.9999999999999982],\"x\":[-14.999999999999998,-5.0],\"line\":{\"width\":1,\"dash\":\"solid\",\"color\":\"rgba(0, 0, 255, 1.000)\",\"shape\":\"linear\"},\"mode\":\"lines\"},{\"yaxis\":\"y\",\"y\":[11.5,11.5],\"showlegend\":true,\"name\":\"99\",\"type\":\"scatter3d\",\"xaxis\":\"x\",\"z\":[-0.9999999999999953,-0.9999999999999982],\"x\":[-14.999999999999998,-5.0],\"line\":{\"width\":1,\"dash\":\"solid\",\"color\":\"rgba(0, 0, 255, 1.000)\",\"shape\":\"linear\"},\"mode\":\"lines\"},{\"yaxis\":\"y\",\"y\":[11.5,11.5],\"showlegend\":true,\"name\":\"100\",\"type\":\"scatter3d\",\"xaxis\":\"x\",\"z\":[1.0000000000000047,1.0000000000000018],\"x\":[-14.999999999999998,-5.0],\"line\":{\"width\":1,\"dash\":\"solid\",\"color\":\"rgba(0, 0, 255, 1.000)\",\"shape\":\"linear\"},\"mode\":\"lines\"},{\"yaxis\":\"y\",\"y\":[10.0,10.0,10.0,10.0,10.0,1.0,1.0,1.0,1.0,1.0],\"showlegend\":true,\"name\":\"101\",\"type\":\"scatter3d\",\"xaxis\":\"x\",\"z\":[1.0000000000000022,-0.9999999999999978,-0.9999999999999987,1.0000000000000013,1.0000000000000022,1.0000000000000022,-0.9999999999999978,-0.9999999999999987,1.0000000000000013,1.0000000000000022],\"x\":[-6.5,-6.5,-3.5000000000000004,-3.4999999999999996,-6.5,-6.5,-6.5,-3.5000000000000004,-3.4999999999999996,-6.5],\"line\":{\"width\":1,\"dash\":\"solid\",\"color\":\"rgba(0, 0, 255, 1.000)\",\"shape\":\"linear\"},\"mode\":\"lines\"},{\"yaxis\":\"y\",\"y\":[10.0,1.0],\"showlegend\":true,\"name\":\"102\",\"type\":\"scatter3d\",\"xaxis\":\"x\",\"z\":[-0.9999999999999978,-0.9999999999999978],\"x\":[-6.5,-6.5],\"line\":{\"width\":1,\"dash\":\"solid\",\"color\":\"rgba(0, 0, 255, 1.000)\",\"shape\":\"linear\"},\"mode\":\"lines\"},{\"yaxis\":\"y\",\"y\":[10.0,1.0],\"showlegend\":true,\"name\":\"103\",\"type\":\"scatter3d\",\"xaxis\":\"x\",\"z\":[-0.9999999999999987,-0.9999999999999987],\"x\":[-3.5000000000000004,-3.5000000000000004],\"line\":{\"width\":1,\"dash\":\"solid\",\"color\":\"rgba(0, 0, 255, 1.000)\",\"shape\":\"linear\"},\"mode\":\"lines\"},{\"yaxis\":\"y\",\"y\":[10.0,1.0],\"showlegend\":true,\"name\":\"104\",\"type\":\"scatter3d\",\"xaxis\":\"x\",\"z\":[1.0000000000000013,1.0000000000000013],\"x\":[-3.4999999999999996,-3.4999999999999996],\"line\":{\"width\":1,\"dash\":\"solid\",\"color\":\"rgba(0, 0, 255, 1.000)\",\"shape\":\"linear\"},\"mode\":\"lines\"},{\"yaxis\":\"y\",\"showlegend\":true,\"type\":\"scatter3d\",\"xaxis\":\"x\",\"name\":\"105\",\"z\":[-3.535533905932736],\"marker\":{\"symbol\":\"circle\",\"line\":{\"width\":0.1,\"color\":\"rgba(0, 0, 0, 0.300)\"},\"size\":6.0,\"color\":\"rgba(255, 0, 0, 0.300)\"},\"y\":[-1.0],\"line\":{\"width\":1,\"dash\":\"solid\",\"color\":\"rgba(0, 0, 255, 1.000)\",\"shape\":\"linear\"},\"mode\":\"lines+markers\",\"x\":[-3.535533905932739]},{\"yaxis\":\"y\",\"showlegend\":true,\"type\":\"scatter3d\",\"xaxis\":\"x\",\"name\":\"106\",\"z\":[-3.535533905932736],\"marker\":{\"symbol\":\"circle\",\"line\":{\"width\":0.1,\"color\":\"rgba(0, 0, 0, 0.300)\"},\"size\":6.0,\"color\":\"rgba(255, 0, 0, 0.300)\"},\"y\":[-10.0],\"line\":{\"width\":1,\"dash\":\"solid\",\"color\":\"rgba(0, 0, 255, 1.000)\",\"shape\":\"linear\"},\"mode\":\"lines+markers\",\"x\":[-3.535533905932739]},{\"yaxis\":\"y\",\"showlegend\":true,\"type\":\"scatter3d\",\"xaxis\":\"x\",\"name\":\"107\",\"z\":[-10.606601717798208],\"marker\":{\"symbol\":\"circle\",\"line\":{\"width\":0.1,\"color\":\"rgba(0, 0, 0, 0.300)\"},\"size\":6.0,\"color\":\"rgba(255, 0, 0, 0.300)\"},\"y\":[-10.0],\"line\":{\"width\":1,\"dash\":\"solid\",\"color\":\"rgba(0, 0, 255, 1.000)\",\"shape\":\"linear\"},\"mode\":\"lines+markers\",\"x\":[-10.606601717798215]},{\"yaxis\":\"y\",\"showlegend\":true,\"type\":\"scatter3d\",\"xaxis\":\"x\",\"name\":\"108\",\"z\":[-10.606601717798208],\"marker\":{\"symbol\":\"circle\",\"line\":{\"width\":0.1,\"color\":\"rgba(0, 0, 0, 0.300)\"},\"size\":6.0,\"color\":\"rgba(255, 0, 0, 0.300)\"},\"y\":[10.0],\"line\":{\"width\":1,\"dash\":\"solid\",\"color\":\"rgba(0, 0, 255, 1.000)\",\"shape\":\"linear\"},\"mode\":\"lines+markers\",\"x\":[-10.606601717798215]},{\"yaxis\":\"y\",\"showlegend\":true,\"type\":\"scatter3d\",\"xaxis\":\"x\",\"name\":\"109\",\"z\":[-3.535533905932736],\"marker\":{\"symbol\":\"circle\",\"line\":{\"width\":0.1,\"color\":\"rgba(0, 0, 0, 0.300)\"},\"size\":6.0,\"color\":\"rgba(255, 0, 0, 0.300)\"},\"y\":[10.0],\"line\":{\"width\":1,\"dash\":\"solid\",\"color\":\"rgba(0, 0, 255, 1.000)\",\"shape\":\"linear\"},\"mode\":\"lines+markers\",\"x\":[-3.535533905932739]},{\"yaxis\":\"y\",\"showlegend\":true,\"type\":\"scatter3d\",\"xaxis\":\"x\",\"name\":\"110\",\"z\":[-3.535533905932736],\"marker\":{\"symbol\":\"circle\",\"line\":{\"width\":0.1,\"color\":\"rgba(0, 0, 0, 0.300)\"},\"size\":6.0,\"color\":\"rgba(255, 0, 0, 0.300)\"},\"y\":[1.0],\"line\":{\"width\":1,\"dash\":\"solid\",\"color\":\"rgba(0, 0, 255, 1.000)\",\"shape\":\"linear\"},\"mode\":\"lines+markers\",\"x\":[-3.535533905932739]},{\"yaxis\":\"y\",\"y\":[-1.0,-1.0,-1.0,-1.0,-1.0,-10.0,-10.0,-10.0,-10.0,-10.0],\"showlegend\":true,\"name\":\"111\",\"type\":\"scatter3d\",\"xaxis\":\"x\",\"z\":[-3.889087296526009,-5.303300858899105,-3.181980515339463,-1.767766952966367,-3.889087296526009,-3.889087296526009,-5.303300858899105,-3.181980515339463,-1.767766952966367,-3.889087296526009],\"x\":[-5.3033008588991075,-3.8890872965260135,-1.7677669529663704,-3.1819805153394647,-5.3033008588991075,-5.3033008588991075,-3.8890872965260135,-1.7677669529663704,-3.1819805153394647,-5.3033008588991075],\"line\":{\"width\":1,\"dash\":\"solid\",\"color\":\"rgba(0, 0, 255, 1.000)\",\"shape\":\"linear\"},\"mode\":\"lines\"},{\"yaxis\":\"y\",\"y\":[-1.0,-10.0],\"showlegend\":true,\"name\":\"112\",\"type\":\"scatter3d\",\"xaxis\":\"x\",\"z\":[-5.303300858899105,-5.303300858899105],\"x\":[-3.8890872965260135,-3.8890872965260135],\"line\":{\"width\":1,\"dash\":\"solid\",\"color\":\"rgba(0, 0, 255, 1.000)\",\"shape\":\"linear\"},\"mode\":\"lines\"},{\"yaxis\":\"y\",\"y\":[-1.0,-10.0],\"showlegend\":true,\"name\":\"113\",\"type\":\"scatter3d\",\"xaxis\":\"x\",\"z\":[-3.181980515339463,-3.181980515339463],\"x\":[-1.7677669529663704,-1.7677669529663704],\"line\":{\"width\":1,\"dash\":\"solid\",\"color\":\"rgba(0, 0, 255, 1.000)\",\"shape\":\"linear\"},\"mode\":\"lines\"},{\"yaxis\":\"y\",\"y\":[-1.0,-10.0],\"showlegend\":true,\"name\":\"114\",\"type\":\"scatter3d\",\"xaxis\":\"x\",\"z\":[-1.767766952966367,-1.767766952966367],\"x\":[-3.1819805153394647,-3.1819805153394647],\"line\":{\"width\":1,\"dash\":\"solid\",\"color\":\"rgba(0, 0, 255, 1.000)\",\"shape\":\"linear\"},\"mode\":\"lines\"},{\"yaxis\":\"y\",\"y\":[-8.5,-8.5,-11.5,-11.5,-8.5,-8.5,-8.5,-11.5,-11.5,-8.5],\"showlegend\":true,\"name\":\"115\",\"type\":\"scatter3d\",\"xaxis\":\"x\",\"z\":[-2.828427124746188,-4.242640687119284,-4.242640687119284,-2.828427124746188,-2.828427124746188,-9.89949493661166,-11.313708498984756,-11.313708498984756,-9.89949493661166,-9.89949493661166],\"x\":[-4.2426406871192865,-2.8284271247461916,-2.8284271247461916,-4.2426406871192865,-4.2426406871192865,-11.313708498984763,-9.899494936611667,-9.899494936611667,-11.313708498984763,-11.313708498984763],\"line\":{\"width\":1,\"dash\":\"solid\",\"color\":\"rgba(0, 0, 255, 1.000)\",\"shape\":\"linear\"},\"mode\":\"lines\"},{\"yaxis\":\"y\",\"y\":[-8.5,-8.5],\"showlegend\":true,\"name\":\"116\",\"type\":\"scatter3d\",\"xaxis\":\"x\",\"z\":[-4.242640687119284,-11.313708498984756],\"x\":[-2.8284271247461916,-9.899494936611667],\"line\":{\"width\":1,\"dash\":\"solid\",\"color\":\"rgba(0, 0, 255, 1.000)\",\"shape\":\"linear\"},\"mode\":\"lines\"},{\"yaxis\":\"y\",\"y\":[-11.5,-11.5],\"showlegend\":true,\"name\":\"117\",\"type\":\"scatter3d\",\"xaxis\":\"x\",\"z\":[-4.242640687119284,-11.313708498984756],\"x\":[-2.8284271247461916,-9.899494936611667],\"line\":{\"width\":1,\"dash\":\"solid\",\"color\":\"rgba(0, 0, 255, 1.000)\",\"shape\":\"linear\"},\"mode\":\"lines\"},{\"yaxis\":\"y\",\"y\":[-11.5,-11.5],\"showlegend\":true,\"name\":\"118\",\"type\":\"scatter3d\",\"xaxis\":\"x\",\"z\":[-2.828427124746188,-9.89949493661166],\"x\":[-4.2426406871192865,-11.313708498984763],\"line\":{\"width\":1,\"dash\":\"solid\",\"color\":\"rgba(0, 0, 255, 1.000)\",\"shape\":\"linear\"},\"mode\":\"lines\"},{\"yaxis\":\"y\",\"y\":[-10.0,-10.0,-10.0,-10.0,-10.0,10.0,10.0,10.0,10.0,10.0],\"showlegend\":true,\"name\":\"119\",\"type\":\"scatter3d\",\"xaxis\":\"x\",\"z\":[-8.838834764831839,-10.253048327204935,-12.374368670764577,-10.960155108391481,-8.838834764831839,-8.838834764831839,-10.253048327204935,-12.374368670764577,-10.960155108391481,-8.838834764831839],\"x\":[-10.253048327204942,-8.838834764831846,-10.960155108391488,-12.374368670764584,-10.253048327204942,-10.253048327204942,-8.838834764831846,-10.960155108391488,-12.374368670764584,-10.253048327204942],\"line\":{\"width\":1,\"dash\":\"solid\",\"color\":\"rgba(0, 0, 255, 1.000)\",\"shape\":\"linear\"},\"mode\":\"lines\"},{\"yaxis\":\"y\",\"y\":[-10.0,10.0],\"showlegend\":true,\"name\":\"120\",\"type\":\"scatter3d\",\"xaxis\":\"x\",\"z\":[-10.253048327204935,-10.253048327204935],\"x\":[-8.838834764831846,-8.838834764831846],\"line\":{\"width\":1,\"dash\":\"solid\",\"color\":\"rgba(0, 0, 255, 1.000)\",\"shape\":\"linear\"},\"mode\":\"lines\"},{\"yaxis\":\"y\",\"y\":[-10.0,10.0],\"showlegend\":true,\"name\":\"121\",\"type\":\"scatter3d\",\"xaxis\":\"x\",\"z\":[-12.374368670764577,-12.374368670764577],\"x\":[-10.960155108391488,-10.960155108391488],\"line\":{\"width\":1,\"dash\":\"solid\",\"color\":\"rgba(0, 0, 255, 1.000)\",\"shape\":\"linear\"},\"mode\":\"lines\"},{\"yaxis\":\"y\",\"y\":[-10.0,10.0],\"showlegend\":true,\"name\":\"122\",\"type\":\"scatter3d\",\"xaxis\":\"x\",\"z\":[-10.960155108391481,-10.960155108391481],\"x\":[-12.374368670764584,-12.374368670764584],\"line\":{\"width\":1,\"dash\":\"solid\",\"color\":\"rgba(0, 0, 255, 1.000)\",\"shape\":\"linear\"},\"mode\":\"lines\"},{\"yaxis\":\"y\",\"y\":[8.5,8.5,11.5,11.5,8.5,8.5,8.5,11.5,11.5,8.5],\"showlegend\":true,\"name\":\"123\",\"type\":\"scatter3d\",\"xaxis\":\"x\",\"z\":[-9.89949493661166,-11.313708498984756,-11.313708498984756,-9.89949493661166,-9.89949493661166,-2.828427124746188,-4.242640687119284,-4.242640687119284,-2.828427124746188,-2.828427124746188],\"x\":[-11.313708498984763,-9.899494936611667,-9.899494936611667,-11.313708498984763,-11.313708498984763,-4.2426406871192865,-2.8284271247461916,-2.8284271247461916,-4.2426406871192865,-4.2426406871192865],\"line\":{\"width\":1,\"dash\":\"solid\",\"color\":\"rgba(0, 0, 255, 1.000)\",\"shape\":\"linear\"},\"mode\":\"lines\"},{\"yaxis\":\"y\",\"y\":[8.5,8.5],\"showlegend\":true,\"name\":\"124\",\"type\":\"scatter3d\",\"xaxis\":\"x\",\"z\":[-11.313708498984756,-4.242640687119284],\"x\":[-9.899494936611667,-2.8284271247461916],\"line\":{\"width\":1,\"dash\":\"solid\",\"color\":\"rgba(0, 0, 255, 1.000)\",\"shape\":\"linear\"},\"mode\":\"lines\"},{\"yaxis\":\"y\",\"y\":[11.5,11.5],\"showlegend\":true,\"name\":\"125\",\"type\":\"scatter3d\",\"xaxis\":\"x\",\"z\":[-11.313708498984756,-4.242640687119284],\"x\":[-9.899494936611667,-2.8284271247461916],\"line\":{\"width\":1,\"dash\":\"solid\",\"color\":\"rgba(0, 0, 255, 1.000)\",\"shape\":\"linear\"},\"mode\":\"lines\"},{\"yaxis\":\"y\",\"y\":[11.5,11.5],\"showlegend\":true,\"name\":\"126\",\"type\":\"scatter3d\",\"xaxis\":\"x\",\"z\":[-9.89949493661166,-2.828427124746188],\"x\":[-11.313708498984763,-4.2426406871192865],\"line\":{\"width\":1,\"dash\":\"solid\",\"color\":\"rgba(0, 0, 255, 1.000)\",\"shape\":\"linear\"},\"mode\":\"lines\"},{\"yaxis\":\"y\",\"y\":[10.0,10.0,10.0,10.0,10.0,1.0,1.0,1.0,1.0,1.0],\"showlegend\":true,\"name\":\"127\",\"type\":\"scatter3d\",\"xaxis\":\"x\",\"z\":[-3.889087296526009,-5.303300858899105,-3.181980515339463,-1.767766952966367,-3.889087296526009,-3.889087296526009,-5.303300858899105,-3.181980515339463,-1.767766952966367,-3.889087296526009],\"x\":[-5.3033008588991075,-3.8890872965260135,-1.7677669529663704,-3.1819805153394647,-5.3033008588991075,-5.3033008588991075,-3.8890872965260135,-1.7677669529663704,-3.1819805153394647,-5.3033008588991075],\"line\":{\"width\":1,\"dash\":\"solid\",\"color\":\"rgba(0, 0, 255, 1.000)\",\"shape\":\"linear\"},\"mode\":\"lines\"},{\"yaxis\":\"y\",\"y\":[10.0,1.0],\"showlegend\":true,\"name\":\"128\",\"type\":\"scatter3d\",\"xaxis\":\"x\",\"z\":[-5.303300858899105,-5.303300858899105],\"x\":[-3.8890872965260135,-3.8890872965260135],\"line\":{\"width\":1,\"dash\":\"solid\",\"color\":\"rgba(0, 0, 255, 1.000)\",\"shape\":\"linear\"},\"mode\":\"lines\"},{\"yaxis\":\"y\",\"y\":[10.0,1.0],\"showlegend\":true,\"name\":\"129\",\"type\":\"scatter3d\",\"xaxis\":\"x\",\"z\":[-3.181980515339463,-3.181980515339463],\"x\":[-1.7677669529663704,-1.7677669529663704],\"line\":{\"width\":1,\"dash\":\"solid\",\"color\":\"rgba(0, 0, 255, 1.000)\",\"shape\":\"linear\"},\"mode\":\"lines\"},{\"yaxis\":\"y\",\"y\":[10.0,1.0],\"showlegend\":true,\"name\":\"130\",\"type\":\"scatter3d\",\"xaxis\":\"x\",\"z\":[-1.767766952966367,-1.767766952966367],\"x\":[-3.1819805153394647,-3.1819805153394647],\"line\":{\"width\":1,\"dash\":\"solid\",\"color\":\"rgba(0, 0, 255, 1.000)\",\"shape\":\"linear\"},\"mode\":\"lines\"},{\"yaxis\":\"y\",\"showlegend\":true,\"type\":\"scatter3d\",\"xaxis\":\"x\",\"name\":\"131\",\"z\":[-5.0],\"marker\":{\"symbol\":\"circle\",\"line\":{\"width\":0.1,\"color\":\"rgba(0, 0, 0, 0.300)\"},\"size\":6.0,\"color\":\"rgba(255, 0, 0, 0.300)\"},\"y\":[-1.0],\"line\":{\"width\":1,\"dash\":\"solid\",\"color\":\"rgba(0, 0, 255, 1.000)\",\"shape\":\"linear\"},\"mode\":\"lines+markers\",\"x\":[-2.717578901219244e-15]},{\"yaxis\":\"y\",\"showlegend\":true,\"type\":\"scatter3d\",\"xaxis\":\"x\",\"name\":\"132\",\"z\":[-5.0],\"marker\":{\"symbol\":\"circle\",\"line\":{\"width\":0.1,\"color\":\"rgba(0, 0, 0, 0.300)\"},\"size\":6.0,\"color\":\"rgba(255, 0, 0, 0.300)\"},\"y\":[-10.0],\"line\":{\"width\":1,\"dash\":\"solid\",\"color\":\"rgba(0, 0, 255, 1.000)\",\"shape\":\"linear\"},\"mode\":\"lines+markers\",\"x\":[-2.717578901219244e-15]},{\"yaxis\":\"y\",\"showlegend\":true,\"type\":\"scatter3d\",\"xaxis\":\"x\",\"name\":\"133\",\"z\":[-14.999999999999998],\"marker\":{\"symbol\":\"circle\",\"line\":{\"width\":0.1,\"color\":\"rgba(0, 0, 0, 0.300)\"},\"size\":6.0,\"color\":\"rgba(255, 0, 0, 0.300)\"},\"y\":[-10.0],\"line\":{\"width\":1,\"dash\":\"solid\",\"color\":\"rgba(0, 0, 255, 1.000)\",\"shape\":\"linear\"},\"mode\":\"lines+markers\",\"x\":[-5.9322906544074194e-15]},{\"yaxis\":\"y\",\"showlegend\":true,\"type\":\"scatter3d\",\"xaxis\":\"x\",\"name\":\"134\",\"z\":[-14.999999999999998],\"marker\":{\"symbol\":\"circle\",\"line\":{\"width\":0.1,\"color\":\"rgba(0, 0, 0, 0.300)\"},\"size\":6.0,\"color\":\"rgba(255, 0, 0, 0.300)\"},\"y\":[10.0],\"line\":{\"width\":1,\"dash\":\"solid\",\"color\":\"rgba(0, 0, 255, 1.000)\",\"shape\":\"linear\"},\"mode\":\"lines+markers\",\"x\":[-5.9322906544074194e-15]},{\"yaxis\":\"y\",\"showlegend\":true,\"type\":\"scatter3d\",\"xaxis\":\"x\",\"name\":\"135\",\"z\":[-5.0],\"marker\":{\"symbol\":\"circle\",\"line\":{\"width\":0.1,\"color\":\"rgba(0, 0, 0, 0.300)\"},\"size\":6.0,\"color\":\"rgba(255, 0, 0, 0.300)\"},\"y\":[10.0],\"line\":{\"width\":1,\"dash\":\"solid\",\"color\":\"rgba(0, 0, 255, 1.000)\",\"shape\":\"linear\"},\"mode\":\"lines+markers\",\"x\":[-2.717578901219244e-15]},{\"yaxis\":\"y\",\"showlegend\":true,\"type\":\"scatter3d\",\"xaxis\":\"x\",\"name\":\"136\",\"z\":[-5.0],\"marker\":{\"symbol\":\"circle\",\"line\":{\"width\":0.1,\"color\":\"rgba(0, 0, 0, 0.300)\"},\"size\":6.0,\"color\":\"rgba(255, 0, 0, 0.300)\"},\"y\":[1.0],\"line\":{\"width\":1,\"dash\":\"solid\",\"color\":\"rgba(0, 0, 255, 1.000)\",\"shape\":\"linear\"},\"mode\":\"lines+markers\",\"x\":[-2.717578901219244e-15]},{\"yaxis\":\"y\",\"y\":[-1.0,-1.0,-1.0,-1.0,-1.0,-10.0,-10.0,-10.0,-10.0,-10.0],\"showlegend\":true,\"name\":\"137\",\"type\":\"scatter3d\",\"xaxis\":\"x\",\"z\":[-6.5,-6.5,-3.5000000000000004,-3.4999999999999996,-6.5,-6.5,-6.5,-3.5000000000000004,-3.4999999999999996,-6.5],\"x\":[-1.0000000000000033,0.9999999999999967,0.999999999999998,-1.000000000000002,-1.0000000000000033,-1.0000000000000033,0.9999999999999967,0.999999999999998,-1.000000000000002,-1.0000000000000033],\"line\":{\"width\":1,\"dash\":\"solid\",\"color\":\"rgba(0, 0, 255, 1.000)\",\"shape\":\"linear\"},\"mode\":\"lines\"},{\"yaxis\":\"y\",\"y\":[-1.0,-10.0],\"showlegend\":true,\"name\":\"138\",\"type\":\"scatter3d\",\"xaxis\":\"x\",\"z\":[-6.5,-6.5],\"x\":[0.9999999999999967,0.9999999999999967],\"line\":{\"width\":1,\"dash\":\"solid\",\"color\":\"rgba(0, 0, 255, 1.000)\",\"shape\":\"linear\"},\"mode\":\"lines\"},{\"yaxis\":\"y\",\"y\":[-1.0,-10.0],\"showlegend\":true,\"name\":\"139\",\"type\":\"scatter3d\",\"xaxis\":\"x\",\"z\":[-3.5000000000000004,-3.5000000000000004],\"x\":[0.999999999999998,0.999999999999998],\"line\":{\"width\":1,\"dash\":\"solid\",\"color\":\"rgba(0, 0, 255, 1.000)\",\"shape\":\"linear\"},\"mode\":\"lines\"},{\"yaxis\":\"y\",\"y\":[-1.0,-10.0],\"showlegend\":true,\"name\":\"140\",\"type\":\"scatter3d\",\"xaxis\":\"x\",\"z\":[-3.4999999999999996,-3.4999999999999996],\"x\":[-1.000000000000002,-1.000000000000002],\"line\":{\"width\":1,\"dash\":\"solid\",\"color\":\"rgba(0, 0, 255, 1.000)\",\"shape\":\"linear\"},\"mode\":\"lines\"},{\"yaxis\":\"y\",\"y\":[-8.5,-8.5,-11.5,-11.5,-8.5,-8.5,-8.5,-11.5,-11.5,-8.5],\"showlegend\":true,\"name\":\"141\",\"type\":\"scatter3d\",\"xaxis\":\"x\",\"z\":[-5.0,-5.0,-5.0,-5.0,-5.0,-14.999999999999998,-14.999999999999998,-14.999999999999998,-14.999999999999998,-14.999999999999998],\"x\":[-1.0000000000000027,0.9999999999999973,0.9999999999999973,-1.0000000000000027,-1.0000000000000027,-1.000000000000006,0.9999999999999941,0.9999999999999941,-1.000000000000006,-1.000000000000006],\"line\":{\"width\":1,\"dash\":\"solid\",\"color\":\"rgba(0, 0, 255, 1.000)\",\"shape\":\"linear\"},\"mode\":\"lines\"},{\"yaxis\":\"y\",\"y\":[-8.5,-8.5],\"showlegend\":true,\"name\":\"142\",\"type\":\"scatter3d\",\"xaxis\":\"x\",\"z\":[-5.0,-14.999999999999998],\"x\":[0.9999999999999973,0.9999999999999941],\"line\":{\"width\":1,\"dash\":\"solid\",\"color\":\"rgba(0, 0, 255, 1.000)\",\"shape\":\"linear\"},\"mode\":\"lines\"},{\"yaxis\":\"y\",\"y\":[-11.5,-11.5],\"showlegend\":true,\"name\":\"143\",\"type\":\"scatter3d\",\"xaxis\":\"x\",\"z\":[-5.0,-14.999999999999998],\"x\":[0.9999999999999973,0.9999999999999941],\"line\":{\"width\":1,\"dash\":\"solid\",\"color\":\"rgba(0, 0, 255, 1.000)\",\"shape\":\"linear\"},\"mode\":\"lines\"},{\"yaxis\":\"y\",\"y\":[-11.5,-11.5],\"showlegend\":true,\"name\":\"144\",\"type\":\"scatter3d\",\"xaxis\":\"x\",\"z\":[-5.0,-14.999999999999998],\"x\":[-1.0000000000000027,-1.000000000000006],\"line\":{\"width\":1,\"dash\":\"solid\",\"color\":\"rgba(0, 0, 255, 1.000)\",\"shape\":\"linear\"},\"mode\":\"lines\"},{\"yaxis\":\"y\",\"y\":[-10.0,-10.0,-10.0,-10.0,-10.0,10.0,10.0,10.0,10.0,10.0],\"showlegend\":true,\"name\":\"145\",\"type\":\"scatter3d\",\"xaxis\":\"x\",\"z\":[-13.499999999999998,-13.499999999999998,-16.5,-16.5,-13.499999999999998,-13.499999999999998,-13.499999999999998,-16.5,-16.5,-13.499999999999998],\"x\":[-1.0000000000000053,0.9999999999999948,0.9999999999999934,-1.0000000000000067,-1.0000000000000053,-1.0000000000000053,0.9999999999999948,0.9999999999999934,-1.0000000000000067,-1.0000000000000053],\"line\":{\"width\":1,\"dash\":\"solid\",\"color\":\"rgba(0, 0, 255, 1.000)\",\"shape\":\"linear\"},\"mode\":\"lines\"},{\"yaxis\":\"y\",\"y\":[-10.0,10.0],\"showlegend\":true,\"name\":\"146\",\"type\":\"scatter3d\",\"xaxis\":\"x\",\"z\":[-13.499999999999998,-13.499999999999998],\"x\":[0.9999999999999948,0.9999999999999948],\"line\":{\"width\":1,\"dash\":\"solid\",\"color\":\"rgba(0, 0, 255, 1.000)\",\"shape\":\"linear\"},\"mode\":\"lines\"},{\"yaxis\":\"y\",\"y\":[-10.0,10.0],\"showlegend\":true,\"name\":\"147\",\"type\":\"scatter3d\",\"xaxis\":\"x\",\"z\":[-16.5,-16.5],\"x\":[0.9999999999999934,0.9999999999999934],\"line\":{\"width\":1,\"dash\":\"solid\",\"color\":\"rgba(0, 0, 255, 1.000)\",\"shape\":\"linear\"},\"mode\":\"lines\"},{\"yaxis\":\"y\",\"y\":[-10.0,10.0],\"showlegend\":true,\"name\":\"148\",\"type\":\"scatter3d\",\"xaxis\":\"x\",\"z\":[-16.5,-16.5],\"x\":[-1.0000000000000067,-1.0000000000000067],\"line\":{\"width\":1,\"dash\":\"solid\",\"color\":\"rgba(0, 0, 255, 1.000)\",\"shape\":\"linear\"},\"mode\":\"lines\"},{\"yaxis\":\"y\",\"y\":[8.5,8.5,11.5,11.5,8.5,8.5,8.5,11.5,11.5,8.5],\"showlegend\":true,\"name\":\"149\",\"type\":\"scatter3d\",\"xaxis\":\"x\",\"z\":[-14.999999999999998,-14.999999999999998,-14.999999999999998,-14.999999999999998,-14.999999999999998,-5.0,-5.0,-5.0,-5.0,-5.0],\"x\":[-1.000000000000006,0.9999999999999941,0.9999999999999941,-1.000000000000006,-1.000000000000006,-1.0000000000000027,0.9999999999999973,0.9999999999999973,-1.0000000000000027,-1.0000000000000027],\"line\":{\"width\":1,\"dash\":\"solid\",\"color\":\"rgba(0, 0, 255, 1.000)\",\"shape\":\"linear\"},\"mode\":\"lines\"},{\"yaxis\":\"y\",\"y\":[8.5,8.5],\"showlegend\":true,\"name\":\"150\",\"type\":\"scatter3d\",\"xaxis\":\"x\",\"z\":[-14.999999999999998,-5.0],\"x\":[0.9999999999999941,0.9999999999999973],\"line\":{\"width\":1,\"dash\":\"solid\",\"color\":\"rgba(0, 0, 255, 1.000)\",\"shape\":\"linear\"},\"mode\":\"lines\"},{\"yaxis\":\"y\",\"y\":[11.5,11.5],\"showlegend\":true,\"name\":\"151\",\"type\":\"scatter3d\",\"xaxis\":\"x\",\"z\":[-14.999999999999998,-5.0],\"x\":[0.9999999999999941,0.9999999999999973],\"line\":{\"width\":1,\"dash\":\"solid\",\"color\":\"rgba(0, 0, 255, 1.000)\",\"shape\":\"linear\"},\"mode\":\"lines\"},{\"yaxis\":\"y\",\"y\":[11.5,11.5],\"showlegend\":true,\"name\":\"152\",\"type\":\"scatter3d\",\"xaxis\":\"x\",\"z\":[-14.999999999999998,-5.0],\"x\":[-1.000000000000006,-1.0000000000000027],\"line\":{\"width\":1,\"dash\":\"solid\",\"color\":\"rgba(0, 0, 255, 1.000)\",\"shape\":\"linear\"},\"mode\":\"lines\"},{\"yaxis\":\"y\",\"y\":[10.0,10.0,10.0,10.0,10.0,1.0,1.0,1.0,1.0,1.0],\"showlegend\":true,\"name\":\"153\",\"type\":\"scatter3d\",\"xaxis\":\"x\",\"z\":[-6.5,-6.5,-3.5000000000000004,-3.4999999999999996,-6.5,-6.5,-6.5,-3.5000000000000004,-3.4999999999999996,-6.5],\"x\":[-1.0000000000000033,0.9999999999999967,0.999999999999998,-1.000000000000002,-1.0000000000000033,-1.0000000000000033,0.9999999999999967,0.999999999999998,-1.000000000000002,-1.0000000000000033],\"line\":{\"width\":1,\"dash\":\"solid\",\"color\":\"rgba(0, 0, 255, 1.000)\",\"shape\":\"linear\"},\"mode\":\"lines\"},{\"yaxis\":\"y\",\"y\":[10.0,1.0],\"showlegend\":true,\"name\":\"154\",\"type\":\"scatter3d\",\"xaxis\":\"x\",\"z\":[-6.5,-6.5],\"x\":[0.9999999999999967,0.9999999999999967],\"line\":{\"width\":1,\"dash\":\"solid\",\"color\":\"rgba(0, 0, 255, 1.000)\",\"shape\":\"linear\"},\"mode\":\"lines\"},{\"yaxis\":\"y\",\"y\":[10.0,1.0],\"showlegend\":true,\"name\":\"155\",\"type\":\"scatter3d\",\"xaxis\":\"x\",\"z\":[-3.5000000000000004,-3.5000000000000004],\"x\":[0.999999999999998,0.999999999999998],\"line\":{\"width\":1,\"dash\":\"solid\",\"color\":\"rgba(0, 0, 255, 1.000)\",\"shape\":\"linear\"},\"mode\":\"lines\"},{\"yaxis\":\"y\",\"y\":[10.0,1.0],\"showlegend\":true,\"name\":\"156\",\"type\":\"scatter3d\",\"xaxis\":\"x\",\"z\":[-3.4999999999999996,-3.4999999999999996],\"x\":[-1.000000000000002,-1.000000000000002],\"line\":{\"width\":1,\"dash\":\"solid\",\"color\":\"rgba(0, 0, 255, 1.000)\",\"shape\":\"linear\"},\"mode\":\"lines\"},{\"yaxis\":\"y\",\"showlegend\":true,\"type\":\"scatter3d\",\"xaxis\":\"x\",\"name\":\"157\",\"z\":[-3.53553390593274],\"marker\":{\"symbol\":\"circle\",\"line\":{\"width\":0.1,\"color\":\"rgba(0, 0, 0, 0.300)\"},\"size\":6.0,\"color\":\"rgba(255, 0, 0, 0.300)\"},\"y\":[-1.0],\"line\":{\"width\":1,\"dash\":\"solid\",\"color\":\"rgba(0, 0, 255, 1.000)\",\"shape\":\"linear\"},\"mode\":\"lines+markers\",\"x\":[3.5355339059327355]},{\"yaxis\":\"y\",\"showlegend\":true,\"type\":\"scatter3d\",\"xaxis\":\"x\",\"name\":\"158\",\"z\":[-3.53553390593274],\"marker\":{\"symbol\":\"circle\",\"line\":{\"width\":0.1,\"color\":\"rgba(0, 0, 0, 0.300)\"},\"size\":6.0,\"color\":\"rgba(255, 0, 0, 0.300)\"},\"y\":[-10.0],\"line\":{\"width\":1,\"dash\":\"solid\",\"color\":\"rgba(0, 0, 255, 1.000)\",\"shape\":\"linear\"},\"mode\":\"lines+markers\",\"x\":[3.5355339059327355]},{\"yaxis\":\"y\",\"showlegend\":true,\"type\":\"scatter3d\",\"xaxis\":\"x\",\"name\":\"159\",\"z\":[-10.606601717798217],\"marker\":{\"symbol\":\"circle\",\"line\":{\"width\":0.1,\"color\":\"rgba(0, 0, 0, 0.300)\"},\"size\":6.0,\"color\":\"rgba(255, 0, 0, 0.300)\"},\"y\":[-10.0],\"line\":{\"width\":1,\"dash\":\"solid\",\"color\":\"rgba(0, 0, 255, 1.000)\",\"shape\":\"linear\"},\"mode\":\"lines+markers\",\"x\":[10.606601717798206]},{\"yaxis\":\"y\",\"showlegend\":true,\"type\":\"scatter3d\",\"xaxis\":\"x\",\"name\":\"160\",\"z\":[-10.606601717798217],\"marker\":{\"symbol\":\"circle\",\"line\":{\"width\":0.1,\"color\":\"rgba(0, 0, 0, 0.300)\"},\"size\":6.0,\"color\":\"rgba(255, 0, 0, 0.300)\"},\"y\":[10.0],\"line\":{\"width\":1,\"dash\":\"solid\",\"color\":\"rgba(0, 0, 255, 1.000)\",\"shape\":\"linear\"},\"mode\":\"lines+markers\",\"x\":[10.606601717798206]},{\"yaxis\":\"y\",\"showlegend\":true,\"type\":\"scatter3d\",\"xaxis\":\"x\",\"name\":\"161\",\"z\":[-3.53553390593274],\"marker\":{\"symbol\":\"circle\",\"line\":{\"width\":0.1,\"color\":\"rgba(0, 0, 0, 0.300)\"},\"size\":6.0,\"color\":\"rgba(255, 0, 0, 0.300)\"},\"y\":[10.0],\"line\":{\"width\":1,\"dash\":\"solid\",\"color\":\"rgba(0, 0, 255, 1.000)\",\"shape\":\"linear\"},\"mode\":\"lines+markers\",\"x\":[3.5355339059327355]},{\"yaxis\":\"y\",\"showlegend\":true,\"type\":\"scatter3d\",\"xaxis\":\"x\",\"name\":\"162\",\"z\":[-3.53553390593274],\"marker\":{\"symbol\":\"circle\",\"line\":{\"width\":0.1,\"color\":\"rgba(0, 0, 0, 0.300)\"},\"size\":6.0,\"color\":\"rgba(255, 0, 0, 0.300)\"},\"y\":[1.0],\"line\":{\"width\":1,\"dash\":\"solid\",\"color\":\"rgba(0, 0, 255, 1.000)\",\"shape\":\"linear\"},\"mode\":\"lines+markers\",\"x\":[3.5355339059327355]},{\"yaxis\":\"y\",\"y\":[-1.0,-1.0,-1.0,-1.0,-1.0,-10.0,-10.0,-10.0,-10.0,-10.0],\"showlegend\":true,\"name\":\"163\",\"type\":\"scatter3d\",\"xaxis\":\"x\",\"z\":[-5.303300858899109,-3.8890872965260153,-1.767766952966371,-3.181980515339465,-5.303300858899109,-5.303300858899109,-3.8890872965260153,-1.767766952966371,-3.181980515339465,-5.303300858899109],\"x\":[3.889087296526008,5.303300858899104,3.181980515339463,1.767766952966367,3.889087296526008,3.889087296526008,5.303300858899104,3.181980515339463,1.767766952966367,3.889087296526008],\"line\":{\"width\":1,\"dash\":\"solid\",\"color\":\"rgba(0, 0, 255, 1.000)\",\"shape\":\"linear\"},\"mode\":\"lines\"},{\"yaxis\":\"y\",\"y\":[-1.0,-10.0],\"showlegend\":true,\"name\":\"164\",\"type\":\"scatter3d\",\"xaxis\":\"x\",\"z\":[-3.8890872965260153,-3.8890872965260153],\"x\":[5.303300858899104,5.303300858899104],\"line\":{\"width\":1,\"dash\":\"solid\",\"color\":\"rgba(0, 0, 255, 1.000)\",\"shape\":\"linear\"},\"mode\":\"lines\"},{\"yaxis\":\"y\",\"y\":[-1.0,-10.0],\"showlegend\":true,\"name\":\"165\",\"type\":\"scatter3d\",\"xaxis\":\"x\",\"z\":[-1.767766952966371,-1.767766952966371],\"x\":[3.181980515339463,3.181980515339463],\"line\":{\"width\":1,\"dash\":\"solid\",\"color\":\"rgba(0, 0, 255, 1.000)\",\"shape\":\"linear\"},\"mode\":\"lines\"},{\"yaxis\":\"y\",\"y\":[-1.0,-10.0],\"showlegend\":true,\"name\":\"166\",\"type\":\"scatter3d\",\"xaxis\":\"x\",\"z\":[-3.181980515339465,-3.181980515339465],\"x\":[1.767766952966367,1.767766952966367],\"line\":{\"width\":1,\"dash\":\"solid\",\"color\":\"rgba(0, 0, 255, 1.000)\",\"shape\":\"linear\"},\"mode\":\"lines\"},{\"yaxis\":\"y\",\"y\":[-8.5,-8.5,-11.5,-11.5,-8.5,-8.5,-8.5,-11.5,-11.5,-8.5],\"showlegend\":true,\"name\":\"167\",\"type\":\"scatter3d\",\"xaxis\":\"x\",\"z\":[-4.242640687119287,-2.828427124746193,-2.828427124746193,-4.242640687119287,-4.242640687119287,-11.313708498984765,-9.899494936611669,-9.899494936611669,-11.313708498984765,-11.313708498984765],\"x\":[2.8284271247461876,4.242640687119284,4.242640687119284,2.8284271247461876,2.8284271247461876,9.899494936611658,11.313708498984754,11.313708498984754,9.899494936611658,9.899494936611658],\"line\":{\"width\":1,\"dash\":\"solid\",\"color\":\"rgba(0, 0, 255, 1.000)\",\"shape\":\"linear\"},\"mode\":\"lines\"},{\"yaxis\":\"y\",\"y\":[-8.5,-8.5],\"showlegend\":true,\"name\":\"168\",\"type\":\"scatter3d\",\"xaxis\":\"x\",\"z\":[-2.828427124746193,-9.899494936611669],\"x\":[4.242640687119284,11.313708498984754],\"line\":{\"width\":1,\"dash\":\"solid\",\"color\":\"rgba(0, 0, 255, 1.000)\",\"shape\":\"linear\"},\"mode\":\"lines\"},{\"yaxis\":\"y\",\"y\":[-11.5,-11.5],\"showlegend\":true,\"name\":\"169\",\"type\":\"scatter3d\",\"xaxis\":\"x\",\"z\":[-2.828427124746193,-9.899494936611669],\"x\":[4.242640687119284,11.313708498984754],\"line\":{\"width\":1,\"dash\":\"solid\",\"color\":\"rgba(0, 0, 255, 1.000)\",\"shape\":\"linear\"},\"mode\":\"lines\"},{\"yaxis\":\"y\",\"y\":[-11.5,-11.5],\"showlegend\":true,\"name\":\"170\",\"type\":\"scatter3d\",\"xaxis\":\"x\",\"z\":[-4.242640687119287,-11.313708498984765],\"x\":[2.8284271247461876,9.899494936611658],\"line\":{\"width\":1,\"dash\":\"solid\",\"color\":\"rgba(0, 0, 255, 1.000)\",\"shape\":\"linear\"},\"mode\":\"lines\"},{\"yaxis\":\"y\",\"y\":[-10.0,-10.0,-10.0,-10.0,-10.0,10.0,10.0,10.0,10.0,10.0],\"showlegend\":true,\"name\":\"171\",\"type\":\"scatter3d\",\"xaxis\":\"x\",\"z\":[-10.253048327204942,-8.838834764831846,-10.960155108391492,-12.374368670764587,-10.253048327204942,-10.253048327204942,-8.838834764831846,-10.960155108391492,-12.374368670764587,-10.253048327204942],\"x\":[8.838834764831837,10.253048327204933,12.374368670764575,10.96015510839148,8.838834764831837,8.838834764831837,10.253048327204933,12.374368670764575,10.96015510839148,8.838834764831837],\"line\":{\"width\":1,\"dash\":\"solid\",\"color\":\"rgba(0, 0, 255, 1.000)\",\"shape\":\"linear\"},\"mode\":\"lines\"},{\"yaxis\":\"y\",\"y\":[-10.0,10.0],\"showlegend\":true,\"name\":\"172\",\"type\":\"scatter3d\",\"xaxis\":\"x\",\"z\":[-8.838834764831846,-8.838834764831846],\"x\":[10.253048327204933,10.253048327204933],\"line\":{\"width\":1,\"dash\":\"solid\",\"color\":\"rgba(0, 0, 255, 1.000)\",\"shape\":\"linear\"},\"mode\":\"lines\"},{\"yaxis\":\"y\",\"y\":[-10.0,10.0],\"showlegend\":true,\"name\":\"173\",\"type\":\"scatter3d\",\"xaxis\":\"x\",\"z\":[-10.960155108391492,-10.960155108391492],\"x\":[12.374368670764575,12.374368670764575],\"line\":{\"width\":1,\"dash\":\"solid\",\"color\":\"rgba(0, 0, 255, 1.000)\",\"shape\":\"linear\"},\"mode\":\"lines\"},{\"yaxis\":\"y\",\"y\":[-10.0,10.0],\"showlegend\":true,\"name\":\"174\",\"type\":\"scatter3d\",\"xaxis\":\"x\",\"z\":[-12.374368670764587,-12.374368670764587],\"x\":[10.96015510839148,10.96015510839148],\"line\":{\"width\":1,\"dash\":\"solid\",\"color\":\"rgba(0, 0, 255, 1.000)\",\"shape\":\"linear\"},\"mode\":\"lines\"},{\"yaxis\":\"y\",\"y\":[8.5,8.5,11.5,11.5,8.5,8.5,8.5,11.5,11.5,8.5],\"showlegend\":true,\"name\":\"175\",\"type\":\"scatter3d\",\"xaxis\":\"x\",\"z\":[-11.313708498984765,-9.899494936611669,-9.899494936611669,-11.313708498984765,-11.313708498984765,-4.242640687119287,-2.828427124746193,-2.828427124746193,-4.242640687119287,-4.242640687119287],\"x\":[9.899494936611658,11.313708498984754,11.313708498984754,9.899494936611658,9.899494936611658,2.8284271247461876,4.242640687119284,4.242640687119284,2.8284271247461876,2.8284271247461876],\"line\":{\"width\":1,\"dash\":\"solid\",\"color\":\"rgba(0, 0, 255, 1.000)\",\"shape\":\"linear\"},\"mode\":\"lines\"},{\"yaxis\":\"y\",\"y\":[8.5,8.5],\"showlegend\":true,\"name\":\"176\",\"type\":\"scatter3d\",\"xaxis\":\"x\",\"z\":[-9.899494936611669,-2.828427124746193],\"x\":[11.313708498984754,4.242640687119284],\"line\":{\"width\":1,\"dash\":\"solid\",\"color\":\"rgba(0, 0, 255, 1.000)\",\"shape\":\"linear\"},\"mode\":\"lines\"},{\"yaxis\":\"y\",\"y\":[11.5,11.5],\"showlegend\":true,\"name\":\"177\",\"type\":\"scatter3d\",\"xaxis\":\"x\",\"z\":[-9.899494936611669,-2.828427124746193],\"x\":[11.313708498984754,4.242640687119284],\"line\":{\"width\":1,\"dash\":\"solid\",\"color\":\"rgba(0, 0, 255, 1.000)\",\"shape\":\"linear\"},\"mode\":\"lines\"},{\"yaxis\":\"y\",\"y\":[11.5,11.5],\"showlegend\":true,\"name\":\"178\",\"type\":\"scatter3d\",\"xaxis\":\"x\",\"z\":[-11.313708498984765,-4.242640687119287],\"x\":[9.899494936611658,2.8284271247461876],\"line\":{\"width\":1,\"dash\":\"solid\",\"color\":\"rgba(0, 0, 255, 1.000)\",\"shape\":\"linear\"},\"mode\":\"lines\"},{\"yaxis\":\"y\",\"y\":[10.0,10.0,10.0,10.0,10.0,1.0,1.0,1.0,1.0,1.0],\"showlegend\":true,\"name\":\"179\",\"type\":\"scatter3d\",\"xaxis\":\"x\",\"z\":[-5.303300858899109,-3.8890872965260153,-1.767766952966371,-3.181980515339465,-5.303300858899109,-5.303300858899109,-3.8890872965260153,-1.767766952966371,-3.181980515339465,-5.303300858899109],\"x\":[3.889087296526008,5.303300858899104,3.181980515339463,1.767766952966367,3.889087296526008,3.889087296526008,5.303300858899104,3.181980515339463,1.767766952966367,3.889087296526008],\"line\":{\"width\":1,\"dash\":\"solid\",\"color\":\"rgba(0, 0, 255, 1.000)\",\"shape\":\"linear\"},\"mode\":\"lines\"},{\"yaxis\":\"y\",\"y\":[10.0,1.0],\"showlegend\":true,\"name\":\"180\",\"type\":\"scatter3d\",\"xaxis\":\"x\",\"z\":[-3.8890872965260153,-3.8890872965260153],\"x\":[5.303300858899104,5.303300858899104],\"line\":{\"width\":1,\"dash\":\"solid\",\"color\":\"rgba(0, 0, 255, 1.000)\",\"shape\":\"linear\"},\"mode\":\"lines\"},{\"yaxis\":\"y\",\"y\":[10.0,1.0],\"showlegend\":true,\"name\":\"181\",\"type\":\"scatter3d\",\"xaxis\":\"x\",\"z\":[-1.767766952966371,-1.767766952966371],\"x\":[3.181980515339463,3.181980515339463],\"line\":{\"width\":1,\"dash\":\"solid\",\"color\":\"rgba(0, 0, 255, 1.000)\",\"shape\":\"linear\"},\"mode\":\"lines\"},{\"yaxis\":\"y\",\"y\":[10.0,1.0],\"showlegend\":true,\"name\":\"182\",\"type\":\"scatter3d\",\"xaxis\":\"x\",\"z\":[-3.181980515339465,-3.181980515339465],\"x\":[1.767766952966367,1.767766952966367],\"line\":{\"width\":1,\"dash\":\"solid\",\"color\":\"rgba(0, 0, 255, 1.000)\",\"shape\":\"linear\"},\"mode\":\"lines\"},{\"yaxis\":\"y\",\"showlegend\":true,\"type\":\"scatter3d\",\"xaxis\":\"x\",\"name\":\"183\",\"z\":[-3.609735108032933e-15],\"marker\":{\"symbol\":\"circle\",\"line\":{\"width\":0.1,\"color\":\"rgba(0, 0, 0, 0.300)\"},\"size\":6.0,\"color\":\"rgba(255, 0, 0, 0.300)\"},\"y\":[-1.0],\"line\":{\"width\":1,\"dash\":\"solid\",\"color\":\"rgba(0, 0, 255, 1.000)\",\"shape\":\"linear\"},\"mode\":\"lines+markers\",\"x\":[5.0]},{\"yaxis\":\"y\",\"showlegend\":true,\"type\":\"scatter3d\",\"xaxis\":\"x\",\"name\":\"184\",\"z\":[-3.609735108032933e-15],\"marker\":{\"symbol\":\"circle\",\"line\":{\"width\":0.1,\"color\":\"rgba(0, 0, 0, 0.300)\"},\"size\":6.0,\"color\":\"rgba(255, 0, 0, 0.300)\"},\"y\":[-10.0],\"line\":{\"width\":1,\"dash\":\"solid\",\"color\":\"rgba(0, 0, 255, 1.000)\",\"shape\":\"linear\"},\"mode\":\"lines+markers\",\"x\":[5.0]},{\"yaxis\":\"y\",\"showlegend\":true,\"type\":\"scatter3d\",\"xaxis\":\"x\",\"name\":\"185\",\"z\":[-8.631075881941513e-15],\"marker\":{\"symbol\":\"circle\",\"line\":{\"width\":0.1,\"color\":\"rgba(0, 0, 0, 0.300)\"},\"size\":6.0,\"color\":\"rgba(255, 0, 0, 0.300)\"},\"y\":[-10.0],\"line\":{\"width\":1,\"dash\":\"solid\",\"color\":\"rgba(0, 0, 255, 1.000)\",\"shape\":\"linear\"},\"mode\":\"lines+markers\",\"x\":[14.999999999999998]},{\"yaxis\":\"y\",\"showlegend\":true,\"type\":\"scatter3d\",\"xaxis\":\"x\",\"name\":\"186\",\"z\":[-8.631075881941513e-15],\"marker\":{\"symbol\":\"circle\",\"line\":{\"width\":0.1,\"color\":\"rgba(0, 0, 0, 0.300)\"},\"size\":6.0,\"color\":\"rgba(255, 0, 0, 0.300)\"},\"y\":[10.0],\"line\":{\"width\":1,\"dash\":\"solid\",\"color\":\"rgba(0, 0, 255, 1.000)\",\"shape\":\"linear\"},\"mode\":\"lines+markers\",\"x\":[14.999999999999998]},{\"yaxis\":\"y\",\"showlegend\":true,\"type\":\"scatter3d\",\"xaxis\":\"x\",\"name\":\"187\",\"z\":[-3.609735108032933e-15],\"marker\":{\"symbol\":\"circle\",\"line\":{\"width\":0.1,\"color\":\"rgba(0, 0, 0, 0.300)\"},\"size\":6.0,\"color\":\"rgba(255, 0, 0, 0.300)\"},\"y\":[10.0],\"line\":{\"width\":1,\"dash\":\"solid\",\"color\":\"rgba(0, 0, 255, 1.000)\",\"shape\":\"linear\"},\"mode\":\"lines+markers\",\"x\":[5.0]},{\"yaxis\":\"y\",\"showlegend\":true,\"type\":\"scatter3d\",\"xaxis\":\"x\",\"name\":\"188\",\"z\":[-3.609735108032933e-15],\"marker\":{\"symbol\":\"circle\",\"line\":{\"width\":0.1,\"color\":\"rgba(0, 0, 0, 0.300)\"},\"size\":6.0,\"color\":\"rgba(255, 0, 0, 0.300)\"},\"y\":[1.0],\"line\":{\"width\":1,\"dash\":\"solid\",\"color\":\"rgba(0, 0, 255, 1.000)\",\"shape\":\"linear\"},\"mode\":\"lines+markers\",\"x\":[5.0]},{\"yaxis\":\"y\",\"y\":[-1.0,-1.0,-1.0,-1.0,-1.0,-10.0,-10.0,-10.0,-10.0,-10.0],\"showlegend\":true,\"name\":\"189\",\"type\":\"scatter3d\",\"xaxis\":\"x\",\"z\":[-1.0000000000000047,0.9999999999999953,0.9999999999999973,-1.0000000000000027,-1.0000000000000047,-1.0000000000000047,0.9999999999999953,0.9999999999999973,-1.0000000000000027,-1.0000000000000047],\"x\":[6.499999999999999,6.500000000000001,3.500000000000001,3.499999999999999,6.499999999999999,6.499999999999999,6.500000000000001,3.500000000000001,3.499999999999999,6.499999999999999],\"line\":{\"width\":1,\"dash\":\"solid\",\"color\":\"rgba(0, 0, 255, 1.000)\",\"shape\":\"linear\"},\"mode\":\"lines\"},{\"yaxis\":\"y\",\"y\":[-1.0,-10.0],\"showlegend\":true,\"name\":\"190\",\"type\":\"scatter3d\",\"xaxis\":\"x\",\"z\":[0.9999999999999953,0.9999999999999953],\"x\":[6.500000000000001,6.500000000000001],\"line\":{\"width\":1,\"dash\":\"solid\",\"color\":\"rgba(0, 0, 255, 1.000)\",\"shape\":\"linear\"},\"mode\":\"lines\"},{\"yaxis\":\"y\",\"y\":[-1.0,-10.0],\"showlegend\":true,\"name\":\"191\",\"type\":\"scatter3d\",\"xaxis\":\"x\",\"z\":[0.9999999999999973,0.9999999999999973],\"x\":[3.500000000000001,3.500000000000001],\"line\":{\"width\":1,\"dash\":\"solid\",\"color\":\"rgba(0, 0, 255, 1.000)\",\"shape\":\"linear\"},\"mode\":\"lines\"},{\"yaxis\":\"y\",\"y\":[-1.0,-10.0],\"showlegend\":true,\"name\":\"192\",\"type\":\"scatter3d\",\"xaxis\":\"x\",\"z\":[-1.0000000000000027,-1.0000000000000027],\"x\":[3.499999999999999,3.499999999999999],\"line\":{\"width\":1,\"dash\":\"solid\",\"color\":\"rgba(0, 0, 255, 1.000)\",\"shape\":\"linear\"},\"mode\":\"lines\"},{\"yaxis\":\"y\",\"y\":[-8.5,-8.5,-11.5,-11.5,-8.5,-8.5,-8.5,-11.5,-11.5,-8.5],\"showlegend\":true,\"name\":\"193\",\"type\":\"scatter3d\",\"xaxis\":\"x\",\"z\":[-1.0000000000000036,0.9999999999999963,0.9999999999999963,-1.0000000000000036,-1.0000000000000036,-1.0000000000000087,0.9999999999999913,0.9999999999999913,-1.0000000000000087,-1.0000000000000087],\"x\":[4.999999999999999,5.000000000000001,5.000000000000001,4.999999999999999,4.999999999999999,14.999999999999998,14.999999999999998,14.999999999999998,14.999999999999998,14.999999999999998],\"line\":{\"width\":1,\"dash\":\"solid\",\"color\":\"rgba(0, 0, 255, 1.000)\",\"shape\":\"linear\"},\"mode\":\"lines\"},{\"yaxis\":\"y\",\"y\":[-8.5,-8.5],\"showlegend\":true,\"name\":\"194\",\"type\":\"scatter3d\",\"xaxis\":\"x\",\"z\":[0.9999999999999963,0.9999999999999913],\"x\":[5.000000000000001,14.999999999999998],\"line\":{\"width\":1,\"dash\":\"solid\",\"color\":\"rgba(0, 0, 255, 1.000)\",\"shape\":\"linear\"},\"mode\":\"lines\"},{\"yaxis\":\"y\",\"y\":[-11.5,-11.5],\"showlegend\":true,\"name\":\"195\",\"type\":\"scatter3d\",\"xaxis\":\"x\",\"z\":[0.9999999999999963,0.9999999999999913],\"x\":[5.000000000000001,14.999999999999998],\"line\":{\"width\":1,\"dash\":\"solid\",\"color\":\"rgba(0, 0, 255, 1.000)\",\"shape\":\"linear\"},\"mode\":\"lines\"},{\"yaxis\":\"y\",\"y\":[-11.5,-11.5],\"showlegend\":true,\"name\":\"196\",\"type\":\"scatter3d\",\"xaxis\":\"x\",\"z\":[-1.0000000000000036,-1.0000000000000087],\"x\":[4.999999999999999,14.999999999999998],\"line\":{\"width\":1,\"dash\":\"solid\",\"color\":\"rgba(0, 0, 255, 1.000)\",\"shape\":\"linear\"},\"mode\":\"lines\"},{\"yaxis\":\"y\",\"y\":[-10.0,-10.0,-10.0,-10.0,-10.0,10.0,10.0,10.0,10.0,10.0],\"showlegend\":true,\"name\":\"197\",\"type\":\"scatter3d\",\"xaxis\":\"x\",\"z\":[-1.0000000000000075,0.9999999999999923,0.9999999999999903,-1.0000000000000095,-1.0000000000000075,-1.0000000000000075,0.9999999999999923,0.9999999999999903,-1.0000000000000095,-1.0000000000000075],\"x\":[13.499999999999998,13.499999999999998,16.5,16.5,13.499999999999998,13.499999999999998,13.499999999999998,16.5,16.5,13.499999999999998],\"line\":{\"width\":1,\"dash\":\"solid\",\"color\":\"rgba(0, 0, 255, 1.000)\",\"shape\":\"linear\"},\"mode\":\"lines\"},{\"yaxis\":\"y\",\"y\":[-10.0,10.0],\"showlegend\":true,\"name\":\"198\",\"type\":\"scatter3d\",\"xaxis\":\"x\",\"z\":[0.9999999999999923,0.9999999999999923],\"x\":[13.499999999999998,13.499999999999998],\"line\":{\"width\":1,\"dash\":\"solid\",\"color\":\"rgba(0, 0, 255, 1.000)\",\"shape\":\"linear\"},\"mode\":\"lines\"},{\"yaxis\":\"y\",\"y\":[-10.0,10.0],\"showlegend\":true,\"name\":\"199\",\"type\":\"scatter3d\",\"xaxis\":\"x\",\"z\":[0.9999999999999903,0.9999999999999903],\"x\":[16.5,16.5],\"line\":{\"width\":1,\"dash\":\"solid\",\"color\":\"rgba(0, 0, 255, 1.000)\",\"shape\":\"linear\"},\"mode\":\"lines\"},{\"yaxis\":\"y\",\"y\":[-10.0,10.0],\"showlegend\":true,\"name\":\"200\",\"type\":\"scatter3d\",\"xaxis\":\"x\",\"z\":[-1.0000000000000095,-1.0000000000000095],\"x\":[16.5,16.5],\"line\":{\"width\":1,\"dash\":\"solid\",\"color\":\"rgba(0, 0, 255, 1.000)\",\"shape\":\"linear\"},\"mode\":\"lines\"},{\"yaxis\":\"y\",\"y\":[8.5,8.5,11.5,11.5,8.5,8.5,8.5,11.5,11.5,8.5],\"showlegend\":true,\"name\":\"201\",\"type\":\"scatter3d\",\"xaxis\":\"x\",\"z\":[-1.0000000000000087,0.9999999999999913,0.9999999999999913,-1.0000000000000087,-1.0000000000000087,-1.0000000000000036,0.9999999999999963,0.9999999999999963,-1.0000000000000036,-1.0000000000000036],\"x\":[14.999999999999998,14.999999999999998,14.999999999999998,14.999999999999998,14.999999999999998,4.999999999999999,5.000000000000001,5.000000000000001,4.999999999999999,4.999999999999999],\"line\":{\"width\":1,\"dash\":\"solid\",\"color\":\"rgba(0, 0, 255, 1.000)\",\"shape\":\"linear\"},\"mode\":\"lines\"},{\"yaxis\":\"y\",\"y\":[8.5,8.5],\"showlegend\":true,\"name\":\"202\",\"type\":\"scatter3d\",\"xaxis\":\"x\",\"z\":[0.9999999999999913,0.9999999999999963],\"x\":[14.999999999999998,5.000000000000001],\"line\":{\"width\":1,\"dash\":\"solid\",\"color\":\"rgba(0, 0, 255, 1.000)\",\"shape\":\"linear\"},\"mode\":\"lines\"},{\"yaxis\":\"y\",\"y\":[11.5,11.5],\"showlegend\":true,\"name\":\"203\",\"type\":\"scatter3d\",\"xaxis\":\"x\",\"z\":[0.9999999999999913,0.9999999999999963],\"x\":[14.999999999999998,5.000000000000001],\"line\":{\"width\":1,\"dash\":\"solid\",\"color\":\"rgba(0, 0, 255, 1.000)\",\"shape\":\"linear\"},\"mode\":\"lines\"},{\"yaxis\":\"y\",\"y\":[11.5,11.5],\"showlegend\":true,\"name\":\"204\",\"type\":\"scatter3d\",\"xaxis\":\"x\",\"z\":[-1.0000000000000087,-1.0000000000000036],\"x\":[14.999999999999998,4.999999999999999],\"line\":{\"width\":1,\"dash\":\"solid\",\"color\":\"rgba(0, 0, 255, 1.000)\",\"shape\":\"linear\"},\"mode\":\"lines\"},{\"yaxis\":\"y\",\"y\":[10.0,10.0,10.0,10.0,10.0,1.0,1.0,1.0,1.0,1.0],\"showlegend\":true,\"name\":\"205\",\"type\":\"scatter3d\",\"xaxis\":\"x\",\"z\":[-1.0000000000000047,0.9999999999999953,0.9999999999999973,-1.0000000000000027,-1.0000000000000047,-1.0000000000000047,0.9999999999999953,0.9999999999999973,-1.0000000000000027,-1.0000000000000047],\"x\":[6.499999999999999,6.500000000000001,3.500000000000001,3.499999999999999,6.499999999999999,6.499999999999999,6.500000000000001,3.500000000000001,3.499999999999999,6.499999999999999],\"line\":{\"width\":1,\"dash\":\"solid\",\"color\":\"rgba(0, 0, 255, 1.000)\",\"shape\":\"linear\"},\"mode\":\"lines\"},{\"yaxis\":\"y\",\"y\":[10.0,1.0],\"showlegend\":true,\"name\":\"206\",\"type\":\"scatter3d\",\"xaxis\":\"x\",\"z\":[0.9999999999999953,0.9999999999999953],\"x\":[6.500000000000001,6.500000000000001],\"line\":{\"width\":1,\"dash\":\"solid\",\"color\":\"rgba(0, 0, 255, 1.000)\",\"shape\":\"linear\"},\"mode\":\"lines\"},{\"yaxis\":\"y\",\"y\":[10.0,1.0],\"showlegend\":true,\"name\":\"207\",\"type\":\"scatter3d\",\"xaxis\":\"x\",\"z\":[0.9999999999999973,0.9999999999999973],\"x\":[3.500000000000001,3.500000000000001],\"line\":{\"width\":1,\"dash\":\"solid\",\"color\":\"rgba(0, 0, 255, 1.000)\",\"shape\":\"linear\"},\"mode\":\"lines\"},{\"yaxis\":\"y\",\"y\":[10.0,1.0],\"showlegend\":true,\"name\":\"208\",\"type\":\"scatter3d\",\"xaxis\":\"x\",\"z\":[-1.0000000000000027,-1.0000000000000027],\"x\":[3.499999999999999,3.499999999999999],\"line\":{\"width\":1,\"dash\":\"solid\",\"color\":\"rgba(0, 0, 255, 1.000)\",\"shape\":\"linear\"},\"mode\":\"lines\"},{\"yaxis\":\"y\",\"showlegend\":true,\"type\":\"scatter3d\",\"xaxis\":\"x\",\"name\":\"209\",\"z\":[16.5],\"marker\":{\"symbol\":\"cross\",\"line\":{\"width\":0.0,\"color\":\"rgba(0, 0, 0, 0.000)\"},\"size\":0.0,\"color\":\"rgba(255, 0, 0, 0.000)\"},\"y\":[16.5],\"line\":{\"width\":1,\"dash\":\"solid\",\"color\":\"rgba(0, 0, 255, 1.000)\",\"shape\":\"linear\"},\"mode\":\"lines+markers\",\"x\":[16.5]},{\"yaxis\":\"y\",\"showlegend\":true,\"type\":\"scatter3d\",\"xaxis\":\"x\",\"name\":\"210\",\"z\":[-16.5],\"marker\":{\"symbol\":\"cross\",\"line\":{\"width\":0.0,\"color\":\"rgba(0, 0, 0, 0.000)\"},\"size\":0.0,\"color\":\"rgba(255, 0, 0, 0.000)\"},\"y\":[-16.5],\"line\":{\"width\":1,\"dash\":\"solid\",\"color\":\"rgba(0, 0, 255, 1.000)\",\"shape\":\"linear\"},\"mode\":\"lines+markers\",\"x\":[-16.5]}],  {\"annotations\":[],\"width\":600,\"plot_bgcolor\":\"rgba(255, 255, 255, 1.000)\",\"scene\":{\"yaxis\":{\"type\":\"-\",\"titlefont\":{\"size\":15,\"color\":\"rgba(0, 0, 0, 1.000)\",\"family\":\"Helvetica\"},\"title\":\"\",\"tickfont\":{\"size\":11,\"color\":\"rgba(0, 0, 0, 1.000)\",\"family\":\"Helvetica\"},\"tickmode\":\"array\",\"showgrid\":true,\"tickvals\":[-10.0,0.0,10.0],\"domain\":[0.057305336832895896,0.9901574803149605],\"ticktext\":[\"-10\",\"0\",\"10\"],\"zeroline\":false,\"linecolor\":\"rgba(0, 0, 0, 1.000)\",\"tickcolor\":\"rgba(0, 0, 0, 1.000)\",\"anchor\":\"x\"},\"xaxis\":{\"type\":\"-\",\"titlefont\":{\"size\":15,\"color\":\"rgba(0, 0, 0, 1.000)\",\"family\":\"Helvetica\"},\"title\":\"\",\"tickfont\":{\"size\":11,\"color\":\"rgba(0, 0, 0, 1.000)\",\"family\":\"Helvetica\"},\"tickmode\":\"array\",\"showgrid\":true,\"tickvals\":[-10.0,0.0,10.0],\"domain\":[0.05905511811023622,0.9934383202099738],\"ticktext\":[\"-10\",\"0\",\"10\"],\"zeroline\":false,\"linecolor\":\"rgba(0, 0, 0, 1.000)\",\"tickcolor\":\"rgba(0, 0, 0, 1.000)\",\"anchor\":\"y\"},\"zaxis\":{\"type\":\"-\",\"titlefont\":{\"size\":15,\"color\":\"rgba(0, 0, 0, 1.000)\",\"family\":\"Helvetica\"},\"title\":\"\",\"tickfont\":{\"size\":11,\"color\":\"rgba(0, 0, 0, 1.000)\",\"family\":\"Helvetica\"},\"tickmode\":\"array\",\"showgrid\":true,\"tickvals\":[-10.0,0.0,10.0],\"ticktext\":[\"-10\",\"0\",\"10\"],\"zeroline\":false,\"linecolor\":\"rgba(0, 0, 0, 1.000)\",\"tickcolor\":\"rgba(0, 0, 0, 1.000)\"}},\"showlegend\":false,\"paper_bgcolor\":\"rgba(255, 255, 255, 1.000)\",\"margin\":{\"r\":0,\"l\":0,\"b\":0,\"t\":20},\"height\":400}, {showLink: false});\n",
       "\n",
       "    });\n",
       " </script>\n"
      ]
     },
     "metadata": {},
     "output_type": "display_data"
    },
    {
     "name": "stderr",
     "output_type": "stream",
     "text": [
      "WARNING: You created n=210 groups... Is that intended?\n"
     ]
    }
   ],
   "source": [
    "plot(loopsgroup);gui()"
   ]
  },
  {
   "cell_type": "code",
   "execution_count": 21,
   "metadata": {
    "collapsed": false
   },
   "outputs": [
    {
     "data": {
      "text/plain": [
       ".external N_1 N_2 \n",
       ".external N_3 N_4 \n",
       ".external N_5 N_6 \n",
       ".external N_7 N_8 \n",
       ".external N_9 N_10 \n",
       ".external N_11 N_12 \n",
       ".external N_13 N_14 \n",
       ".external N_15 N_16 \n"
      ]
     },
     "execution_count": 21,
     "metadata": {},
     "output_type": "execute_result"
    }
   ],
   "source": [
    "# define a port for each loop\n",
    "ex = []\n",
    "for loop in loops\n",
    "    push!(ex, External(loop[:a],loop[:b]))  # use terminals we defined\n",
    "end\n",
    "externalgroup = Group(ex)"
   ]
  },
  {
   "cell_type": "code",
   "execution_count": 22,
   "metadata": {
    "collapsed": false
   },
   "outputs": [
    {
     "data": {
      "text/plain": [
       ".units mm\n",
       ".default\n",
       "+  nhinc=5 nwinc=7\n",
       "+  sigma=6.210000000e+04\n",
       "N_1 x=3.535533906e+00 y=-1.000000000e+00 z=3.535533906e+00\n",
       "N_2 x=3.535533906e+00 y=-1.000000000e+01 z=3.535533906e+00\n",
       "N_3 x=1.060660172e+01 y=-1.000000000e+01 z=1.060660172e+01\n",
       "N_4 x=1.060660172e+01 y=1.000000000e+01 z=1.060660172e+01\n",
       "N_5 x=3.535533906e+00 y=1.000000000e+01 z=3.535533906e+00\n",
       "N_6 x=3.535533906e+00 y=1.000000000e+00 z=3.535533906e+00\n",
       "E_7 N_1 N_2\n",
       "+  w=3.000000000e+00 h=2.000000000e+00\n",
       "+  wx=7.071067812e-01 wy=0.000000000e+00 wz=7.071067812e-01\n",
       "E_8 N_2 N_3\n",
       "+  w=3.000000000e+00 h=2.000000000e+00\n",
       "+  wx=0.000000000e+00 wy=1.000000000e+00 wz=0.000000000e+00\n",
       "E_9 N_3 N_4\n",
       "+  w=3.000000000e+00 h=2.000000000e+00\n",
       "+  wx=-7.071067812e-01 wy=0.000000000e+00 wz=-7.071067812e-01\n",
       "E_10 N_4 N_5\n",
       "+  w=3.000000000e+00 h=2.000000000e+00\n",
       "+  wx=0.000000000e+00 wy=-1.000000000e+00 wz=0.000000000e+00\n",
       "E_11 N_5 N_6\n",
       "+  w=3.000000000e+00 h=2.000000000e+00\n",
       "+  wx=7.071067812e-01 wy=0.000000000e+00 wz=7.071067812e-01\n",
       "N_12 x=8.873450063e-16 y=-1.000000000e+00 z=5.000000000e+00\n",
       "N_13 x=8.873450063e-16 y=-1.000000000e+01 z=5.000000000e+00\n",
       "N_14 x=2.531964301e-15 y=-1.000000000e+01 z=1.500000000e+01\n",
       "N_15 x=2.531964301e-15 y=1.000000000e+01 z=1.500000000e+01\n",
       "N_16 x=8.873450063e-16 y=1.000000000e+01 z=5.000000000e+00\n",
       "N_17 x=8.873450063e-16 y=1.000000000e+00 z=5.000000000e+00\n",
       "E_18 N_12 N_13\n",
       "+  w=3.000000000e+00 h=2.000000000e+00\n",
       "+  wx=2.220446049e-16 wy=0.000000000e+00 wz=1.000000000e+00\n",
       "E_19 N_13 N_14\n",
       "+  w=3.000000000e+00 h=2.000000000e+00\n",
       "+  wx=0.000000000e+00 wy=1.000000000e+00 wz=0.000000000e+00\n",
       "E_20 N_14 N_15\n",
       "+  w=3.000000000e+00 h=2.000000000e+00\n",
       "+  wx=-2.220446049e-16 wy=0.000000000e+00 wz=-1.000000000e+00\n",
       "E_21 N_15 N_16\n",
       "+  w=3.000000000e+00 h=2.000000000e+00\n",
       "+  wx=0.000000000e+00 wy=-1.000000000e+00 wz=0.000000000e+00\n",
       "E_22 N_16 N_17\n",
       "+  w=3.000000000e+00 h=2.000000000e+00\n",
       "+  wx=2.220446049e-16 wy=0.000000000e+00 wz=1.000000000e+00\n",
       "N_23 x=-3.535533906e+00 y=-1.000000000e+00 z=3.535533906e+00\n",
       "N_24 x=-3.535533906e+00 y=-1.000000000e+01 z=3.535533906e+00\n",
       "N_25 x=-1.060660172e+01 y=-1.000000000e+01 z=1.060660172e+01\n",
       "N_26 x=-1.060660172e+01 y=1.000000000e+01 z=1.060660172e+01\n",
       "N_27 x=-3.535533906e+00 y=1.000000000e+01 z=3.535533906e+00\n",
       "N_28 x=-3.535533906e+00 y=1.000000000e+00 z=3.535533906e+00\n",
       "E_29 N_23 N_24\n",
       "+  w=3.000000000e+00 h=2.000000000e+00\n",
       "+  wx=-7.071067812e-01 wy=0.000000000e+00 wz=7.071067812e-01\n",
       "E_30 N_24 N_25\n",
       "+  w=3.000000000e+00 h=2.000000000e+00\n",
       "+  wx=0.000000000e+00 wy=1.000000000e+00 wz=0.000000000e+00\n",
       "E_31 N_25 N_26\n",
       "+  w=3.000000000e+00 h=2.000000000e+00\n",
       "+  wx=7.071067812e-01 wy=0.000000000e+00 wz=-7.071067812e-01\n",
       "E_32 N_26 N_27\n",
       "+  w=3.000000000e+00 h=2.000000000e+00\n",
       "+  wx=0.000000000e+00 wy=-1.000000000e+00 wz=0.000000000e+00\n",
       "E_33 N_27 N_28\n",
       "+  w=3.000000000e+00 h=2.000000000e+00\n",
       "+  wx=-7.071067812e-01 wy=0.000000000e+00 wz=7.071067812e-01\n",
       "N_34 x=-5.000000000e+00 y=-1.000000000e+00 z=1.779501213e-15\n",
       "N_35 x=-5.000000000e+00 y=-1.000000000e+01 z=1.779501213e-15\n",
       "N_36 x=-1.500000000e+01 y=-1.000000000e+01 z=4.710466656e-15\n",
       "N_37 x=-1.500000000e+01 y=1.000000000e+01 z=4.710466656e-15\n",
       "N_38 x=-5.000000000e+00 y=1.000000000e+01 z=1.779501213e-15\n",
       "N_39 x=-5.000000000e+00 y=1.000000000e+00 z=1.779501213e-15\n",
       "E_40 N_34 N_35\n",
       "+  w=3.000000000e+00 h=2.000000000e+00\n",
       "+  wx=-1.000000000e+00 wy=0.000000000e+00 wz=2.775557562e-16\n",
       "E_41 N_35 N_36\n",
       "+  w=3.000000000e+00 h=2.000000000e+00\n",
       "+  wx=0.000000000e+00 wy=1.000000000e+00 wz=0.000000000e+00\n",
       "E_42 N_36 N_37\n",
       "+  w=3.000000000e+00 h=2.000000000e+00\n",
       "+  wx=1.000000000e+00 wy=0.000000000e+00 wz=-2.775557562e-16\n",
       "E_43 N_37 N_38\n",
       "+  w=3.000000000e+00 h=2.000000000e+00\n",
       "+  wx=0.000000000e+00 wy=-1.000000000e+00 wz=0.000000000e+00\n",
       "E_44 N_38 N_39\n",
       "+  w=3.000000000e+00 h=2.000000000e+00\n",
       "+  wx=-1.000000000e+00 wy=0.000000000e+00 wz=2.775557562e-16\n",
       "N_45 x=-3.535533906e+00 y=-1.000000000e+00 z=-3.535533906e+00\n",
       "N_46 x=-3.535533906e+00 y=-1.000000000e+01 z=-3.535533906e+00\n",
       "N_47 x=-1.060660172e+01 y=-1.000000000e+01 z=-1.060660172e+01\n",
       "N_48 x=-1.060660172e+01 y=1.000000000e+01 z=-1.060660172e+01\n",
       "N_49 x=-3.535533906e+00 y=1.000000000e+01 z=-3.535533906e+00\n",
       "N_50 x=-3.535533906e+00 y=1.000000000e+00 z=-3.535533906e+00\n",
       "E_51 N_45 N_46\n",
       "+  w=3.000000000e+00 h=2.000000000e+00\n",
       "+  wx=-7.071067812e-01 wy=0.000000000e+00 wz=-7.071067812e-01\n",
       "E_52 N_46 N_47\n",
       "+  w=3.000000000e+00 h=2.000000000e+00\n",
       "+  wx=0.000000000e+00 wy=1.000000000e+00 wz=0.000000000e+00\n",
       "E_53 N_47 N_48\n",
       "+  w=3.000000000e+00 h=2.000000000e+00\n",
       "+  wx=7.071067812e-01 wy=0.000000000e+00 wz=7.071067812e-01\n",
       "E_54 N_48 N_49\n",
       "+  w=3.000000000e+00 h=2.000000000e+00\n",
       "+  wx=0.000000000e+00 wy=-1.000000000e+00 wz=0.000000000e+00\n",
       "E_55 N_49 N_50\n",
       "+  w=3.000000000e+00 h=2.000000000e+00\n",
       "+  wx=-7.071067812e-01 wy=0.000000000e+00 wz=-7.071067812e-01\n",
       "N_56 x=-2.717578901e-15 y=-1.000000000e+00 z=-5.000000000e+00\n",
       "N_57 x=-2.717578901e-15 y=-1.000000000e+01 z=-5.000000000e+00\n",
       "N_58 x=-5.932290654e-15 y=-1.000000000e+01 z=-1.500000000e+01\n",
       "N_59 x=-5.932290654e-15 y=1.000000000e+01 z=-1.500000000e+01\n",
       "N_60 x=-2.717578901e-15 y=1.000000000e+01 z=-5.000000000e+00\n",
       "N_61 x=-2.717578901e-15 y=1.000000000e+00 z=-5.000000000e+00\n",
       "E_62 N_56 N_57\n",
       "+  w=3.000000000e+00 h=2.000000000e+00\n",
       "+  wx=-4.440892099e-16 wy=0.000000000e+00 wz=-1.000000000e+00\n",
       "E_63 N_57 N_58\n",
       "+  w=3.000000000e+00 h=2.000000000e+00\n",
       "+  wx=0.000000000e+00 wy=1.000000000e+00 wz=0.000000000e+00\n",
       "E_64 N_58 N_59\n",
       "+  w=3.000000000e+00 h=2.000000000e+00\n",
       "+  wx=4.440892099e-16 wy=0.000000000e+00 wz=1.000000000e+00\n",
       "E_65 N_59 N_60\n",
       "+  w=3.000000000e+00 h=2.000000000e+00\n",
       "+  wx=0.000000000e+00 wy=-1.000000000e+00 wz=0.000000000e+00\n",
       "E_66 N_60 N_61\n",
       "+  w=3.000000000e+00 h=2.000000000e+00\n",
       "+  wx=-4.440892099e-16 wy=0.000000000e+00 wz=-1.000000000e+00\n",
       "N_67 x=3.535533906e+00 y=-1.000000000e+00 z=-3.535533906e+00\n",
       "N_68 x=3.535533906e+00 y=-1.000000000e+01 z=-3.535533906e+00\n",
       "N_69 x=1.060660172e+01 y=-1.000000000e+01 z=-1.060660172e+01\n",
       "N_70 x=1.060660172e+01 y=1.000000000e+01 z=-1.060660172e+01\n",
       "N_71 x=3.535533906e+00 y=1.000000000e+01 z=-3.535533906e+00\n",
       "N_72 x=3.535533906e+00 y=1.000000000e+00 z=-3.535533906e+00\n",
       "E_73 N_67 N_68\n",
       "+  w=3.000000000e+00 h=2.000000000e+00\n",
       "+  wx=7.071067812e-01 wy=0.000000000e+00 wz=-7.071067812e-01\n",
       "E_74 N_68 N_69\n",
       "+  w=3.000000000e+00 h=2.000000000e+00\n",
       "+  wx=0.000000000e+00 wy=1.000000000e+00 wz=0.000000000e+00\n",
       "E_75 N_69 N_70\n",
       "+  w=3.000000000e+00 h=2.000000000e+00\n",
       "+  wx=-7.071067812e-01 wy=0.000000000e+00 wz=7.071067812e-01\n",
       "E_76 N_70 N_71\n",
       "+  w=3.000000000e+00 h=2.000000000e+00\n",
       "+  wx=0.000000000e+00 wy=-1.000000000e+00 wz=0.000000000e+00\n",
       "E_77 N_71 N_72\n",
       "+  w=3.000000000e+00 h=2.000000000e+00\n",
       "+  wx=7.071067812e-01 wy=0.000000000e+00 wz=-7.071067812e-01\n",
       "N_78 x=5.000000000e+00 y=-1.000000000e+00 z=-3.609735108e-15\n",
       "N_79 x=5.000000000e+00 y=-1.000000000e+01 z=-3.609735108e-15\n",
       "N_80 x=1.500000000e+01 y=-1.000000000e+01 z=-8.631075882e-15\n",
       "N_81 x=1.500000000e+01 y=1.000000000e+01 z=-8.631075882e-15\n",
       "N_82 x=5.000000000e+00 y=1.000000000e+01 z=-3.609735108e-15\n",
       "N_83 x=5.000000000e+00 y=1.000000000e+00 z=-3.609735108e-15\n",
       "E_84 N_78 N_79\n",
       "+  w=3.000000000e+00 h=2.000000000e+00\n",
       "+  wx=1.000000000e+00 wy=0.000000000e+00 wz=-6.661338148e-16\n",
       "E_85 N_79 N_80\n",
       "+  w=3.000000000e+00 h=2.000000000e+00\n",
       "+  wx=0.000000000e+00 wy=1.000000000e+00 wz=0.000000000e+00\n",
       "E_86 N_80 N_81\n",
       "+  w=3.000000000e+00 h=2.000000000e+00\n",
       "+  wx=-1.000000000e+00 wy=0.000000000e+00 wz=6.661338148e-16\n",
       "E_87 N_81 N_82\n",
       "+  w=3.000000000e+00 h=2.000000000e+00\n",
       "+  wx=0.000000000e+00 wy=-1.000000000e+00 wz=0.000000000e+00\n",
       "E_88 N_82 N_83\n",
       "+  w=3.000000000e+00 h=2.000000000e+00\n",
       "+  wx=1.000000000e+00 wy=0.000000000e+00 wz=-6.661338148e-16\n",
       ".external N_1 N_6 \n",
       ".external N_12 N_17 \n",
       ".external N_23 N_28 \n",
       ".external N_34 N_39 \n",
       ".external N_45 N_50 \n",
       ".external N_56 N_61 \n",
       ".external N_67 N_72 \n",
       ".external N_78 N_83 \n",
       ".freq fmin=1.000000000e-01 fmax=1.000000000e+09 ndec=5.000000000e-02\n",
       ".end\n"
      ]
     },
     "execution_count": 22,
     "metadata": {},
     "output_type": "execute_result"
    }
   ],
   "source": [
    "# create top level group\n",
    "eightloops = Group()\n",
    "push!(eightloops, Units(\"mm\"))\n",
    "push!(eightloops, Default(SegmentParameters(sigma=62.1e6*1e-3,nwinc=7, nhinc=5)))\n",
    "append!(eightloops, loopsgroup)\n",
    "append!(eightloops, externalgroup)\n",
    "push!(eightloops, Freq(min=1e-1, max=1e9, ndec=0.05))\n",
    "push!(eightloops, End())\n",
    "eightloops"
   ]
  },
  {
   "cell_type": "code",
   "execution_count": 23,
   "metadata": {
    "collapsed": false
   },
   "outputs": [],
   "source": [
    "# write to file\n",
    "open(\"eightloops.inp\",\"w\") do io\n",
    "    show(io,eightloops)\n",
    "end"
   ]
  },
  {
   "cell_type": "code",
   "execution_count": null,
   "metadata": {
    "collapsed": true
   },
   "outputs": [],
   "source": []
  }
 ],
 "metadata": {
  "kernelspec": {
   "display_name": "Julia 0.5.0-rc3",
   "language": "julia",
   "name": "julia-0.5"
  },
  "language_info": {
   "file_extension": ".jl",
   "mimetype": "application/julia",
   "name": "julia",
   "version": "0.5.0"
  }
 },
 "nbformat": 4,
 "nbformat_minor": 0
}
