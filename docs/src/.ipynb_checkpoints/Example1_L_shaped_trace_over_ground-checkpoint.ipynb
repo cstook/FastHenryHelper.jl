{
 "cells": [
  {
   "cell_type": "markdown",
   "metadata": {},
   "source": [
    "# Example 1: A simple example from the FastHenry documentation.\n",
    "This example is a recreation of the example in section 1.2 of \"[FastHenry User's Guide](https://github.com/ediloren/FastHenry2/blob/master/doc/FastHenry_User_Guide.pdf)\" using FastHeneryHelper."
   ]
  },
  {
   "cell_type": "code",
   "execution_count": 2,
   "metadata": {
    "collapsed": false
   },
   "outputs": [],
   "source": [
    "using FastHenryHelper"
   ]
  },
  {
   "cell_type": "markdown",
   "metadata": {},
   "source": [
    "Create a group of FastHenry elements for FastHenry to compute the loop inductance of an L shaped trace over a ground plane with the trace's return path through the plane."
   ]
  },
  {
   "cell_type": "code",
   "execution_count": 3,
   "metadata": {
    "collapsed": false
   },
   "outputs": [
    {
     "data": {
      "text/plain": [
       "* A FastHenry example using a reference plane\n",
       ".units mils\n",
       "G_1\n",
       "+ x1=0.000000000e+00 y1=0.000000000e+00 z1=0.000000000e+00\n",
       "+ x2=1.000000000e+03 y2=0.000000000e+00 z2=0.000000000e+00\n",
       "+ x3=1.000000000e+03 y3=1.000000000e+03 z3=0.000000000e+00\n",
       "+ thick=1.200000000e+00 seg1=20 seg2=20\n",
       "+ Nin (8.000000000e+02,8.000000000e+02,0.000000000e+00)\n",
       "+ Nout (0.000000000e+00,2.000000000e+02,0.000000000e+00)\n",
       ".default\n",
       "+  nhinc=1 nwinc=8\n",
       "+  sigma=1.577340000e+03\n",
       "N1 x=0.000000000e+00 y=2.000000000e+02 z=1.500000000e+00\n",
       "N_2 x=8.000000000e+02 y=2.000000000e+02 z=1.500000000e+00\n",
       "N_3 x=8.000000000e+02 y=8.000000000e+02 z=1.500000000e+00\n",
       "E_4 N1 N_2\n",
       "+  w=8.000000000e+00 h=1.000000000e+00\n",
       "E_5 N_2 N_3\n",
       "+  w=8.000000000e+00 h=1.000000000e+00\n",
       ".equiv Nin N_3\n",
       ".external N1 Nout \n",
       ".freq fmin=1.000000000e-01 fmax=1.000000000e+09 ndec=5.000000000e-02\n",
       ".end\n"
      ]
     },
     "execution_count": 3,
     "metadata": {},
     "output_type": "execute_result"
    }
   ],
   "source": [
    "sp = SegmentParameters(w=8,h=1)\n",
    "example1 = Group(\n",
    "    elements = [Comment(\"A FastHenry example using a reference plane\"),\n",
    "                Units(\"mils\"),\n",
    "                g = UniformPlane(\n",
    "                    x1=0,    y1=0,    z1=0,\n",
    "                    x2=1000, y2=0,    z2=0,\n",
    "                    x3=1000, y3=1000, z3=0,\n",
    "                    thick= 1.2,\n",
    "                    seg1=20, seg2=20,\n",
    "                    nodes=[nin = Node(\"in\",800,800,0), nout = Node(\"out\",0,200,0)]\n",
    "                    ),\n",
    "                Default(SegmentParameters(sigma=62.1e6*2.54e-5,nwinc=8, nhinc=1)),\n",
    "                n1 = Node(\"1\",0,200,1.5),\n",
    "                n2 = Node(800,200,1.5),\n",
    "                n3 = Node(800,800,1.5),\n",
    "                Segment(n1,n2,sp),\n",
    "                Segment(n2,n3,sp),\n",
    "                Equiv([nin,n3]),\n",
    "                External(n1,nout),\n",
    "                Freq(min=1e-1, max=1e9, ndec=0.05),\n",
    "                End()\n",
    "        ]\n",
    "    )"
   ]
  },
  {
   "cell_type": "markdown",
   "metadata": {},
   "source": [
    "Write example1 to a file."
   ]
  },
  {
   "cell_type": "code",
   "execution_count": 4,
   "metadata": {
    "collapsed": true
   },
   "outputs": [],
   "source": [
    "open(\"example1.inp\",\"w\") do io\n",
    "    show(io,example1)\n",
    "end"
   ]
  },
  {
   "cell_type": "markdown",
   "metadata": {},
   "source": [
    "Groups may be transformed.  To demonstrate, example1 is rotated 90deg around x,y,and z axis."
   ]
  },
  {
   "cell_type": "code",
   "execution_count": 5,
   "metadata": {
    "collapsed": true
   },
   "outputs": [],
   "source": [
    "transform!(example1,rx(0.5π)*ry(0.5π)*rz(0.5π))  # must keep plane parallel to xy, xz, or yz plane"
   ]
  },
  {
   "cell_type": "markdown",
   "metadata": {},
   "source": [
    "Write rotated example1 to a file"
   ]
  },
  {
   "cell_type": "code",
   "execution_count": 6,
   "metadata": {
    "collapsed": true
   },
   "outputs": [],
   "source": [
    "open(\"example1_rotated.inp\",\"w\") do io\n",
    "    show(io,example1)\n",
    "end"
   ]
  },
  {
   "cell_type": "markdown",
   "metadata": {},
   "source": [
    "calling `push!` on a `Group` will push into the groups `elements`."
   ]
  },
  {
   "cell_type": "code",
   "execution_count": 7,
   "metadata": {
    "collapsed": false
   },
   "outputs": [],
   "source": [
    "# same example, using push!\n",
    "example1 = Group()\n",
    "push!(example1,Comment(\"A FastHenry example using a reference plane\"))\n",
    "push!(example1,Units(\"mils\"))\n",
    "nin = Node(\"in\",800,800,0)\n",
    "nout = Node(\"out\",0,200,0)\n",
    "push!(example1,UniformPlane(x1=0, y1=0, z1=0, x2=1000, y2=0, z2=0, x3=1000, y3=1000, z3=0,\n",
    "    thick= 1.2, seg1=20, seg2=20, nodes=[nin, nout]))\n",
    "push!(example1,Default(SegmentParameters(sigma=62.1e6*2.54e-5,nwinc=8, nhinc=1)))\n",
    "n1 = Node(\"1\",0,200,1.5)\n",
    "push!(example1,n1)\n",
    "n2 = Node(800,200,1.5)\n",
    "push!(example1,n2)\n",
    "n3 = Node(800,800,1.5)\n",
    "push!(example1,n3)\n",
    "sp = SegmentParameters(w=8,h=1)\n",
    "push!(example1,Segment(n1,n2,sp))\n",
    "push!(example1,Segment(n2,n3,sp))\n",
    "push!(example1,Equiv([nin,n3]))\n",
    "push!(example1,External(n1,nout))\n",
    "push!(example1,Freq(min=1e-1, max=1e9, ndec=0.05))\n",
    "push!(example1,End());"
   ]
  },
  {
   "cell_type": "markdown",
   "metadata": {},
   "source": [
    "Plot of `example1`"
   ]
  },
  {
   "cell_type": "code",
   "execution_count": 9,
   "metadata": {
    "collapsed": false
   },
   "outputs": [
    {
     "data": {
      "text/html": [
       "<div id=\"9c08c9b3-d8cb-4a77-91c1-fdc22a6535ca\" class=\"plotly-graph-div\"></div>\n",
       "\n",
       "<script>\n",
       "    window.PLOTLYENV=window.PLOTLYENV || {};\n",
       "    window.PLOTLYENV.BASE_URL=\"https://plot.ly\";\n",
       "    require(['plotly'], function(Plotly) {\n",
       "        Plotly.newPlot('9c08c9b3-d8cb-4a77-91c1-fdc22a6535ca', [{\"yaxis\":\"y\",\"y\":[0.0,0.0,1000.0,1000.0,0.0,0.0,0.0,1000.0,1000.0,0.0],\"showlegend\":true,\"name\":\"1\",\"type\":\"scatter3d\",\"xaxis\":\"x\",\"z\":[-0.6,-0.6,-0.6,-0.6,-0.6,0.6,0.6,0.6,0.6,0.6],\"x\":[0.0,1000.0,1000.0,0.0,0.0,0.0,1000.0,1000.0,0.0,0.0],\"line\":{\"width\":1,\"dash\":\"solid\",\"color\":\"rgba(0, 128, 0, 1.000)\",\"shape\":\"linear\"},\"mode\":\"lines\"},{\"yaxis\":\"y\",\"y\":[0.0,0.0],\"showlegend\":true,\"name\":\"2\",\"type\":\"scatter3d\",\"xaxis\":\"x\",\"z\":[-0.6,0.6],\"x\":[1000.0,1000.0],\"line\":{\"width\":1,\"dash\":\"solid\",\"color\":\"rgba(0, 128, 0, 1.000)\",\"shape\":\"linear\"},\"mode\":\"lines\"},{\"yaxis\":\"y\",\"y\":[1000.0,1000.0],\"showlegend\":true,\"name\":\"3\",\"type\":\"scatter3d\",\"xaxis\":\"x\",\"z\":[-0.6,0.6],\"x\":[1000.0,1000.0],\"line\":{\"width\":1,\"dash\":\"solid\",\"color\":\"rgba(0, 128, 0, 1.000)\",\"shape\":\"linear\"},\"mode\":\"lines\"},{\"yaxis\":\"y\",\"y\":[1000.0,1000.0],\"showlegend\":true,\"name\":\"4\",\"type\":\"scatter3d\",\"xaxis\":\"x\",\"z\":[-0.6,0.6],\"x\":[0.0,0.0],\"line\":{\"width\":1,\"dash\":\"solid\",\"color\":\"rgba(0, 128, 0, 1.000)\",\"shape\":\"linear\"},\"mode\":\"lines\"},{\"yaxis\":\"y\",\"showlegend\":true,\"type\":\"scatter3d\",\"xaxis\":\"x\",\"name\":\"5\",\"z\":[0.0],\"marker\":{\"symbol\":\"circle\",\"line\":{\"width\":0.1,\"color\":\"rgba(0, 0, 0, 0.300)\"},\"size\":6.0,\"color\":\"rgba(0, 128, 0, 0.300)\"},\"y\":[800.0],\"line\":{\"width\":1,\"dash\":\"solid\",\"color\":\"rgba(0, 128, 0, 1.000)\",\"shape\":\"linear\"},\"mode\":\"lines+markers\",\"x\":[800.0]},{\"yaxis\":\"y\",\"showlegend\":true,\"type\":\"scatter3d\",\"xaxis\":\"x\",\"name\":\"6\",\"z\":[0.0],\"marker\":{\"symbol\":\"circle\",\"line\":{\"width\":0.1,\"color\":\"rgba(0, 0, 0, 0.300)\"},\"size\":6.0,\"color\":\"rgba(0, 128, 0, 0.300)\"},\"y\":[200.0],\"line\":{\"width\":1,\"dash\":\"solid\",\"color\":\"rgba(0, 128, 0, 1.000)\",\"shape\":\"linear\"},\"mode\":\"lines+markers\",\"x\":[0.0]},{\"yaxis\":\"y\",\"showlegend\":true,\"type\":\"scatter3d\",\"xaxis\":\"x\",\"name\":\"7\",\"z\":[1.5],\"marker\":{\"symbol\":\"circle\",\"line\":{\"width\":0.1,\"color\":\"rgba(0, 0, 0, 0.300)\"},\"size\":6.0,\"color\":\"rgba(255, 0, 0, 0.300)\"},\"y\":[200.0],\"line\":{\"width\":1,\"dash\":\"solid\",\"color\":\"rgba(0, 0, 255, 1.000)\",\"shape\":\"linear\"},\"mode\":\"lines+markers\",\"x\":[0.0]},{\"yaxis\":\"y\",\"showlegend\":true,\"type\":\"scatter3d\",\"xaxis\":\"x\",\"name\":\"8\",\"z\":[1.5],\"marker\":{\"symbol\":\"circle\",\"line\":{\"width\":0.1,\"color\":\"rgba(0, 0, 0, 0.300)\"},\"size\":6.0,\"color\":\"rgba(255, 0, 0, 0.300)\"},\"y\":[200.0],\"line\":{\"width\":1,\"dash\":\"solid\",\"color\":\"rgba(0, 0, 255, 1.000)\",\"shape\":\"linear\"},\"mode\":\"lines+markers\",\"x\":[800.0]},{\"yaxis\":\"y\",\"showlegend\":true,\"type\":\"scatter3d\",\"xaxis\":\"x\",\"name\":\"9\",\"z\":[1.5],\"marker\":{\"symbol\":\"circle\",\"line\":{\"width\":0.1,\"color\":\"rgba(0, 0, 0, 0.300)\"},\"size\":6.0,\"color\":\"rgba(255, 0, 0, 0.300)\"},\"y\":[800.0],\"line\":{\"width\":1,\"dash\":\"solid\",\"color\":\"rgba(0, 0, 255, 1.000)\",\"shape\":\"linear\"},\"mode\":\"lines+markers\",\"x\":[800.0]},{\"yaxis\":\"y\",\"y\":[204.0,204.0,196.0,196.0,204.0,204.0,204.0,196.0,196.0,204.0],\"showlegend\":true,\"name\":\"10\",\"type\":\"scatter3d\",\"xaxis\":\"x\",\"z\":[1.0,2.0,2.0,1.0,1.0,1.0,2.0,2.0,1.0,1.0],\"x\":[0.0,0.0,0.0,0.0,0.0,800.0,800.0,800.0,800.0,800.0],\"line\":{\"width\":1,\"dash\":\"solid\",\"color\":\"rgba(0, 0, 255, 1.000)\",\"shape\":\"linear\"},\"mode\":\"lines\"},{\"yaxis\":\"y\",\"y\":[204.0,204.0],\"showlegend\":true,\"name\":\"11\",\"type\":\"scatter3d\",\"xaxis\":\"x\",\"z\":[2.0,2.0],\"x\":[0.0,800.0],\"line\":{\"width\":1,\"dash\":\"solid\",\"color\":\"rgba(0, 0, 255, 1.000)\",\"shape\":\"linear\"},\"mode\":\"lines\"},{\"yaxis\":\"y\",\"y\":[196.0,196.0],\"showlegend\":true,\"name\":\"12\",\"type\":\"scatter3d\",\"xaxis\":\"x\",\"z\":[2.0,2.0],\"x\":[0.0,800.0],\"line\":{\"width\":1,\"dash\":\"solid\",\"color\":\"rgba(0, 0, 255, 1.000)\",\"shape\":\"linear\"},\"mode\":\"lines\"},{\"yaxis\":\"y\",\"y\":[196.0,196.0],\"showlegend\":true,\"name\":\"13\",\"type\":\"scatter3d\",\"xaxis\":\"x\",\"z\":[1.0,1.0],\"x\":[0.0,800.0],\"line\":{\"width\":1,\"dash\":\"solid\",\"color\":\"rgba(0, 0, 255, 1.000)\",\"shape\":\"linear\"},\"mode\":\"lines\"},{\"yaxis\":\"y\",\"y\":[200.0,200.0,200.0,200.0,200.0,800.0,800.0,800.0,800.0,800.0],\"showlegend\":true,\"name\":\"14\",\"type\":\"scatter3d\",\"xaxis\":\"x\",\"z\":[1.0,2.0,2.0,1.0,1.0,1.0,2.0,2.0,1.0,1.0],\"x\":[796.0,796.0,804.0,804.0,796.0,796.0,796.0,804.0,804.0,796.0],\"line\":{\"width\":1,\"dash\":\"solid\",\"color\":\"rgba(0, 0, 255, 1.000)\",\"shape\":\"linear\"},\"mode\":\"lines\"},{\"yaxis\":\"y\",\"y\":[200.0,800.0],\"showlegend\":true,\"name\":\"15\",\"type\":\"scatter3d\",\"xaxis\":\"x\",\"z\":[2.0,2.0],\"x\":[796.0,796.0],\"line\":{\"width\":1,\"dash\":\"solid\",\"color\":\"rgba(0, 0, 255, 1.000)\",\"shape\":\"linear\"},\"mode\":\"lines\"},{\"yaxis\":\"y\",\"y\":[200.0,800.0],\"showlegend\":true,\"name\":\"16\",\"type\":\"scatter3d\",\"xaxis\":\"x\",\"z\":[2.0,2.0],\"x\":[804.0,804.0],\"line\":{\"width\":1,\"dash\":\"solid\",\"color\":\"rgba(0, 0, 255, 1.000)\",\"shape\":\"linear\"},\"mode\":\"lines\"},{\"yaxis\":\"y\",\"y\":[200.0,800.0],\"showlegend\":true,\"name\":\"17\",\"type\":\"scatter3d\",\"xaxis\":\"x\",\"z\":[1.0,1.0],\"x\":[804.0,804.0],\"line\":{\"width\":1,\"dash\":\"solid\",\"color\":\"rgba(0, 0, 255, 1.000)\",\"shape\":\"linear\"},\"mode\":\"lines\"},{\"yaxis\":\"y\",\"showlegend\":true,\"type\":\"scatter3d\",\"xaxis\":\"x\",\"name\":\"18\",\"z\":[500.7],\"marker\":{\"symbol\":\"cross\",\"line\":{\"width\":0.0,\"color\":\"rgba(0, 0, 0, 0.000)\"},\"size\":0.0,\"color\":\"rgba(255, 0, 0, 0.000)\"},\"y\":[1000.0],\"line\":{\"width\":1,\"dash\":\"solid\",\"color\":\"rgba(0, 0, 255, 1.000)\",\"shape\":\"linear\"},\"mode\":\"lines+markers\",\"x\":[1000.0]},{\"yaxis\":\"y\",\"showlegend\":true,\"type\":\"scatter3d\",\"xaxis\":\"x\",\"name\":\"19\",\"z\":[-499.3],\"marker\":{\"symbol\":\"cross\",\"line\":{\"width\":0.0,\"color\":\"rgba(0, 0, 0, 0.000)\"},\"size\":0.0,\"color\":\"rgba(255, 0, 0, 0.000)\"},\"y\":[0.0],\"line\":{\"width\":1,\"dash\":\"solid\",\"color\":\"rgba(0, 0, 255, 1.000)\",\"shape\":\"linear\"},\"mode\":\"lines+markers\",\"x\":[0.0]}],  {\"annotations\":[{\"text\":\"A FastHenry example using a reference plane\",\"y\":1.0,\"xref\":\"paper\",\"font\":{\"size\":20,\"color\":\"rgba(0, 0, 0, 1.000)\",\"family\":\"Helvetica\"},\"xanchor\":\"center\",\"x\":0.526246719160105,\"yref\":\"paper\",\"showarrow\":false,\"yanchor\":\"top\",\"rotation\":0.0}],\"width\":600,\"plot_bgcolor\":\"rgba(255, 255, 255, 1.000)\",\"scene\":{\"yaxis\":{\"type\":\"-\",\"titlefont\":{\"size\":15,\"color\":\"rgba(0, 0, 0, 1.000)\",\"family\":\"Helvetica\"},\"title\":\"\",\"tickfont\":{\"size\":11,\"color\":\"rgba(0, 0, 0, 1.000)\",\"family\":\"Helvetica\"},\"tickmode\":\"array\",\"showgrid\":true,\"tickvals\":[0.0,500.0,1000.0],\"domain\":[0.057305336832895896,0.9415463692038495],\"ticktext\":[\"0\",\"500\",\"1000\"],\"zeroline\":false,\"linecolor\":\"rgba(0, 0, 0, 1.000)\",\"tickcolor\":\"rgba(0, 0, 0, 1.000)\",\"anchor\":\"x\"},\"xaxis\":{\"type\":\"-\",\"titlefont\":{\"size\":15,\"color\":\"rgba(0, 0, 0, 1.000)\",\"family\":\"Helvetica\"},\"title\":\"\",\"tickfont\":{\"size\":11,\"color\":\"rgba(0, 0, 0, 1.000)\",\"family\":\"Helvetica\"},\"tickmode\":\"array\",\"showgrid\":true,\"tickvals\":[0.0,500.0,1000.0],\"domain\":[0.05905511811023622,0.9934383202099738],\"ticktext\":[\"0\",\"500\",\"1000\"],\"zeroline\":false,\"linecolor\":\"rgba(0, 0, 0, 1.000)\",\"tickcolor\":\"rgba(0, 0, 0, 1.000)\",\"anchor\":\"y\"},\"zaxis\":{\"type\":\"-\",\"titlefont\":{\"size\":15,\"color\":\"rgba(0, 0, 0, 1.000)\",\"family\":\"Helvetica\"},\"title\":\"\",\"tickfont\":{\"size\":11,\"color\":\"rgba(0, 0, 0, 1.000)\",\"family\":\"Helvetica\"},\"tickmode\":\"array\",\"showgrid\":true,\"tickvals\":[-400.0,-200.0,0.0,200.0,400.0],\"ticktext\":[\"-400\",\"-200\",\"0\",\"200\",\"400\"],\"zeroline\":false,\"linecolor\":\"rgba(0, 0, 0, 1.000)\",\"tickcolor\":\"rgba(0, 0, 0, 1.000)\"}},\"showlegend\":false,\"paper_bgcolor\":\"rgba(255, 255, 255, 1.000)\",\"margin\":{\"r\":0,\"l\":0,\"b\":0,\"t\":20},\"height\":400}, {showLink: false});\n",
       "\n",
       "    });\n",
       " </script>\n"
      ]
     },
     "metadata": {},
     "output_type": "display_data"
    }
   ],
   "source": [
    "using Plots; plotlyjs() # plotlyjs or plotly for interactive plot\n",
    "plot(example1);gui()"
   ]
  },
  {
   "cell_type": "code",
   "execution_count": null,
   "metadata": {
    "collapsed": true
   },
   "outputs": [],
   "source": []
  }
 ],
 "metadata": {
  "kernelspec": {
   "display_name": "Julia 0.5.0-rc3",
   "language": "julia",
   "name": "julia-0.5"
  },
  "language_info": {
   "file_extension": ".jl",
   "mimetype": "application/julia",
   "name": "julia",
   "version": "0.5.0"
  }
 },
 "nbformat": 4,
 "nbformat_minor": 0
}
