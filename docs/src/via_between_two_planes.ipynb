{
 "cells": [
  {
   "cell_type": "markdown",
   "metadata": {},
   "source": [
    "# via connection to plane example"
   ]
  },
  {
   "cell_type": "code",
   "execution_count": 1,
   "metadata": {
    "collapsed": false
   },
   "outputs": [],
   "source": [
    "using FastHenryHelper"
   ]
  },
  {
   "cell_type": "code",
   "execution_count": 2,
   "metadata": {
    "collapsed": false
   },
   "outputs": [],
   "source": [
    "const height = 1.6      # 63mil PCB\n",
    "const cu_sigma = 5.8e4\n",
    "# const cu_thick = 0.035  # 1oz copper\n",
    "const cu_thick = 0.5    # exaggerate thickness\n",
    "\n",
    "function via_connection_to_plane_example(height, cu_thick)\n",
    "    t = Title(\"via connection to plane example\")\n",
    "    u = Units(\"mm\")\n",
    "    \n",
    "    # create a via with 16 segments\n",
    "    # topequiv = false, botequiv = false will allow each segment \n",
    "    # to connect to the plane separately\n",
    "    via = viagroup(radius=2, height=height, h=cu_thick, nhinc = 1,\n",
    "                   sigma=cu_sigma, n=16, topequiv = false, botequiv = false)\n",
    "    \n",
    "    # move via into position\n",
    "    transform!(via, txyz(3.0,5.0,0.0))\n",
    "    \n",
    "    # create a line of nodes along what will be the right side of the plane\n",
    "    top_port = Array(Node,50)\n",
    "    y = 0.0\n",
    "    for i in eachindex(top_port) \n",
    "        top_port[i] = Node(10.0,y,0.0)\n",
    "        y += 0.2\n",
    "    end\n",
    "    \n",
    "    # short the line of vias.  This will be one terminal of the external port.\n",
    "    top_port_equiv = Equiv(top_port)\n",
    "    \n",
    "    # planeconnect retuns a deepcopy of the nodes, and a group of equiv's to\n",
    "    # connect them to the original nodes.\n",
    "    # via[:alltop] is an array of the 16 nodes around the top on the via\n",
    "    (top_plane_nodes, top_plane_nodes_equiv_group) = planeconnect(via[:alltop])\n",
    "    \n",
    "    \n",
    "    # create a plane with 100x100 segments.\n",
    "    # nodes connect to the external port and the top of the via\n",
    "    topplane = UniformPlane(\n",
    "        x1=10.0, y1= 10.0, z1=0.0,\n",
    "        x2= 0.0, y2= 10.0, z2=0.0,\n",
    "        x3= 0.0, y3= 0.0, z3=0.0,\n",
    "        thick = cu_thick,\n",
    "        seg1=100, seg2=100,\n",
    "        sigma = cu_sigma,\n",
    "        nhinc = 5,\n",
    "        nodes = [top_plane_nodes;top_port])\n",
    "\n",
    "    # repeat for the bottom plane\n",
    "    bot_port = Array(Node,50)\n",
    "    y = 0.0\n",
    "    for i in eachindex(bot_port) \n",
    "        bot_port[i] = Node(10.0,y,-height)\n",
    "        y += 0.2\n",
    "    end\n",
    "    bot_port_equiv = Equiv(bot_port)\n",
    "    (bot_plane_nodes,bot_plane_nodes_equiv_group) = planeconnect(via[:allbot])\n",
    "    botplane = UniformPlane(\n",
    "        x1= 0.0, y1= 0.0, z1=-height,\n",
    "        x2= 0.0, y2=10.0, z2=-height,\n",
    "        x3=10.0, y3=10.0, z3=-height,\n",
    "        thick = cu_thick,\n",
    "        seg1=100, seg2=100,\n",
    "        sigma = cu_sigma,\n",
    "        nhinc = 5,\n",
    "        nodes = [bot_plane_nodes;bot_port])\n",
    "\n",
    "    # define the external port between the two lines of nodes\n",
    "    ex = External(top_port[1],bot_port[1])\n",
    "    \n",
    "    # just want low frequency \n",
    "    f = Freq(min=0.1, max=1e9, ndec=0.05)\n",
    "    \n",
    "    e = End() # always need an end \n",
    "    \n",
    "    # return a group of the element we want for our FastHenry input file\n",
    "    Group([t; u; via;\n",
    "           topplane; top_plane_nodes_equiv_group;\n",
    "           botplane; bot_plane_nodes_equiv_group;\n",
    "           bot_port_equiv; top_port_equiv;\n",
    "           ex; f; e])\n",
    "end\n",
    "\n",
    "# call the function with pcb height and copper thickness\n",
    "via_plane_example = via_connection_to_plane_example(height, cu_thick);"
   ]
  },
  {
   "cell_type": "code",
   "execution_count": null,
   "metadata": {
    "collapsed": false
   },
   "outputs": [],
   "source": [
    "# write results to file\n",
    "io = open(\"via_to_plane.inp\",\"w+\")\n",
    "show(io,via_plane_example)\n",
    "close(io)"
   ]
  },
  {
   "cell_type": "code",
   "execution_count": null,
   "metadata": {
    "collapsed": false
   },
   "outputs": [],
   "source": [
    "# this should produce a nice visualization.\n",
    "using GLVisualize\n",
    "m = mesh(via_plane_example)\n",
    "window = glscreen()\n",
    "view(visualize(m), window)\n",
    "renderloop(window)"
   ]
  },
  {
   "cell_type": "code",
   "execution_count": null,
   "metadata": {
    "collapsed": false
   },
   "outputs": [],
   "source": [
    "# use Plots with plotly backend for interactive plot\n",
    "using Plots;plotly()\n",
    "plot(via_plane_example)"
   ]
  }
 ],
 "metadata": {
  "kernelspec": {
   "display_name": "Julia 0.4.6",
   "language": "julia",
   "name": "julia-0.4"
  },
  "language_info": {
   "file_extension": ".jl",
   "mimetype": "application/julia",
   "name": "julia",
   "version": "0.4.6"
  }
 },
 "nbformat": 4,
 "nbformat_minor": 0
}
