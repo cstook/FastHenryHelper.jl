{
 "cells": [
  {
   "cell_type": "markdown",
   "metadata": {},
   "source": [
    "# Introduction to FastHenryHelper"
   ]
  },
  {
   "cell_type": "code",
   "execution_count": 2,
   "metadata": {
    "collapsed": false
   },
   "outputs": [
    {
     "data": {
      "text/plain": [
       "Plots.PlotlyJSBackend()"
      ]
     },
     "execution_count": 2,
     "metadata": {},
     "output_type": "execute_result"
    }
   ],
   "source": [
    "using FastHenryHelper\n",
    "using Plots; plotlyjs() # using plotlyjs() backend for plots, pyplot() also works."
   ]
  },
  {
   "cell_type": "code",
   "execution_count": 3,
   "metadata": {
    "collapsed": false
   },
   "outputs": [
    {
     "data": {
      "text/plain": [
       "N_1 x=1.000000000e+01 y=0.000000000e+00 z=0.000000000e+00\n"
      ]
     },
     "execution_count": 3,
     "metadata": {},
     "output_type": "execute_result"
    }
   ],
   "source": [
    "# FastHenry commands are julia types which show thier command\n",
    "# for example\n",
    "n1 = Node(10,0,0)\n",
    "# Since a name was not specified, _1 was automatically generated.\n",
    "# x, y, and z must always be specified.  Default z is not allowed. "
   ]
  },
  {
   "cell_type": "code",
   "execution_count": 4,
   "metadata": {
    "collapsed": false
   },
   "outputs": [
    {
     "data": {
      "text/plain": [
       "Nabcd x=0.000000000e+00 y=0.000000000e+00 z=0.000000000e+00\n"
      ]
     },
     "execution_count": 4,
     "metadata": {},
     "output_type": "execute_result"
    }
   ],
   "source": [
    "# Names can be specified\n",
    "n2 = Node(:abcd,0,0,0)"
   ]
  },
  {
   "cell_type": "code",
   "execution_count": 5,
   "metadata": {
    "collapsed": false
   },
   "outputs": [
    {
     "data": {
      "text/plain": [
       "E_1 N_2 Nabcd\n",
       "+  w=1.000000000e+01 h=2.000000000e+01 nhinc=7 nwinc=5\n"
      ]
     },
     "execution_count": 5,
     "metadata": {},
     "output_type": "execute_result"
    }
   ],
   "source": [
    "# Segments connect nodes.  \n",
    "# Keyword parameters match the FastHenry keywords.\n",
    "s1 = Segment(n1, n2, w=10, h=20, nwinc=5, nhinc=7)"
   ]
  },
  {
   "cell_type": "code",
   "execution_count": 6,
   "metadata": {
    "collapsed": false
   },
   "outputs": [
    {
     "data": {
      "text/plain": [
       "E_1 N_2 Nabcd\n",
       "+  w=1.000000000e+01 h=2.000000000e+01 nhinc=7 nwinc=5\n"
      ]
     },
     "execution_count": 6,
     "metadata": {},
     "output_type": "execute_result"
    }
   ],
   "source": [
    "# Parameters may also be passed as a SegmentParameters type.\n",
    "sp1 = SegmentParameters(w=10, h=20, nwinc=5, nhinc=7)\n",
    "s1 = Segment(n1, n2, sp1)"
   ]
  },
  {
   "cell_type": "code",
   "execution_count": 7,
   "metadata": {
    "collapsed": false
   },
   "outputs": [
    {
     "data": {
      "text/plain": [
       "E_1 N_2 Nabcd\n",
       "+  w=5.000000000e+00 h=2.000000000e+00 nhinc=7 nwinc=5\n"
      ]
     },
     "execution_count": 7,
     "metadata": {},
     "output_type": "execute_result"
    }
   ],
   "source": [
    "# Speciying just the keyword parameters that change\n",
    "sp2 = SegmentParameters(sp1,w=5,h=2)\n",
    "s2 = Segment(n1, n2, sp2)"
   ]
  },
  {
   "cell_type": "code",
   "execution_count": 9,
   "metadata": {
    "collapsed": false
   },
   "outputs": [
    {
     "data": {
      "text/plain": [
       "N_1 x=1.000000000e+01 y=0.000000000e+00 z=0.000000000e+00\n",
       "Nabcd x=0.000000000e+00 y=0.000000000e+00 z=0.000000000e+00\n",
       "E_2 N_1 Nabcd\n",
       "+  w=5.000000000e+00 h=2.000000000e+00 nhinc=7 nwinc=5\n"
      ]
     },
     "execution_count": 9,
     "metadata": {},
     "output_type": "execute_result"
    }
   ],
   "source": [
    "# Elements may be collected in groups\n",
    "g1 = Group([n1,n2,s2])"
   ]
  },
  {
   "cell_type": "code",
   "execution_count": 11,
   "metadata": {
    "collapsed": false
   },
   "outputs": [
    {
     "data": {
      "text/html": [
       "<html>\n",
       "<head>\n",
       "     <script src=\"C:\\Users\\Chris\\.julia\\v0.5\\PlotlyJS\\deps\\plotly-latest.min.js\"></script>\n",
       "</head>\n",
       "<body>\n",
       "     <div id=\"9894fa45-b8bf-4427-b50c-f915a24cf9b4\" class=\"plotly-graph-div\"></div>\n",
       "\n",
       "<script>\n",
       "    window.PLOTLYENV=window.PLOTLYENV || {};\n",
       "    window.PLOTLYENV.BASE_URL=\"https://plot.ly\";\n",
       "    Plotly.newPlot('9894fa45-b8bf-4427-b50c-f915a24cf9b4', [{\"yaxis\":\"y\",\"showlegend\":true,\"type\":\"scatter3d\",\"xaxis\":\"x\",\"name\":\"1\",\"z\":[0.0],\"marker\":{\"symbol\":\"circle\",\"line\":{\"width\":0.1,\"color\":\"rgba(0, 0, 0, 0.300)\"},\"size\":6.0,\"color\":\"rgba(255, 0, 0, 0.300)\"},\"y\":[0.0],\"line\":{\"width\":1,\"dash\":\"solid\",\"color\":\"rgba(0, 0, 255, 1.000)\",\"shape\":\"linear\"},\"mode\":\"lines+markers\",\"x\":[10.0]},{\"yaxis\":\"y\",\"showlegend\":true,\"type\":\"scatter3d\",\"xaxis\":\"x\",\"name\":\"2\",\"z\":[0.0],\"marker\":{\"symbol\":\"circle\",\"line\":{\"width\":0.1,\"color\":\"rgba(0, 0, 0, 0.300)\"},\"size\":6.0,\"color\":\"rgba(255, 0, 0, 0.300)\"},\"y\":[0.0],\"line\":{\"width\":1,\"dash\":\"solid\",\"color\":\"rgba(0, 0, 255, 1.000)\",\"shape\":\"linear\"},\"mode\":\"lines+markers\",\"x\":[0.0]},{\"yaxis\":\"y\",\"y\":[-2.5,-2.5,2.5,2.5,-2.5,-2.5,-2.5,2.5,2.5,-2.5],\"showlegend\":true,\"name\":\"3\",\"type\":\"scatter3d\",\"xaxis\":\"x\",\"z\":[-1.0,1.0,1.0,-1.0,-1.0,-1.0,1.0,1.0,-1.0,-1.0],\"x\":[10.0,10.0,10.0,10.0,10.0,0.0,0.0,0.0,0.0,0.0],\"line\":{\"width\":1,\"dash\":\"solid\",\"color\":\"rgba(0, 0, 255, 1.000)\",\"shape\":\"linear\"},\"mode\":\"lines\"},{\"yaxis\":\"y\",\"y\":[-2.5,-2.5],\"showlegend\":true,\"name\":\"4\",\"type\":\"scatter3d\",\"xaxis\":\"x\",\"z\":[1.0,1.0],\"x\":[10.0,0.0],\"line\":{\"width\":1,\"dash\":\"solid\",\"color\":\"rgba(0, 0, 255, 1.000)\",\"shape\":\"linear\"},\"mode\":\"lines\"},{\"yaxis\":\"y\",\"y\":[2.5,2.5],\"showlegend\":true,\"name\":\"5\",\"type\":\"scatter3d\",\"xaxis\":\"x\",\"z\":[1.0,1.0],\"x\":[10.0,0.0],\"line\":{\"width\":1,\"dash\":\"solid\",\"color\":\"rgba(0, 0, 255, 1.000)\",\"shape\":\"linear\"},\"mode\":\"lines\"},{\"yaxis\":\"y\",\"y\":[2.5,2.5],\"showlegend\":true,\"name\":\"6\",\"type\":\"scatter3d\",\"xaxis\":\"x\",\"z\":[-1.0,-1.0],\"x\":[10.0,0.0],\"line\":{\"width\":1,\"dash\":\"solid\",\"color\":\"rgba(0, 0, 255, 1.000)\",\"shape\":\"linear\"},\"mode\":\"lines\"},{\"yaxis\":\"y\",\"showlegend\":true,\"type\":\"scatter3d\",\"xaxis\":\"x\",\"name\":\"7\",\"z\":[5.0],\"marker\":{\"symbol\":\"cross\",\"line\":{\"width\":0.0,\"color\":\"rgba(0, 0, 0, 0.000)\"},\"size\":0.0,\"color\":\"rgba(255, 0, 0, 0.000)\"},\"y\":[5.0],\"line\":{\"width\":1,\"dash\":\"solid\",\"color\":\"rgba(0, 0, 255, 1.000)\",\"shape\":\"linear\"},\"mode\":\"lines+markers\",\"x\":[10.0]},{\"yaxis\":\"y\",\"showlegend\":true,\"type\":\"scatter3d\",\"xaxis\":\"x\",\"name\":\"8\",\"z\":[-5.0],\"marker\":{\"symbol\":\"cross\",\"line\":{\"width\":0.0,\"color\":\"rgba(0, 0, 0, 0.000)\"},\"size\":0.0,\"color\":\"rgba(255, 0, 0, 0.000)\"},\"y\":[-5.0],\"line\":{\"width\":1,\"dash\":\"solid\",\"color\":\"rgba(0, 0, 255, 1.000)\",\"shape\":\"linear\"},\"mode\":\"lines+markers\",\"x\":[0.0]}],  {\"annotations\":[],\"width\":600,\"plot_bgcolor\":\"rgba(255, 255, 255, 1.000)\",\"scene\":{\"yaxis\":{\"type\":\"-\",\"titlefont\":{\"size\":15,\"color\":\"rgba(0, 0, 0, 1.000)\",\"family\":\"Helvetica\"},\"title\":\"\",\"tickfont\":{\"size\":11,\"color\":\"rgba(0, 0, 0, 1.000)\",\"family\":\"Helvetica\"},\"tickmode\":\"array\",\"showgrid\":true,\"tickvals\":[-4.0,-2.0,0.0,2.0,4.0],\"domain\":[0.057305336832895896,0.9901574803149605],\"ticktext\":[\"-4\",\"-2\",\"0\",\"2\",\"4\"],\"zeroline\":false,\"linecolor\":\"rgba(0, 0, 0, 1.000)\",\"tickcolor\":\"rgba(0, 0, 0, 1.000)\",\"anchor\":\"x\"},\"xaxis\":{\"type\":\"-\",\"titlefont\":{\"size\":15,\"color\":\"rgba(0, 0, 0, 1.000)\",\"family\":\"Helvetica\"},\"title\":\"\",\"tickfont\":{\"size\":11,\"color\":\"rgba(0, 0, 0, 1.000)\",\"family\":\"Helvetica\"},\"tickmode\":\"array\",\"showgrid\":true,\"tickvals\":[0.0,5.0,10.0],\"domain\":[0.05905511811023622,0.9934383202099738],\"ticktext\":[\"0\",\"5\",\"10\"],\"zeroline\":false,\"linecolor\":\"rgba(0, 0, 0, 1.000)\",\"tickcolor\":\"rgba(0, 0, 0, 1.000)\",\"anchor\":\"y\"},\"zaxis\":{\"type\":\"-\",\"titlefont\":{\"size\":15,\"color\":\"rgba(0, 0, 0, 1.000)\",\"family\":\"Helvetica\"},\"title\":\"\",\"tickfont\":{\"size\":11,\"color\":\"rgba(0, 0, 0, 1.000)\",\"family\":\"Helvetica\"},\"tickmode\":\"array\",\"showgrid\":true,\"tickvals\":[-4.0,-2.0,0.0,2.0,4.0],\"ticktext\":[\"-4\",\"-2\",\"0\",\"2\",\"4\"],\"zeroline\":false,\"linecolor\":\"rgba(0, 0, 0, 1.000)\",\"tickcolor\":\"rgba(0, 0, 0, 1.000)\"}},\"showlegend\":false,\"paper_bgcolor\":\"rgba(255, 255, 255, 1.000)\",\"margin\":{\"r\":0,\"l\":0,\"b\":0,\"t\":20},\"height\":400}, {showLink: false});\n",
       "\n",
       " </script>\n",
       "\n",
       "</body>\n",
       "</html>\n"
      ]
     },
     "execution_count": 11,
     "metadata": {},
     "output_type": "execute_result"
    }
   ],
   "source": [
    "# lets take a look\n",
    "plot(g1)"
   ]
  },
  {
   "cell_type": "code",
   "execution_count": 12,
   "metadata": {
    "collapsed": false
   },
   "outputs": [
    {
     "data": {
      "text/plain": [
       "N_1 x=1.000000000e+01 y=-1.414213562e+01 z=1.000000000e+01\n",
       "Nabcd x=5.000000000e+00 y=-7.071067812e+00 z=5.000000000e+00\n",
       "E_2 N_1 Nabcd\n",
       "+  w=5.000000000e+00 h=2.000000000e+00 nhinc=7 nwinc=5\n",
       "+  wx=-5.000000000e-01 wy=-7.071067812e-01 wz=-5.000000000e-01\n"
      ]
     },
     "execution_count": 12,
     "metadata": {},
     "output_type": "execute_result"
    }
   ],
   "source": [
    "# rotate group g1 π/4 around y and z azis and translate by 10 along x azis.\n",
    "transformmatrix = ry(π/4) * rz(π/4) * txyz(10,0,0)\n",
    "transform!(g1,transformmatrix)\n",
    "# note: the wx, wy, wz vector for the segment has rotated from default and all \n",
    "# automatically generated names are unique.\n",
    "g1"
   ]
  },
  {
   "cell_type": "code",
   "execution_count": 13,
   "metadata": {
    "collapsed": false
   },
   "outputs": [
    {
     "data": {
      "text/html": [
       "<html>\n",
       "<head>\n",
       "     <script src=\"C:\\Users\\Chris\\.julia\\v0.5\\PlotlyJS\\deps\\plotly-latest.min.js\"></script>\n",
       "</head>\n",
       "<body>\n",
       "     <div id=\"fb8443dd-a414-4367-aa38-c20b4d4fa0b8\" class=\"plotly-graph-div\"></div>\n",
       "\n",
       "<script>\n",
       "    window.PLOTLYENV=window.PLOTLYENV || {};\n",
       "    window.PLOTLYENV.BASE_URL=\"https://plot.ly\";\n",
       "    Plotly.newPlot('fb8443dd-a414-4367-aa38-c20b4d4fa0b8', [{\"yaxis\":\"y\",\"showlegend\":true,\"type\":\"scatter3d\",\"xaxis\":\"x\",\"name\":\"1\",\"z\":[10.0],\"marker\":{\"symbol\":\"circle\",\"line\":{\"width\":0.1,\"color\":\"rgba(0, 0, 0, 0.300)\"},\"size\":6.0,\"color\":\"rgba(255, 0, 0, 0.300)\"},\"y\":[-14.14213562373095],\"line\":{\"width\":1,\"dash\":\"solid\",\"color\":\"rgba(0, 0, 255, 1.000)\",\"shape\":\"linear\"},\"mode\":\"lines+markers\",\"x\":[10.000000000000002]},{\"yaxis\":\"y\",\"showlegend\":true,\"type\":\"scatter3d\",\"xaxis\":\"x\",\"name\":\"2\",\"z\":[5.0],\"marker\":{\"symbol\":\"circle\",\"line\":{\"width\":0.1,\"color\":\"rgba(0, 0, 0, 0.300)\"},\"size\":6.0,\"color\":\"rgba(255, 0, 0, 0.300)\"},\"y\":[-7.071067811865475],\"line\":{\"width\":1,\"dash\":\"solid\",\"color\":\"rgba(0, 0, 255, 1.000)\",\"shape\":\"linear\"},\"mode\":\"lines+markers\",\"x\":[5.000000000000001]},{\"yaxis\":\"y\",\"y\":[-15.909902576697318,-15.909902576697318,-12.37436867076458,-12.37436867076458,-15.909902576697318,-8.838834764831844,-8.838834764831844,-5.303300858899106,-5.303300858899106,-8.838834764831844],\"showlegend\":true,\"name\":\"3\",\"type\":\"scatter3d\",\"xaxis\":\"x\",\"z\":[8.042893218813452,9.457106781186548,11.957106781186548,10.542893218813452,8.042893218813452,3.0428932188134525,4.457106781186548,6.957106781186548,5.542893218813452,3.0428932188134525],\"x\":[9.45710678118655,8.042893218813454,10.542893218813454,11.95710678118655,9.45710678118655,4.457106781186548,3.0428932188134534,5.542893218813454,6.957106781186548,4.457106781186548],\"line\":{\"width\":1,\"dash\":\"solid\",\"color\":\"rgba(0, 0, 255, 1.000)\",\"shape\":\"linear\"},\"mode\":\"lines\"},{\"yaxis\":\"y\",\"y\":[-15.909902576697318,-8.838834764831844],\"showlegend\":true,\"name\":\"4\",\"type\":\"scatter3d\",\"xaxis\":\"x\",\"z\":[9.457106781186548,4.457106781186548],\"x\":[8.042893218813454,3.0428932188134534],\"line\":{\"width\":1,\"dash\":\"solid\",\"color\":\"rgba(0, 0, 255, 1.000)\",\"shape\":\"linear\"},\"mode\":\"lines\"},{\"yaxis\":\"y\",\"y\":[-12.37436867076458,-5.303300858899106],\"showlegend\":true,\"name\":\"5\",\"type\":\"scatter3d\",\"xaxis\":\"x\",\"z\":[11.957106781186548,6.957106781186548],\"x\":[10.542893218813454,5.542893218813454],\"line\":{\"width\":1,\"dash\":\"solid\",\"color\":\"rgba(0, 0, 255, 1.000)\",\"shape\":\"linear\"},\"mode\":\"lines\"},{\"yaxis\":\"y\",\"y\":[-12.37436867076458,-5.303300858899106],\"showlegend\":true,\"name\":\"6\",\"type\":\"scatter3d\",\"xaxis\":\"x\",\"z\":[10.542893218813452,5.542893218813452],\"x\":[11.95710678118655,6.957106781186548],\"line\":{\"width\":1,\"dash\":\"solid\",\"color\":\"rgba(0, 0, 255, 1.000)\",\"shape\":\"linear\"},\"mode\":\"lines\"},{\"yaxis\":\"y\",\"showlegend\":true,\"type\":\"scatter3d\",\"xaxis\":\"x\",\"name\":\"7\",\"z\":[12.803300858899107],\"marker\":{\"symbol\":\"cross\",\"line\":{\"width\":0.0,\"color\":\"rgba(0, 0, 0, 0.000)\"},\"size\":0.0,\"color\":\"rgba(255, 0, 0, 0.000)\"},\"y\":[-5.303300858899105],\"line\":{\"width\":1,\"dash\":\"solid\",\"color\":\"rgba(0, 0, 255, 1.000)\",\"shape\":\"linear\"},\"mode\":\"lines+markers\",\"x\":[12.803300858899108]},{\"yaxis\":\"y\",\"showlegend\":true,\"type\":\"scatter3d\",\"xaxis\":\"x\",\"name\":\"8\",\"z\":[2.1966991411008934],\"marker\":{\"symbol\":\"cross\",\"line\":{\"width\":0.0,\"color\":\"rgba(0, 0, 0, 0.000)\"},\"size\":0.0,\"color\":\"rgba(255, 0, 0, 0.000)\"},\"y\":[-15.909902576697318],\"line\":{\"width\":1,\"dash\":\"solid\",\"color\":\"rgba(0, 0, 255, 1.000)\",\"shape\":\"linear\"},\"mode\":\"lines+markers\",\"x\":[2.196699141100895]}],  {\"annotations\":[],\"width\":600,\"plot_bgcolor\":\"rgba(255, 255, 255, 1.000)\",\"scene\":{\"yaxis\":{\"type\":\"-\",\"titlefont\":{\"size\":15,\"color\":\"rgba(0, 0, 0, 1.000)\",\"family\":\"Helvetica\"},\"title\":\"\",\"tickfont\":{\"size\":11,\"color\":\"rgba(0, 0, 0, 1.000)\",\"family\":\"Helvetica\"},\"tickmode\":\"array\",\"showgrid\":true,\"tickvals\":[-15.0,-10.0,-5.0],\"domain\":[0.057305336832895896,0.9901574803149605],\"ticktext\":[\"-15\",\"-10\",\"-5\"],\"zeroline\":false,\"linecolor\":\"rgba(0, 0, 0, 1.000)\",\"tickcolor\":\"rgba(0, 0, 0, 1.000)\",\"anchor\":\"x\"},\"xaxis\":{\"type\":\"-\",\"titlefont\":{\"size\":15,\"color\":\"rgba(0, 0, 0, 1.000)\",\"family\":\"Helvetica\"},\"title\":\"\",\"tickfont\":{\"size\":11,\"color\":\"rgba(0, 0, 0, 1.000)\",\"family\":\"Helvetica\"},\"tickmode\":\"array\",\"showgrid\":true,\"tickvals\":[5.0,10.0],\"domain\":[0.05905511811023622,0.9934383202099738],\"ticktext\":[\"5\",\"10\"],\"zeroline\":false,\"linecolor\":\"rgba(0, 0, 0, 1.000)\",\"tickcolor\":\"rgba(0, 0, 0, 1.000)\",\"anchor\":\"y\"},\"zaxis\":{\"type\":\"-\",\"titlefont\":{\"size\":15,\"color\":\"rgba(0, 0, 0, 1.000)\",\"family\":\"Helvetica\"},\"title\":\"\",\"tickfont\":{\"size\":11,\"color\":\"rgba(0, 0, 0, 1.000)\",\"family\":\"Helvetica\"},\"tickmode\":\"array\",\"showgrid\":true,\"tickvals\":[5.0,10.0],\"ticktext\":[\"5\",\"10\"],\"zeroline\":false,\"linecolor\":\"rgba(0, 0, 0, 1.000)\",\"tickcolor\":\"rgba(0, 0, 0, 1.000)\"}},\"showlegend\":false,\"paper_bgcolor\":\"rgba(255, 255, 255, 1.000)\",\"margin\":{\"r\":0,\"l\":0,\"b\":0,\"t\":20},\"height\":400}, {showLink: false});\n",
       "\n",
       " </script>\n",
       "\n",
       "</body>\n",
       "</html>\n"
      ]
     },
     "execution_count": 13,
     "metadata": {},
     "output_type": "execute_result"
    }
   ],
   "source": [
    "plot(g1)"
   ]
  },
  {
   "cell_type": "code",
   "execution_count": 14,
   "metadata": {
    "collapsed": true
   },
   "outputs": [],
   "source": [
    "# The following example shows the use of groups to create input files\n",
    "# with repetitive geometry"
   ]
  },
  {
   "cell_type": "code",
   "execution_count": 15,
   "metadata": {
    "collapsed": false
   },
   "outputs": [
    {
     "data": {
      "text/plain": [
       "N_1 x=0.000000000e+00 y=-1.000000000e+00 z=0.000000000e+00\n",
       "N_2 x=0.000000000e+00 y=-1.000000000e+01 z=0.000000000e+00\n",
       "N_3 x=1.000000000e+01 y=-1.000000000e+01 z=0.000000000e+00\n",
       "N_4 x=1.000000000e+01 y=1.000000000e+01 z=0.000000000e+00\n",
       "N_5 x=0.000000000e+00 y=1.000000000e+01 z=0.000000000e+00\n",
       "N_6 x=0.000000000e+00 y=1.000000000e+00 z=0.000000000e+00\n",
       "E_7 N_1 N_2\n",
       "+  w=3.000000000e+00 h=2.000000000e+00\n",
       "E_8 N_2 N_3\n",
       "+  w=3.000000000e+00 h=2.000000000e+00\n",
       "E_9 N_3 N_4\n",
       "+  w=3.000000000e+00 h=2.000000000e+00\n",
       "E_10 N_4 N_5\n",
       "+  w=3.000000000e+00 h=2.000000000e+00\n",
       "E_11 N_5 N_6\n",
       "+  w=3.000000000e+00 h=2.000000000e+00\n"
      ]
     },
     "execution_count": 15,
     "metadata": {},
     "output_type": "execute_result"
    }
   ],
   "source": [
    "# create a square loop in the xy plane with a gop at the origin\n",
    "n1 = Node(0,-1,0)\n",
    "n2 = Node(0,-10,0)\n",
    "n3 = Node(10,-10,0)\n",
    "n4 = Node(10,10,0)\n",
    "n5 = Node(0,10,0)\n",
    "n6 = Node(0,1,0)\n",
    "sp = SegmentParameters(h=2,w=3)\n",
    "s1 = Segment(n1,n2,sp)\n",
    "s2 = Segment(n2,n3,sp)\n",
    "s3 = Segment(n3,n4,sp)\n",
    "s4 = Segment(n4,n5,sp)\n",
    "s5 = Segment(n5,n6,sp)\n",
    "loop = Group([n1,n2,n3,n4,n5,n6,s1,s2,s3,s4,s5])"
   ]
  },
  {
   "cell_type": "code",
   "execution_count": 16,
   "metadata": {
    "collapsed": false
   },
   "outputs": [
    {
     "data": {
      "text/html": [
       "<html>\n",
       "<head>\n",
       "     <script src=\"C:\\Users\\Chris\\.julia\\v0.5\\PlotlyJS\\deps\\plotly-latest.min.js\"></script>\n",
       "</head>\n",
       "<body>\n",
       "     <div id=\"db9378db-7c32-4d0e-899a-28ad5a53bc80\" class=\"plotly-graph-div\"></div>\n",
       "\n",
       "<script>\n",
       "    window.PLOTLYENV=window.PLOTLYENV || {};\n",
       "    window.PLOTLYENV.BASE_URL=\"https://plot.ly\";\n",
       "    Plotly.newPlot('db9378db-7c32-4d0e-899a-28ad5a53bc80', [{\"yaxis\":\"y\",\"showlegend\":true,\"type\":\"scatter3d\",\"xaxis\":\"x\",\"name\":\"1\",\"z\":[0.0],\"marker\":{\"symbol\":\"circle\",\"line\":{\"width\":0.1,\"color\":\"rgba(0, 0, 0, 0.300)\"},\"size\":6.0,\"color\":\"rgba(255, 0, 0, 0.300)\"},\"y\":[-1.0],\"line\":{\"width\":1,\"dash\":\"solid\",\"color\":\"rgba(0, 0, 255, 1.000)\",\"shape\":\"linear\"},\"mode\":\"lines+markers\",\"x\":[0.0]},{\"yaxis\":\"y\",\"showlegend\":true,\"type\":\"scatter3d\",\"xaxis\":\"x\",\"name\":\"2\",\"z\":[0.0],\"marker\":{\"symbol\":\"circle\",\"line\":{\"width\":0.1,\"color\":\"rgba(0, 0, 0, 0.300)\"},\"size\":6.0,\"color\":\"rgba(255, 0, 0, 0.300)\"},\"y\":[-10.0],\"line\":{\"width\":1,\"dash\":\"solid\",\"color\":\"rgba(0, 0, 255, 1.000)\",\"shape\":\"linear\"},\"mode\":\"lines+markers\",\"x\":[0.0]},{\"yaxis\":\"y\",\"showlegend\":true,\"type\":\"scatter3d\",\"xaxis\":\"x\",\"name\":\"3\",\"z\":[0.0],\"marker\":{\"symbol\":\"circle\",\"line\":{\"width\":0.1,\"color\":\"rgba(0, 0, 0, 0.300)\"},\"size\":6.0,\"color\":\"rgba(255, 0, 0, 0.300)\"},\"y\":[-10.0],\"line\":{\"width\":1,\"dash\":\"solid\",\"color\":\"rgba(0, 0, 255, 1.000)\",\"shape\":\"linear\"},\"mode\":\"lines+markers\",\"x\":[10.0]},{\"yaxis\":\"y\",\"showlegend\":true,\"type\":\"scatter3d\",\"xaxis\":\"x\",\"name\":\"4\",\"z\":[0.0],\"marker\":{\"symbol\":\"circle\",\"line\":{\"width\":0.1,\"color\":\"rgba(0, 0, 0, 0.300)\"},\"size\":6.0,\"color\":\"rgba(255, 0, 0, 0.300)\"},\"y\":[10.0],\"line\":{\"width\":1,\"dash\":\"solid\",\"color\":\"rgba(0, 0, 255, 1.000)\",\"shape\":\"linear\"},\"mode\":\"lines+markers\",\"x\":[10.0]},{\"yaxis\":\"y\",\"showlegend\":true,\"type\":\"scatter3d\",\"xaxis\":\"x\",\"name\":\"5\",\"z\":[0.0],\"marker\":{\"symbol\":\"circle\",\"line\":{\"width\":0.1,\"color\":\"rgba(0, 0, 0, 0.300)\"},\"size\":6.0,\"color\":\"rgba(255, 0, 0, 0.300)\"},\"y\":[10.0],\"line\":{\"width\":1,\"dash\":\"solid\",\"color\":\"rgba(0, 0, 255, 1.000)\",\"shape\":\"linear\"},\"mode\":\"lines+markers\",\"x\":[0.0]},{\"yaxis\":\"y\",\"showlegend\":true,\"type\":\"scatter3d\",\"xaxis\":\"x\",\"name\":\"6\",\"z\":[0.0],\"marker\":{\"symbol\":\"circle\",\"line\":{\"width\":0.1,\"color\":\"rgba(0, 0, 0, 0.300)\"},\"size\":6.0,\"color\":\"rgba(255, 0, 0, 0.300)\"},\"y\":[1.0],\"line\":{\"width\":1,\"dash\":\"solid\",\"color\":\"rgba(0, 0, 255, 1.000)\",\"shape\":\"linear\"},\"mode\":\"lines+markers\",\"x\":[0.0]},{\"yaxis\":\"y\",\"y\":[-1.0,-1.0,-1.0,-1.0,-1.0,-10.0,-10.0,-10.0,-10.0,-10.0],\"showlegend\":true,\"name\":\"7\",\"type\":\"scatter3d\",\"xaxis\":\"x\",\"z\":[-1.0,1.0,1.0,-1.0,-1.0,-1.0,1.0,1.0,-1.0,-1.0],\"x\":[1.5,1.5,-1.5,-1.5,1.5,1.5,1.5,-1.5,-1.5,1.5],\"line\":{\"width\":1,\"dash\":\"solid\",\"color\":\"rgba(0, 0, 255, 1.000)\",\"shape\":\"linear\"},\"mode\":\"lines\"},{\"yaxis\":\"y\",\"y\":[-1.0,-10.0],\"showlegend\":true,\"name\":\"8\",\"type\":\"scatter3d\",\"xaxis\":\"x\",\"z\":[1.0,1.0],\"x\":[1.5,1.5],\"line\":{\"width\":1,\"dash\":\"solid\",\"color\":\"rgba(0, 0, 255, 1.000)\",\"shape\":\"linear\"},\"mode\":\"lines\"},{\"yaxis\":\"y\",\"y\":[-1.0,-10.0],\"showlegend\":true,\"name\":\"9\",\"type\":\"scatter3d\",\"xaxis\":\"x\",\"z\":[1.0,1.0],\"x\":[-1.5,-1.5],\"line\":{\"width\":1,\"dash\":\"solid\",\"color\":\"rgba(0, 0, 255, 1.000)\",\"shape\":\"linear\"},\"mode\":\"lines\"},{\"yaxis\":\"y\",\"y\":[-1.0,-10.0],\"showlegend\":true,\"name\":\"10\",\"type\":\"scatter3d\",\"xaxis\":\"x\",\"z\":[-1.0,-1.0],\"x\":[-1.5,-1.5],\"line\":{\"width\":1,\"dash\":\"solid\",\"color\":\"rgba(0, 0, 255, 1.000)\",\"shape\":\"linear\"},\"mode\":\"lines\"},{\"yaxis\":\"y\",\"y\":[-8.5,-8.5,-11.5,-11.5,-8.5,-8.5,-8.5,-11.5,-11.5,-8.5],\"showlegend\":true,\"name\":\"11\",\"type\":\"scatter3d\",\"xaxis\":\"x\",\"z\":[-1.0,1.0,1.0,-1.0,-1.0,-1.0,1.0,1.0,-1.0,-1.0],\"x\":[0.0,0.0,0.0,0.0,0.0,10.0,10.0,10.0,10.0,10.0],\"line\":{\"width\":1,\"dash\":\"solid\",\"color\":\"rgba(0, 0, 255, 1.000)\",\"shape\":\"linear\"},\"mode\":\"lines\"},{\"yaxis\":\"y\",\"y\":[-8.5,-8.5],\"showlegend\":true,\"name\":\"12\",\"type\":\"scatter3d\",\"xaxis\":\"x\",\"z\":[1.0,1.0],\"x\":[0.0,10.0],\"line\":{\"width\":1,\"dash\":\"solid\",\"color\":\"rgba(0, 0, 255, 1.000)\",\"shape\":\"linear\"},\"mode\":\"lines\"},{\"yaxis\":\"y\",\"y\":[-11.5,-11.5],\"showlegend\":true,\"name\":\"13\",\"type\":\"scatter3d\",\"xaxis\":\"x\",\"z\":[1.0,1.0],\"x\":[0.0,10.0],\"line\":{\"width\":1,\"dash\":\"solid\",\"color\":\"rgba(0, 0, 255, 1.000)\",\"shape\":\"linear\"},\"mode\":\"lines\"},{\"yaxis\":\"y\",\"y\":[-11.5,-11.5],\"showlegend\":true,\"name\":\"14\",\"type\":\"scatter3d\",\"xaxis\":\"x\",\"z\":[-1.0,-1.0],\"x\":[0.0,10.0],\"line\":{\"width\":1,\"dash\":\"solid\",\"color\":\"rgba(0, 0, 255, 1.000)\",\"shape\":\"linear\"},\"mode\":\"lines\"},{\"yaxis\":\"y\",\"y\":[-10.0,-10.0,-10.0,-10.0,-10.0,10.0,10.0,10.0,10.0,10.0],\"showlegend\":true,\"name\":\"15\",\"type\":\"scatter3d\",\"xaxis\":\"x\",\"z\":[-1.0,1.0,1.0,-1.0,-1.0,-1.0,1.0,1.0,-1.0,-1.0],\"x\":[8.5,8.5,11.5,11.5,8.5,8.5,8.5,11.5,11.5,8.5],\"line\":{\"width\":1,\"dash\":\"solid\",\"color\":\"rgba(0, 0, 255, 1.000)\",\"shape\":\"linear\"},\"mode\":\"lines\"},{\"yaxis\":\"y\",\"y\":[-10.0,10.0],\"showlegend\":true,\"name\":\"16\",\"type\":\"scatter3d\",\"xaxis\":\"x\",\"z\":[1.0,1.0],\"x\":[8.5,8.5],\"line\":{\"width\":1,\"dash\":\"solid\",\"color\":\"rgba(0, 0, 255, 1.000)\",\"shape\":\"linear\"},\"mode\":\"lines\"},{\"yaxis\":\"y\",\"y\":[-10.0,10.0],\"showlegend\":true,\"name\":\"17\",\"type\":\"scatter3d\",\"xaxis\":\"x\",\"z\":[1.0,1.0],\"x\":[11.5,11.5],\"line\":{\"width\":1,\"dash\":\"solid\",\"color\":\"rgba(0, 0, 255, 1.000)\",\"shape\":\"linear\"},\"mode\":\"lines\"},{\"yaxis\":\"y\",\"y\":[-10.0,10.0],\"showlegend\":true,\"name\":\"18\",\"type\":\"scatter3d\",\"xaxis\":\"x\",\"z\":[-1.0,-1.0],\"x\":[11.5,11.5],\"line\":{\"width\":1,\"dash\":\"solid\",\"color\":\"rgba(0, 0, 255, 1.000)\",\"shape\":\"linear\"},\"mode\":\"lines\"},{\"yaxis\":\"y\",\"y\":[8.5,8.5,11.5,11.5,8.5,8.5,8.5,11.5,11.5,8.5],\"showlegend\":true,\"name\":\"19\",\"type\":\"scatter3d\",\"xaxis\":\"x\",\"z\":[-1.0,1.0,1.0,-1.0,-1.0,-1.0,1.0,1.0,-1.0,-1.0],\"x\":[10.0,10.0,10.0,10.0,10.0,0.0,0.0,0.0,0.0,0.0],\"line\":{\"width\":1,\"dash\":\"solid\",\"color\":\"rgba(0, 0, 255, 1.000)\",\"shape\":\"linear\"},\"mode\":\"lines\"},{\"yaxis\":\"y\",\"y\":[8.5,8.5],\"showlegend\":true,\"name\":\"20\",\"type\":\"scatter3d\",\"xaxis\":\"x\",\"z\":[1.0,1.0],\"x\":[10.0,0.0],\"line\":{\"width\":1,\"dash\":\"solid\",\"color\":\"rgba(0, 0, 255, 1.000)\",\"shape\":\"linear\"},\"mode\":\"lines\"},{\"yaxis\":\"y\",\"y\":[11.5,11.5],\"showlegend\":true,\"name\":\"21\",\"type\":\"scatter3d\",\"xaxis\":\"x\",\"z\":[1.0,1.0],\"x\":[10.0,0.0],\"line\":{\"width\":1,\"dash\":\"solid\",\"color\":\"rgba(0, 0, 255, 1.000)\",\"shape\":\"linear\"},\"mode\":\"lines\"},{\"yaxis\":\"y\",\"y\":[11.5,11.5],\"showlegend\":true,\"name\":\"22\",\"type\":\"scatter3d\",\"xaxis\":\"x\",\"z\":[-1.0,-1.0],\"x\":[10.0,0.0],\"line\":{\"width\":1,\"dash\":\"solid\",\"color\":\"rgba(0, 0, 255, 1.000)\",\"shape\":\"linear\"},\"mode\":\"lines\"},{\"yaxis\":\"y\",\"y\":[10.0,10.0,10.0,10.0,10.0,1.0,1.0,1.0,1.0,1.0],\"showlegend\":true,\"name\":\"23\",\"type\":\"scatter3d\",\"xaxis\":\"x\",\"z\":[-1.0,1.0,1.0,-1.0,-1.0,-1.0,1.0,1.0,-1.0,-1.0],\"x\":[1.5,1.5,-1.5,-1.5,1.5,1.5,1.5,-1.5,-1.5,1.5],\"line\":{\"width\":1,\"dash\":\"solid\",\"color\":\"rgba(0, 0, 255, 1.000)\",\"shape\":\"linear\"},\"mode\":\"lines\"},{\"yaxis\":\"y\",\"y\":[10.0,1.0],\"showlegend\":true,\"name\":\"24\",\"type\":\"scatter3d\",\"xaxis\":\"x\",\"z\":[1.0,1.0],\"x\":[1.5,1.5],\"line\":{\"width\":1,\"dash\":\"solid\",\"color\":\"rgba(0, 0, 255, 1.000)\",\"shape\":\"linear\"},\"mode\":\"lines\"},{\"yaxis\":\"y\",\"y\":[10.0,1.0],\"showlegend\":true,\"name\":\"25\",\"type\":\"scatter3d\",\"xaxis\":\"x\",\"z\":[1.0,1.0],\"x\":[-1.5,-1.5],\"line\":{\"width\":1,\"dash\":\"solid\",\"color\":\"rgba(0, 0, 255, 1.000)\",\"shape\":\"linear\"},\"mode\":\"lines\"},{\"yaxis\":\"y\",\"y\":[10.0,1.0],\"showlegend\":true,\"name\":\"26\",\"type\":\"scatter3d\",\"xaxis\":\"x\",\"z\":[-1.0,-1.0],\"x\":[-1.5,-1.5],\"line\":{\"width\":1,\"dash\":\"solid\",\"color\":\"rgba(0, 0, 255, 1.000)\",\"shape\":\"linear\"},\"mode\":\"lines\"},{\"yaxis\":\"y\",\"showlegend\":true,\"type\":\"scatter3d\",\"xaxis\":\"x\",\"name\":\"27\",\"z\":[11.5],\"marker\":{\"symbol\":\"cross\",\"line\":{\"width\":0.0,\"color\":\"rgba(0, 0, 0, 0.000)\"},\"size\":0.0,\"color\":\"rgba(255, 0, 0, 0.000)\"},\"y\":[11.5],\"line\":{\"width\":1,\"dash\":\"solid\",\"color\":\"rgba(0, 0, 255, 1.000)\",\"shape\":\"linear\"},\"mode\":\"lines+markers\",\"x\":[16.5]},{\"yaxis\":\"y\",\"showlegend\":true,\"type\":\"scatter3d\",\"xaxis\":\"x\",\"name\":\"28\",\"z\":[-11.5],\"marker\":{\"symbol\":\"cross\",\"line\":{\"width\":0.0,\"color\":\"rgba(0, 0, 0, 0.000)\"},\"size\":0.0,\"color\":\"rgba(255, 0, 0, 0.000)\"},\"y\":[-11.5],\"line\":{\"width\":1,\"dash\":\"solid\",\"color\":\"rgba(0, 0, 255, 1.000)\",\"shape\":\"linear\"},\"mode\":\"lines+markers\",\"x\":[-6.5]}],  {\"annotations\":[],\"width\":600,\"plot_bgcolor\":\"rgba(255, 255, 255, 1.000)\",\"scene\":{\"yaxis\":{\"type\":\"-\",\"titlefont\":{\"size\":15,\"color\":\"rgba(0, 0, 0, 1.000)\",\"family\":\"Helvetica\"},\"title\":\"\",\"tickfont\":{\"size\":11,\"color\":\"rgba(0, 0, 0, 1.000)\",\"family\":\"Helvetica\"},\"tickmode\":\"array\",\"showgrid\":true,\"tickvals\":[-10.0,0.0,10.0],\"domain\":[0.057305336832895896,0.9901574803149605],\"ticktext\":[\"-10\",\"0\",\"10\"],\"zeroline\":false,\"linecolor\":\"rgba(0, 0, 0, 1.000)\",\"tickcolor\":\"rgba(0, 0, 0, 1.000)\",\"anchor\":\"x\"},\"xaxis\":{\"type\":\"-\",\"titlefont\":{\"size\":15,\"color\":\"rgba(0, 0, 0, 1.000)\",\"family\":\"Helvetica\"},\"title\":\"\",\"tickfont\":{\"size\":11,\"color\":\"rgba(0, 0, 0, 1.000)\",\"family\":\"Helvetica\"},\"tickmode\":\"array\",\"showgrid\":true,\"tickvals\":[0.0,10.0],\"domain\":[0.05905511811023622,0.9934383202099738],\"ticktext\":[\"0\",\"10\"],\"zeroline\":false,\"linecolor\":\"rgba(0, 0, 0, 1.000)\",\"tickcolor\":\"rgba(0, 0, 0, 1.000)\",\"anchor\":\"y\"},\"zaxis\":{\"type\":\"-\",\"titlefont\":{\"size\":15,\"color\":\"rgba(0, 0, 0, 1.000)\",\"family\":\"Helvetica\"},\"title\":\"\",\"tickfont\":{\"size\":11,\"color\":\"rgba(0, 0, 0, 1.000)\",\"family\":\"Helvetica\"},\"tickmode\":\"array\",\"showgrid\":true,\"tickvals\":[-10.0,0.0,10.0],\"ticktext\":[\"-10\",\"0\",\"10\"],\"zeroline\":false,\"linecolor\":\"rgba(0, 0, 0, 1.000)\",\"tickcolor\":\"rgba(0, 0, 0, 1.000)\"}},\"showlegend\":false,\"paper_bgcolor\":\"rgba(255, 255, 255, 1.000)\",\"margin\":{\"r\":0,\"l\":0,\"b\":0,\"t\":20},\"height\":400}, {showLink: false});\n",
       "\n",
       " </script>\n",
       "\n",
       "</body>\n",
       "</html>\n"
      ]
     },
     "execution_count": 16,
     "metadata": {},
     "output_type": "execute_result"
    }
   ],
   "source": [
    "plot(loop)"
   ]
  },
  {
   "cell_type": "code",
   "execution_count": 17,
   "metadata": {
    "collapsed": false
   },
   "outputs": [],
   "source": [
    "# define n1 and n6 as terminals of the group \n",
    "t = terms(loop)\n",
    "push!(t,:a=>n1)\n",
    "push!(t,:b=>n6);"
   ]
  },
  {
   "cell_type": "code",
   "execution_count": 18,
   "metadata": {
    "collapsed": false
   },
   "outputs": [],
   "source": [
    "# the loop with terminals could have been defined on one line\n",
    "loop = Group([n1,n2,n3,n4,n5,n6,s1,s2,s3,s4,s5],Dict(:a=>n1,:b=>n6));"
   ]
  },
  {
   "cell_type": "code",
   "execution_count": 19,
   "metadata": {
    "collapsed": false
   },
   "outputs": [],
   "source": [
    "# shift loop 5 along x axis\n",
    "transform!(loop,txyz(5,0,0))"
   ]
  },
  {
   "cell_type": "code",
   "execution_count": 20,
   "metadata": {
    "collapsed": true
   },
   "outputs": [],
   "source": [
    "# create array of 8 loops each rotated π/4 around y axis\n",
    "tm = ry(π/4)\n",
    "loops = []\n",
    "for i in 1:8\n",
    "    transform!(loop,tm)\n",
    "    push!(loops,deepcopy(loop))\n",
    "end"
   ]
  },
  {
   "cell_type": "code",
   "execution_count": 21,
   "metadata": {
    "collapsed": false
   },
   "outputs": [
    {
     "data": {
      "text/plain": [
       "N_1 x=3.535533906e+00 y=-1.000000000e+00 z=3.535533906e+00\n",
       "N_2 x=3.535533906e+00 y=-1.000000000e+01 z=3.535533906e+00\n",
       "N_3 x=1.060660172e+01 y=-1.000000000e+01 z=1.060660172e+01\n",
       "N_4 x=1.060660172e+01 y=1.000000000e+01 z=1.060660172e+01\n",
       "N_5 x=3.535533906e+00 y=1.000000000e+01 z=3.535533906e+00\n",
       "N_6 x=3.535533906e+00 y=1.000000000e+00 z=3.535533906e+00\n",
       "E_7 N_1 N_2\n",
       "+  w=3.000000000e+00 h=2.000000000e+00\n",
       "+  wx=7.071067812e-01 wy=0.000000000e+00 wz=7.071067812e-01\n",
       "E_8 N_2 N_3\n",
       "+  w=3.000000000e+00 h=2.000000000e+00\n",
       "+  wx=0.000000000e+00 wy=1.000000000e+00 wz=0.000000000e+00\n",
       "E_9 N_3 N_4\n",
       "+  w=3.000000000e+00 h=2.000000000e+00\n",
       "+  wx=-7.071067812e-01 wy=0.000000000e+00 wz=-7.071067812e-01\n",
       "E_10 N_4 N_5\n",
       "+  w=3.000000000e+00 h=2.000000000e+00\n",
       "+  wx=0.000000000e+00 wy=-1.000000000e+00 wz=0.000000000e+00\n",
       "E_11 N_5 N_6\n",
       "+  w=3.000000000e+00 h=2.000000000e+00\n",
       "+  wx=7.071067812e-01 wy=0.000000000e+00 wz=7.071067812e-01\n",
       "N_12 x=8.873450063e-16 y=-1.000000000e+00 z=5.000000000e+00\n",
       "N_13 x=8.873450063e-16 y=-1.000000000e+01 z=5.000000000e+00\n",
       "N_14 x=2.531964301e-15 y=-1.000000000e+01 z=1.500000000e+01\n",
       "N_15 x=2.531964301e-15 y=1.000000000e+01 z=1.500000000e+01\n",
       "N_16 x=8.873450063e-16 y=1.000000000e+01 z=5.000000000e+00\n",
       "N_17 x=8.873450063e-16 y=1.000000000e+00 z=5.000000000e+00\n",
       "E_18 N_12 N_13\n",
       "+  w=3.000000000e+00 h=2.000000000e+00\n",
       "+  wx=2.220446049e-16 wy=0.000000000e+00 wz=1.000000000e+00\n",
       "E_19 N_13 N_14\n",
       "+  w=3.000000000e+00 h=2.000000000e+00\n",
       "+  wx=0.000000000e+00 wy=1.000000000e+00 wz=0.000000000e+00\n",
       "E_20 N_14 N_15\n",
       "+  w=3.000000000e+00 h=2.000000000e+00\n",
       "+  wx=-2.220446049e-16 wy=0.000000000e+00 wz=-1.000000000e+00\n",
       "E_21 N_15 N_16\n",
       "+  w=3.000000000e+00 h=2.000000000e+00\n",
       "+  wx=0.000000000e+00 wy=-1.000000000e+00 wz=0.000000000e+00\n",
       "E_22 N_16 N_17\n",
       "+  w=3.000000000e+00 h=2.000000000e+00\n",
       "+  wx=2.220446049e-16 wy=0.000000000e+00 wz=1.000000000e+00\n",
       "N_23 x=-3.535533906e+00 y=-1.000000000e+00 z=3.535533906e+00\n",
       "N_24 x=-3.535533906e+00 y=-1.000000000e+01 z=3.535533906e+00\n",
       "N_25 x=-1.060660172e+01 y=-1.000000000e+01 z=1.060660172e+01\n",
       "N_26 x=-1.060660172e+01 y=1.000000000e+01 z=1.060660172e+01\n",
       "N_27 x=-3.535533906e+00 y=1.000000000e+01 z=3.535533906e+00\n",
       "N_28 x=-3.535533906e+00 y=1.000000000e+00 z=3.535533906e+00\n",
       "E_29 N_23 N_24\n",
       "+  w=3.000000000e+00 h=2.000000000e+00\n",
       "+  wx=-7.071067812e-01 wy=0.000000000e+00 wz=7.071067812e-01\n",
       "E_30 N_24 N_25\n",
       "+  w=3.000000000e+00 h=2.000000000e+00\n",
       "+  wx=0.000000000e+00 wy=1.000000000e+00 wz=0.000000000e+00\n",
       "E_31 N_25 N_26\n",
       "+  w=3.000000000e+00 h=2.000000000e+00\n",
       "+  wx=7.071067812e-01 wy=0.000000000e+00 wz=-7.071067812e-01\n",
       "E_32 N_26 N_27\n",
       "+  w=3.000000000e+00 h=2.000000000e+00\n",
       "+  wx=0.000000000e+00 wy=-1.000000000e+00 wz=0.000000000e+00\n",
       "E_33 N_27 N_28\n",
       "+  w=3.000000000e+00 h=2.000000000e+00\n",
       "+  wx=-7.071067812e-01 wy=0.000000000e+00 wz=7.071067812e-01\n",
       "N_34 x=-5.000000000e+00 y=-1.000000000e+00 z=1.779501213e-15\n",
       "N_35 x=-5.000000000e+00 y=-1.000000000e+01 z=1.779501213e-15\n",
       "N_36 x=-1.500000000e+01 y=-1.000000000e+01 z=4.710466656e-15\n",
       "N_37 x=-1.500000000e+01 y=1.000000000e+01 z=4.710466656e-15\n",
       "N_38 x=-5.000000000e+00 y=1.000000000e+01 z=1.779501213e-15\n",
       "N_39 x=-5.000000000e+00 y=1.000000000e+00 z=1.779501213e-15\n",
       "E_40 N_34 N_35\n",
       "+  w=3.000000000e+00 h=2.000000000e+00\n",
       "+  wx=-1.000000000e+00 wy=0.000000000e+00 wz=2.775557562e-16\n",
       "E_41 N_35 N_36\n",
       "+  w=3.000000000e+00 h=2.000000000e+00\n",
       "+  wx=0.000000000e+00 wy=1.000000000e+00 wz=0.000000000e+00\n",
       "E_42 N_36 N_37\n",
       "+  w=3.000000000e+00 h=2.000000000e+00\n",
       "+  wx=1.000000000e+00 wy=0.000000000e+00 wz=-2.775557562e-16\n",
       "E_43 N_37 N_38\n",
       "+  w=3.000000000e+00 h=2.000000000e+00\n",
       "+  wx=0.000000000e+00 wy=-1.000000000e+00 wz=0.000000000e+00\n",
       "E_44 N_38 N_39\n",
       "+  w=3.000000000e+00 h=2.000000000e+00\n",
       "+  wx=-1.000000000e+00 wy=0.000000000e+00 wz=2.775557562e-16\n",
       "N_45 x=-3.535533906e+00 y=-1.000000000e+00 z=-3.535533906e+00\n",
       "N_46 x=-3.535533906e+00 y=-1.000000000e+01 z=-3.535533906e+00\n",
       "N_47 x=-1.060660172e+01 y=-1.000000000e+01 z=-1.060660172e+01\n",
       "N_48 x=-1.060660172e+01 y=1.000000000e+01 z=-1.060660172e+01\n",
       "N_49 x=-3.535533906e+00 y=1.000000000e+01 z=-3.535533906e+00\n",
       "N_50 x=-3.535533906e+00 y=1.000000000e+00 z=-3.535533906e+00\n",
       "E_51 N_45 N_46\n",
       "+  w=3.000000000e+00 h=2.000000000e+00\n",
       "+  wx=-7.071067812e-01 wy=0.000000000e+00 wz=-7.071067812e-01\n",
       "E_52 N_46 N_47\n",
       "+  w=3.000000000e+00 h=2.000000000e+00\n",
       "+  wx=0.000000000e+00 wy=1.000000000e+00 wz=0.000000000e+00\n",
       "E_53 N_47 N_48\n",
       "+  w=3.000000000e+00 h=2.000000000e+00\n",
       "+  wx=7.071067812e-01 wy=0.000000000e+00 wz=7.071067812e-01\n",
       "E_54 N_48 N_49\n",
       "+  w=3.000000000e+00 h=2.000000000e+00\n",
       "+  wx=0.000000000e+00 wy=-1.000000000e+00 wz=0.000000000e+00\n",
       "E_55 N_49 N_50\n",
       "+  w=3.000000000e+00 h=2.000000000e+00\n",
       "+  wx=-7.071067812e-01 wy=0.000000000e+00 wz=-7.071067812e-01\n",
       "N_56 x=-2.717578901e-15 y=-1.000000000e+00 z=-5.000000000e+00\n",
       "N_57 x=-2.717578901e-15 y=-1.000000000e+01 z=-5.000000000e+00\n",
       "N_58 x=-5.932290654e-15 y=-1.000000000e+01 z=-1.500000000e+01\n",
       "N_59 x=-5.932290654e-15 y=1.000000000e+01 z=-1.500000000e+01\n",
       "N_60 x=-2.717578901e-15 y=1.000000000e+01 z=-5.000000000e+00\n",
       "N_61 x=-2.717578901e-15 y=1.000000000e+00 z=-5.000000000e+00\n",
       "E_62 N_56 N_57\n",
       "+  w=3.000000000e+00 h=2.000000000e+00\n",
       "+  wx=-4.440892099e-16 wy=0.000000000e+00 wz=-1.000000000e+00\n",
       "E_63 N_57 N_58\n",
       "+  w=3.000000000e+00 h=2.000000000e+00\n",
       "+  wx=0.000000000e+00 wy=1.000000000e+00 wz=0.000000000e+00\n",
       "E_64 N_58 N_59\n",
       "+  w=3.000000000e+00 h=2.000000000e+00\n",
       "+  wx=4.440892099e-16 wy=0.000000000e+00 wz=1.000000000e+00\n",
       "E_65 N_59 N_60\n",
       "+  w=3.000000000e+00 h=2.000000000e+00\n",
       "+  wx=0.000000000e+00 wy=-1.000000000e+00 wz=0.000000000e+00\n",
       "E_66 N_60 N_61\n",
       "+  w=3.000000000e+00 h=2.000000000e+00\n",
       "+  wx=-4.440892099e-16 wy=0.000000000e+00 wz=-1.000000000e+00\n",
       "N_67 x=3.535533906e+00 y=-1.000000000e+00 z=-3.535533906e+00\n",
       "N_68 x=3.535533906e+00 y=-1.000000000e+01 z=-3.535533906e+00\n",
       "N_69 x=1.060660172e+01 y=-1.000000000e+01 z=-1.060660172e+01\n",
       "N_70 x=1.060660172e+01 y=1.000000000e+01 z=-1.060660172e+01\n",
       "N_71 x=3.535533906e+00 y=1.000000000e+01 z=-3.535533906e+00\n",
       "N_72 x=3.535533906e+00 y=1.000000000e+00 z=-3.535533906e+00\n",
       "E_73 N_67 N_68\n",
       "+  w=3.000000000e+00 h=2.000000000e+00\n",
       "+  wx=7.071067812e-01 wy=0.000000000e+00 wz=-7.071067812e-01\n",
       "E_74 N_68 N_69\n",
       "+  w=3.000000000e+00 h=2.000000000e+00\n",
       "+  wx=0.000000000e+00 wy=1.000000000e+00 wz=0.000000000e+00\n",
       "E_75 N_69 N_70\n",
       "+  w=3.000000000e+00 h=2.000000000e+00\n",
       "+  wx=-7.071067812e-01 wy=0.000000000e+00 wz=7.071067812e-01\n",
       "E_76 N_70 N_71\n",
       "+  w=3.000000000e+00 h=2.000000000e+00\n",
       "+  wx=0.000000000e+00 wy=-1.000000000e+00 wz=0.000000000e+00\n",
       "E_77 N_71 N_72\n",
       "+  w=3.000000000e+00 h=2.000000000e+00\n",
       "+  wx=7.071067812e-01 wy=0.000000000e+00 wz=-7.071067812e-01\n",
       "N_78 x=5.000000000e+00 y=-1.000000000e+00 z=-3.609735108e-15\n",
       "N_79 x=5.000000000e+00 y=-1.000000000e+01 z=-3.609735108e-15\n",
       "N_80 x=1.500000000e+01 y=-1.000000000e+01 z=-8.631075882e-15\n",
       "N_81 x=1.500000000e+01 y=1.000000000e+01 z=-8.631075882e-15\n",
       "N_82 x=5.000000000e+00 y=1.000000000e+01 z=-3.609735108e-15\n",
       "N_83 x=5.000000000e+00 y=1.000000000e+00 z=-3.609735108e-15\n",
       "E_84 N_78 N_79\n",
       "+  w=3.000000000e+00 h=2.000000000e+00\n",
       "+  wx=1.000000000e+00 wy=0.000000000e+00 wz=-6.661338148e-16\n",
       "E_85 N_79 N_80\n",
       "+  w=3.000000000e+00 h=2.000000000e+00\n",
       "+  wx=0.000000000e+00 wy=1.000000000e+00 wz=0.000000000e+00\n",
       "E_86 N_80 N_81\n",
       "+  w=3.000000000e+00 h=2.000000000e+00\n",
       "+  wx=-1.000000000e+00 wy=0.000000000e+00 wz=6.661338148e-16\n",
       "E_87 N_81 N_82\n",
       "+  w=3.000000000e+00 h=2.000000000e+00\n",
       "+  wx=0.000000000e+00 wy=-1.000000000e+00 wz=0.000000000e+00\n",
       "E_88 N_82 N_83\n",
       "+  w=3.000000000e+00 h=2.000000000e+00\n",
       "+  wx=1.000000000e+00 wy=0.000000000e+00 wz=-6.661338148e-16\n"
      ]
     },
     "execution_count": 21,
     "metadata": {},
     "output_type": "execute_result"
    }
   ],
   "source": [
    "# create a group of the loops\n",
    "loopsgroup = Group(loops)"
   ]
  },
  {
   "cell_type": "code",
   "execution_count": 22,
   "metadata": {
    "collapsed": false
   },
   "outputs": [],
   "source": [
    "plot(loopsgroup)"
   ]
  },
  {
   "cell_type": "code",
   "execution_count": 23,
   "metadata": {
    "collapsed": false
   },
   "outputs": [
    {
     "data": {
      "text/plain": [
       ".external N_1 N_2 \n",
       ".external N_3 N_4 \n",
       ".external N_5 N_6 \n",
       ".external N_7 N_8 \n",
       ".external N_9 N_10 \n",
       ".external N_11 N_12 \n",
       ".external N_13 N_14 \n",
       ".external N_15 N_16 \n"
      ]
     },
     "execution_count": 23,
     "metadata": {},
     "output_type": "execute_result"
    }
   ],
   "source": [
    "# define a port for each loop\n",
    "ex = []\n",
    "for loop in loops\n",
    "    push!(ex, External(loop[:a],loop[:b]))  # use terminals we defined\n",
    "end\n",
    "externalgroup = Group(ex)"
   ]
  },
  {
   "cell_type": "code",
   "execution_count": 24,
   "metadata": {
    "collapsed": false
   },
   "outputs": [
    {
     "data": {
      "text/plain": [
       ".units mm\n",
       ".default\n",
       "+  nhinc=5 nwinc=7\n",
       "+  sigma=6.210000000e+04\n",
       "N_1 x=3.535533906e+00 y=-1.000000000e+00 z=3.535533906e+00\n",
       "N_2 x=3.535533906e+00 y=-1.000000000e+01 z=3.535533906e+00\n",
       "N_3 x=1.060660172e+01 y=-1.000000000e+01 z=1.060660172e+01\n",
       "N_4 x=1.060660172e+01 y=1.000000000e+01 z=1.060660172e+01\n",
       "N_5 x=3.535533906e+00 y=1.000000000e+01 z=3.535533906e+00\n",
       "N_6 x=3.535533906e+00 y=1.000000000e+00 z=3.535533906e+00\n",
       "E_7 N_1 N_2\n",
       "+  w=3.000000000e+00 h=2.000000000e+00\n",
       "+  wx=7.071067812e-01 wy=0.000000000e+00 wz=7.071067812e-01\n",
       "E_8 N_2 N_3\n",
       "+  w=3.000000000e+00 h=2.000000000e+00\n",
       "+  wx=0.000000000e+00 wy=1.000000000e+00 wz=0.000000000e+00\n",
       "E_9 N_3 N_4\n",
       "+  w=3.000000000e+00 h=2.000000000e+00\n",
       "+  wx=-7.071067812e-01 wy=0.000000000e+00 wz=-7.071067812e-01\n",
       "E_10 N_4 N_5\n",
       "+  w=3.000000000e+00 h=2.000000000e+00\n",
       "+  wx=0.000000000e+00 wy=-1.000000000e+00 wz=0.000000000e+00\n",
       "E_11 N_5 N_6\n",
       "+  w=3.000000000e+00 h=2.000000000e+00\n",
       "+  wx=7.071067812e-01 wy=0.000000000e+00 wz=7.071067812e-01\n",
       "N_12 x=8.873450063e-16 y=-1.000000000e+00 z=5.000000000e+00\n",
       "N_13 x=8.873450063e-16 y=-1.000000000e+01 z=5.000000000e+00\n",
       "N_14 x=2.531964301e-15 y=-1.000000000e+01 z=1.500000000e+01\n",
       "N_15 x=2.531964301e-15 y=1.000000000e+01 z=1.500000000e+01\n",
       "N_16 x=8.873450063e-16 y=1.000000000e+01 z=5.000000000e+00\n",
       "N_17 x=8.873450063e-16 y=1.000000000e+00 z=5.000000000e+00\n",
       "E_18 N_12 N_13\n",
       "+  w=3.000000000e+00 h=2.000000000e+00\n",
       "+  wx=2.220446049e-16 wy=0.000000000e+00 wz=1.000000000e+00\n",
       "E_19 N_13 N_14\n",
       "+  w=3.000000000e+00 h=2.000000000e+00\n",
       "+  wx=0.000000000e+00 wy=1.000000000e+00 wz=0.000000000e+00\n",
       "E_20 N_14 N_15\n",
       "+  w=3.000000000e+00 h=2.000000000e+00\n",
       "+  wx=-2.220446049e-16 wy=0.000000000e+00 wz=-1.000000000e+00\n",
       "E_21 N_15 N_16\n",
       "+  w=3.000000000e+00 h=2.000000000e+00\n",
       "+  wx=0.000000000e+00 wy=-1.000000000e+00 wz=0.000000000e+00\n",
       "E_22 N_16 N_17\n",
       "+  w=3.000000000e+00 h=2.000000000e+00\n",
       "+  wx=2.220446049e-16 wy=0.000000000e+00 wz=1.000000000e+00\n",
       "N_23 x=-3.535533906e+00 y=-1.000000000e+00 z=3.535533906e+00\n",
       "N_24 x=-3.535533906e+00 y=-1.000000000e+01 z=3.535533906e+00\n",
       "N_25 x=-1.060660172e+01 y=-1.000000000e+01 z=1.060660172e+01\n",
       "N_26 x=-1.060660172e+01 y=1.000000000e+01 z=1.060660172e+01\n",
       "N_27 x=-3.535533906e+00 y=1.000000000e+01 z=3.535533906e+00\n",
       "N_28 x=-3.535533906e+00 y=1.000000000e+00 z=3.535533906e+00\n",
       "E_29 N_23 N_24\n",
       "+  w=3.000000000e+00 h=2.000000000e+00\n",
       "+  wx=-7.071067812e-01 wy=0.000000000e+00 wz=7.071067812e-01\n",
       "E_30 N_24 N_25\n",
       "+  w=3.000000000e+00 h=2.000000000e+00\n",
       "+  wx=0.000000000e+00 wy=1.000000000e+00 wz=0.000000000e+00\n",
       "E_31 N_25 N_26\n",
       "+  w=3.000000000e+00 h=2.000000000e+00\n",
       "+  wx=7.071067812e-01 wy=0.000000000e+00 wz=-7.071067812e-01\n",
       "E_32 N_26 N_27\n",
       "+  w=3.000000000e+00 h=2.000000000e+00\n",
       "+  wx=0.000000000e+00 wy=-1.000000000e+00 wz=0.000000000e+00\n",
       "E_33 N_27 N_28\n",
       "+  w=3.000000000e+00 h=2.000000000e+00\n",
       "+  wx=-7.071067812e-01 wy=0.000000000e+00 wz=7.071067812e-01\n",
       "N_34 x=-5.000000000e+00 y=-1.000000000e+00 z=1.779501213e-15\n",
       "N_35 x=-5.000000000e+00 y=-1.000000000e+01 z=1.779501213e-15\n",
       "N_36 x=-1.500000000e+01 y=-1.000000000e+01 z=4.710466656e-15\n",
       "N_37 x=-1.500000000e+01 y=1.000000000e+01 z=4.710466656e-15\n",
       "N_38 x=-5.000000000e+00 y=1.000000000e+01 z=1.779501213e-15\n",
       "N_39 x=-5.000000000e+00 y=1.000000000e+00 z=1.779501213e-15\n",
       "E_40 N_34 N_35\n",
       "+  w=3.000000000e+00 h=2.000000000e+00\n",
       "+  wx=-1.000000000e+00 wy=0.000000000e+00 wz=2.775557562e-16\n",
       "E_41 N_35 N_36\n",
       "+  w=3.000000000e+00 h=2.000000000e+00\n",
       "+  wx=0.000000000e+00 wy=1.000000000e+00 wz=0.000000000e+00\n",
       "E_42 N_36 N_37\n",
       "+  w=3.000000000e+00 h=2.000000000e+00\n",
       "+  wx=1.000000000e+00 wy=0.000000000e+00 wz=-2.775557562e-16\n",
       "E_43 N_37 N_38\n",
       "+  w=3.000000000e+00 h=2.000000000e+00\n",
       "+  wx=0.000000000e+00 wy=-1.000000000e+00 wz=0.000000000e+00\n",
       "E_44 N_38 N_39\n",
       "+  w=3.000000000e+00 h=2.000000000e+00\n",
       "+  wx=-1.000000000e+00 wy=0.000000000e+00 wz=2.775557562e-16\n",
       "N_45 x=-3.535533906e+00 y=-1.000000000e+00 z=-3.535533906e+00\n",
       "N_46 x=-3.535533906e+00 y=-1.000000000e+01 z=-3.535533906e+00\n",
       "N_47 x=-1.060660172e+01 y=-1.000000000e+01 z=-1.060660172e+01\n",
       "N_48 x=-1.060660172e+01 y=1.000000000e+01 z=-1.060660172e+01\n",
       "N_49 x=-3.535533906e+00 y=1.000000000e+01 z=-3.535533906e+00\n",
       "N_50 x=-3.535533906e+00 y=1.000000000e+00 z=-3.535533906e+00\n",
       "E_51 N_45 N_46\n",
       "+  w=3.000000000e+00 h=2.000000000e+00\n",
       "+  wx=-7.071067812e-01 wy=0.000000000e+00 wz=-7.071067812e-01\n",
       "E_52 N_46 N_47\n",
       "+  w=3.000000000e+00 h=2.000000000e+00\n",
       "+  wx=0.000000000e+00 wy=1.000000000e+00 wz=0.000000000e+00\n",
       "E_53 N_47 N_48\n",
       "+  w=3.000000000e+00 h=2.000000000e+00\n",
       "+  wx=7.071067812e-01 wy=0.000000000e+00 wz=7.071067812e-01\n",
       "E_54 N_48 N_49\n",
       "+  w=3.000000000e+00 h=2.000000000e+00\n",
       "+  wx=0.000000000e+00 wy=-1.000000000e+00 wz=0.000000000e+00\n",
       "E_55 N_49 N_50\n",
       "+  w=3.000000000e+00 h=2.000000000e+00\n",
       "+  wx=-7.071067812e-01 wy=0.000000000e+00 wz=-7.071067812e-01\n",
       "N_56 x=-2.717578901e-15 y=-1.000000000e+00 z=-5.000000000e+00\n",
       "N_57 x=-2.717578901e-15 y=-1.000000000e+01 z=-5.000000000e+00\n",
       "N_58 x=-5.932290654e-15 y=-1.000000000e+01 z=-1.500000000e+01\n",
       "N_59 x=-5.932290654e-15 y=1.000000000e+01 z=-1.500000000e+01\n",
       "N_60 x=-2.717578901e-15 y=1.000000000e+01 z=-5.000000000e+00\n",
       "N_61 x=-2.717578901e-15 y=1.000000000e+00 z=-5.000000000e+00\n",
       "E_62 N_56 N_57\n",
       "+  w=3.000000000e+00 h=2.000000000e+00\n",
       "+  wx=-4.440892099e-16 wy=0.000000000e+00 wz=-1.000000000e+00\n",
       "E_63 N_57 N_58\n",
       "+  w=3.000000000e+00 h=2.000000000e+00\n",
       "+  wx=0.000000000e+00 wy=1.000000000e+00 wz=0.000000000e+00\n",
       "E_64 N_58 N_59\n",
       "+  w=3.000000000e+00 h=2.000000000e+00\n",
       "+  wx=4.440892099e-16 wy=0.000000000e+00 wz=1.000000000e+00\n",
       "E_65 N_59 N_60\n",
       "+  w=3.000000000e+00 h=2.000000000e+00\n",
       "+  wx=0.000000000e+00 wy=-1.000000000e+00 wz=0.000000000e+00\n",
       "E_66 N_60 N_61\n",
       "+  w=3.000000000e+00 h=2.000000000e+00\n",
       "+  wx=-4.440892099e-16 wy=0.000000000e+00 wz=-1.000000000e+00\n",
       "N_67 x=3.535533906e+00 y=-1.000000000e+00 z=-3.535533906e+00\n",
       "N_68 x=3.535533906e+00 y=-1.000000000e+01 z=-3.535533906e+00\n",
       "N_69 x=1.060660172e+01 y=-1.000000000e+01 z=-1.060660172e+01\n",
       "N_70 x=1.060660172e+01 y=1.000000000e+01 z=-1.060660172e+01\n",
       "N_71 x=3.535533906e+00 y=1.000000000e+01 z=-3.535533906e+00\n",
       "N_72 x=3.535533906e+00 y=1.000000000e+00 z=-3.535533906e+00\n",
       "E_73 N_67 N_68\n",
       "+  w=3.000000000e+00 h=2.000000000e+00\n",
       "+  wx=7.071067812e-01 wy=0.000000000e+00 wz=-7.071067812e-01\n",
       "E_74 N_68 N_69\n",
       "+  w=3.000000000e+00 h=2.000000000e+00\n",
       "+  wx=0.000000000e+00 wy=1.000000000e+00 wz=0.000000000e+00\n",
       "E_75 N_69 N_70\n",
       "+  w=3.000000000e+00 h=2.000000000e+00\n",
       "+  wx=-7.071067812e-01 wy=0.000000000e+00 wz=7.071067812e-01\n",
       "E_76 N_70 N_71\n",
       "+  w=3.000000000e+00 h=2.000000000e+00\n",
       "+  wx=0.000000000e+00 wy=-1.000000000e+00 wz=0.000000000e+00\n",
       "E_77 N_71 N_72\n",
       "+  w=3.000000000e+00 h=2.000000000e+00\n",
       "+  wx=7.071067812e-01 wy=0.000000000e+00 wz=-7.071067812e-01\n",
       "N_78 x=5.000000000e+00 y=-1.000000000e+00 z=-3.609735108e-15\n",
       "N_79 x=5.000000000e+00 y=-1.000000000e+01 z=-3.609735108e-15\n",
       "N_80 x=1.500000000e+01 y=-1.000000000e+01 z=-8.631075882e-15\n",
       "N_81 x=1.500000000e+01 y=1.000000000e+01 z=-8.631075882e-15\n",
       "N_82 x=5.000000000e+00 y=1.000000000e+01 z=-3.609735108e-15\n",
       "N_83 x=5.000000000e+00 y=1.000000000e+00 z=-3.609735108e-15\n",
       "E_84 N_78 N_79\n",
       "+  w=3.000000000e+00 h=2.000000000e+00\n",
       "+  wx=1.000000000e+00 wy=0.000000000e+00 wz=-6.661338148e-16\n",
       "E_85 N_79 N_80\n",
       "+  w=3.000000000e+00 h=2.000000000e+00\n",
       "+  wx=0.000000000e+00 wy=1.000000000e+00 wz=0.000000000e+00\n",
       "E_86 N_80 N_81\n",
       "+  w=3.000000000e+00 h=2.000000000e+00\n",
       "+  wx=-1.000000000e+00 wy=0.000000000e+00 wz=6.661338148e-16\n",
       "E_87 N_81 N_82\n",
       "+  w=3.000000000e+00 h=2.000000000e+00\n",
       "+  wx=0.000000000e+00 wy=-1.000000000e+00 wz=0.000000000e+00\n",
       "E_88 N_82 N_83\n",
       "+  w=3.000000000e+00 h=2.000000000e+00\n",
       "+  wx=1.000000000e+00 wy=0.000000000e+00 wz=-6.661338148e-16\n",
       ".external N_1 N_6 \n",
       ".external N_12 N_17 \n",
       ".external N_23 N_28 \n",
       ".external N_34 N_39 \n",
       ".external N_45 N_50 \n",
       ".external N_56 N_61 \n",
       ".external N_67 N_72 \n",
       ".external N_78 N_83 \n",
       ".freq fmin=1.000000000e-01 fmax=1.000000000e+09 ndec=5.000000000e-02\n",
       ".end\n"
      ]
     },
     "execution_count": 24,
     "metadata": {},
     "output_type": "execute_result"
    }
   ],
   "source": [
    "# create top level group\n",
    "eightloops = Group()\n",
    "push!(eightloops, Units(\"mm\"))\n",
    "push!(eightloops, Default(SegmentParameters(sigma=62.1e6*1e-3,nwinc=7, nhinc=5)))\n",
    "append!(eightloops, loopsgroup)\n",
    "append!(eightloops, externalgroup)\n",
    "push!(eightloops, Freq(min=1e-1, max=1e9, ndec=0.05))\n",
    "push!(eightloops, End())\n",
    "eightloops"
   ]
  },
  {
   "cell_type": "code",
   "execution_count": 25,
   "metadata": {
    "collapsed": false
   },
   "outputs": [],
   "source": [
    "# write to file\n",
    "open(\"eightloops.inp\",\"w\") do io\n",
    "    show(io,eightloops)\n",
    "end"
   ]
  }
 ],
 "metadata": {
  "kernelspec": {
   "display_name": "Julia 0.5.0-rc3",
   "language": "julia",
   "name": "julia-0.5"
  },
  "language_info": {
   "file_extension": ".jl",
   "mimetype": "application/julia",
   "name": "julia",
   "version": "0.5.0"
  }
 },
 "nbformat": 4,
 "nbformat_minor": 0
}
